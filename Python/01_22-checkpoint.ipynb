{
 "cells": [
  {
   "cell_type": "code",
   "execution_count": 2,
   "metadata": {
    "scrolled": true
   },
   "outputs": [
    {
     "data": {
      "text/plain": [
       "'3.6.10 |Anaconda, Inc.| (default, Jan  7 2020, 15:18:16) [MSC v.1916 64 bit (AMD64)]'"
      ]
     },
     "execution_count": 2,
     "metadata": {},
     "output_type": "execute_result"
    }
   ],
   "source": [
    "import sys\n",
    "sys.version"
   ]
  },
  {
   "cell_type": "code",
   "execution_count": 1,
   "metadata": {
    "scrolled": true
   },
   "outputs": [
    {
     "data": {
      "text/plain": [
       "'3.7.4 (default, Aug  9 2019, 18:34:13) [MSC v.1915 64 bit (AMD64)]'"
      ]
     },
     "execution_count": 1,
     "metadata": {},
     "output_type": "execute_result"
    }
   ],
   "source": [
    "import sys\n",
    "sys.version"
   ]
  },
  {
   "cell_type": "code",
   "execution_count": 3,
   "metadata": {
    "scrolled": true
   },
   "outputs": [
    {
     "name": "stdout",
     "output_type": "stream",
     "text": [
      "# packages in environment at C:\\Users\\student\\Anaconda3\\envs\\multicamp:\n",
      "#\n",
      "# Name                    Version                   Build  Channel\n",
      "backcall                  0.1.0                    pypi_0    pypi\n",
      "certifi                   2019.11.28               py36_0  \n",
      "colorama                  0.4.3                    pypi_0    pypi\n",
      "decorator                 4.4.1                    pypi_0    pypi\n",
      "ipykernel                 5.1.3                    pypi_0    pypi\n",
      "ipython                   7.11.1                   pypi_0    pypi\n",
      "ipython-genutils          0.2.0                    pypi_0    pypi\n",
      "jedi                      0.15.2                   pypi_0    pypi\n",
      "jupyter-client            5.3.4                    pypi_0    pypi\n",
      "jupyter-core              4.6.1                    pypi_0    pypi\n",
      "parso                     0.5.2                    pypi_0    pypi\n",
      "pickleshare               0.7.5                    pypi_0    pypi\n",
      "pip                       19.3.1                   py36_0  \n",
      "prompt-toolkit            3.0.2                    pypi_0    pypi\n",
      "pygments                  2.5.2                    pypi_0    pypi\n",
      "python                    3.6.10               h9f7ef89_0  \n",
      "python-dateutil           2.8.1                    pypi_0    pypi\n",
      "pywin32                   227                      pypi_0    pypi\n",
      "pyzmq                     18.1.1                   pypi_0    pypi\n",
      "setuptools                44.0.0                   py36_0  \n",
      "six                       1.14.0                   pypi_0    pypi\n",
      "sqlite                    3.30.1               he774522_0  \n",
      "tornado                   6.0.3                    pypi_0    pypi\n",
      "traitlets                 4.3.3                    pypi_0    pypi\n",
      "vc                        14.1                 h0510ff6_4  \n",
      "vs2015_runtime            14.16.27012          hf0eaf9b_1  \n",
      "wcwidth                   0.1.8                    pypi_0    pypi\n",
      "wheel                     0.33.6                   py36_0  \n",
      "wincertstore              0.2              py36h7fe50ca_0  \n"
     ]
    }
   ],
   "source": [
    "!conda list"
   ]
  },
  {
   "cell_type": "markdown",
   "metadata": {},
   "source": [
    "# 마크다운"
   ]
  },
  {
   "cell_type": "markdown",
   "metadata": {},
   "source": [
    "*이탤릭체* <br> **볼드** <br> ***이탤릭체 볼드***"
   ]
  },
  {
   "cell_type": "markdown",
   "metadata": {},
   "source": [
    "- 번호 없는 리스트\n",
    "* 번호 없는 리스트\n",
    "+ 번호 없는 리스트"
   ]
  },
  {
   "cell_type": "markdown",
   "metadata": {},
   "source": [
    "1. 번호 있는 리스트\n",
    "2. 번호 있는 리스트\n",
    "3. 번호 있는 리스트"
   ]
  },
  {
   "cell_type": "markdown",
   "metadata": {},
   "source": [
    "$$ \\sqrt(2) $$"
   ]
  },
  {
   "cell_type": "markdown",
   "metadata": {},
   "source": [
    "# magic"
   ]
  },
  {
   "cell_type": "code",
   "execution_count": 8,
   "metadata": {
    "scrolled": true
   },
   "outputs": [
    {
     "name": "stdout",
     "output_type": "stream",
     "text": [
      "Wall time: 0 ns\n"
     ]
    }
   ],
   "source": [
    "%time    # 어떤 코드를 돌리는데 시간이 얼마나 걸리는지 보여줌"
   ]
  },
  {
   "cell_type": "code",
   "execution_count": 25,
   "metadata": {},
   "outputs": [
    {
     "name": "stderr",
     "output_type": "stream",
     "text": [
      "UsageError: Line magic function `%%writefile` not found.\n"
     ]
    }
   ],
   "source": [
    "# txt 파일로 저장해줌\n",
    "%%writefile abc.txt\n",
    "\n",
    "파이썬배우기\n",
    "파이썬배우기"
   ]
  },
  {
   "cell_type": "code",
   "execution_count": 26,
   "metadata": {},
   "outputs": [
    {
     "name": "stdout",
     "output_type": "stream",
     "text": [
      "Writing abc.txt\n"
     ]
    }
   ],
   "source": [
    "%%writefile abc.txt\n",
    "\n",
    "파이썬배우기\n",
    "파이썬배우기"
   ]
  },
  {
   "cell_type": "markdown",
   "metadata": {},
   "source": [
    "# 출력"
   ]
  },
  {
   "cell_type": "code",
   "execution_count": 23,
   "metadata": {},
   "outputs": [
    {
     "name": "stderr",
     "output_type": "stream",
     "text": [
      "UsageError: Line magic function `%%writefile` not found.\n"
     ]
    }
   ],
   "source": [
    "# 쥬피터는 마지막 문장만 출력하기 때문에 print를 해주어야 한다\n",
    "\n",
    "%%writefile test.py\n",
    "print(\"파이썬\")\n",
    "print(10 + 20)"
   ]
  },
  {
   "cell_type": "code",
   "execution_count": 27,
   "metadata": {},
   "outputs": [
    {
     "name": "stdout",
     "output_type": "stream",
     "text": [
      "Writing test.py\n"
     ]
    }
   ],
   "source": [
    "%%writefile test.py\n",
    "print(\"파이썬\")\n",
    "print(10 + 20)"
   ]
  },
  {
   "cell_type": "code",
   "execution_count": 28,
   "metadata": {
    "scrolled": true
   },
   "outputs": [
    {
     "name": "stdout",
     "output_type": "stream",
     "text": [
      "파이썬\n",
      "30\n"
     ]
    }
   ],
   "source": [
    "!python test.py"
   ]
  },
  {
   "cell_type": "markdown",
   "metadata": {},
   "source": [
    "# 세미콜론"
   ]
  },
  {
   "cell_type": "code",
   "execution_count": 29,
   "metadata": {},
   "outputs": [
    {
     "name": "stdout",
     "output_type": "stream",
     "text": [
      "파이썬\n",
      "30\n"
     ]
    }
   ],
   "source": [
    "print(\"파이썬\")\n",
    "print(10 + 20)"
   ]
  },
  {
   "cell_type": "code",
   "execution_count": 32,
   "metadata": {},
   "outputs": [
    {
     "name": "stdout",
     "output_type": "stream",
     "text": [
      "파이썬\n",
      "30\n"
     ]
    }
   ],
   "source": [
    "print(\"파이썬\");print(10 + 20)"
   ]
  },
  {
   "cell_type": "markdown",
   "metadata": {},
   "source": [
    "# 주석"
   ]
  },
  {
   "cell_type": "code",
   "execution_count": 33,
   "metadata": {},
   "outputs": [],
   "source": [
    "# R언어, 파이썬언어 의 주석은 #\n",
    "# PLSQL 언어의 주석은 --\n",
    "\n",
    "# aa    # 여러줄 주석을 하고 싶을 때 여러줄 드래그해서 ctrl + /\n",
    "# bb"
   ]
  },
  {
   "cell_type": "markdown",
   "metadata": {},
   "source": [
    "# 들여쓰기"
   ]
  },
  {
   "cell_type": "code",
   "execution_count": 45,
   "metadata": {},
   "outputs": [],
   "source": [
    "# 파이썬은 들여쓰기로 블럭을 잡는다."
   ]
  },
  {
   "cell_type": "code",
   "execution_count": 37,
   "metadata": {},
   "outputs": [],
   "source": [
    "a = 10"
   ]
  },
  {
   "cell_type": "code",
   "execution_count": 38,
   "metadata": {},
   "outputs": [
    {
     "name": "stdout",
     "output_type": "stream",
     "text": [
      "a는 10입니다.\n",
      "곧 점심 시간입니다.\n"
     ]
    }
   ],
   "source": [
    "if a == 10:\n",
    "    print (\"a는 10입니다.\")\n",
    "    print (\"곧 점심 시간입니다.\")"
   ]
  },
  {
   "cell_type": "code",
   "execution_count": 41,
   "metadata": {},
   "outputs": [
    {
     "name": "stdout",
     "output_type": "stream",
     "text": [
      "a는 10입니다.\n",
      "곧 점심 시간입니다.\n"
     ]
    }
   ],
   "source": [
    "if a == 10:\n",
    "    print (\"a는 10입니다.\")\n",
    "print (\"곧 점심 시간입니다.\")"
   ]
  },
  {
   "cell_type": "code",
   "execution_count": 39,
   "metadata": {
    "scrolled": true
   },
   "outputs": [
    {
     "ename": "IndentationError",
     "evalue": "expected an indented block (<ipython-input-39-d2a4cddf031f>, line 2)",
     "output_type": "error",
     "traceback": [
      "\u001b[1;36m  File \u001b[1;32m\"<ipython-input-39-d2a4cddf031f>\"\u001b[1;36m, line \u001b[1;32m2\u001b[0m\n\u001b[1;33m    print (\"a는 10입니다.\")\u001b[0m\n\u001b[1;37m        ^\u001b[0m\n\u001b[1;31mIndentationError\u001b[0m\u001b[1;31m:\u001b[0m expected an indented block\n"
     ]
    }
   ],
   "source": [
    "if a == 10:\n",
    "print (\"a는 10입니다.\")\n",
    "print (\"곧 점심 시간입니다.\")"
   ]
  },
  {
   "cell_type": "code",
   "execution_count": 42,
   "metadata": {},
   "outputs": [],
   "source": [
    "a = 20"
   ]
  },
  {
   "cell_type": "code",
   "execution_count": 43,
   "metadata": {},
   "outputs": [],
   "source": [
    "if a == 10:\n",
    "    print (\"a는 10입니다.\")\n",
    "    print (\"곧 점심 시간입니다.\")"
   ]
  },
  {
   "cell_type": "code",
   "execution_count": 44,
   "metadata": {},
   "outputs": [
    {
     "name": "stdout",
     "output_type": "stream",
     "text": [
      "곧 점심 시간입니다.\n"
     ]
    }
   ],
   "source": [
    "if a == 10:\n",
    "    print (\"a는 10입니다.\")\n",
    "print (\"곧 점심 시간입니다.\")"
   ]
  },
  {
   "cell_type": "markdown",
   "metadata": {},
   "source": [
    "# 숫자 계산"
   ]
  },
  {
   "cell_type": "code",
   "execution_count": 46,
   "metadata": {},
   "outputs": [
    {
     "data": {
      "text/plain": [
       "3.3333333333333335"
      ]
     },
     "execution_count": 46,
     "metadata": {},
     "output_type": "execute_result"
    }
   ],
   "source": [
    "10/3"
   ]
  },
  {
   "cell_type": "code",
   "execution_count": 57,
   "metadata": {},
   "outputs": [
    {
     "data": {
      "text/plain": [
       "(3.3333333333333335, 3, 1, 3, 50, (3, 1))"
      ]
     },
     "execution_count": 57,
     "metadata": {},
     "output_type": "execute_result"
    }
   ],
   "source": [
    "10/3, 10//3, 10%3, int(10/3), int('20')+30, divmod(10, 3)    # (몫, 나머지)"
   ]
  },
  {
   "cell_type": "markdown",
   "metadata": {},
   "source": [
    "# 객체 자료형"
   ]
  },
  {
   "cell_type": "code",
   "execution_count": 55,
   "metadata": {},
   "outputs": [
    {
     "data": {
      "text/plain": [
       "(bool, False)"
      ]
     },
     "execution_count": 55,
     "metadata": {},
     "output_type": "execute_result"
    }
   ],
   "source": [
    "# R : typeof(), mode(), class()\n",
    "\n",
    "# Python :\n",
    "a = 10          # int\n",
    "a = \"파이썬\"    # str\n",
    "a = 3.14        # float\n",
    "a = 10 > 20     # bool    => 값이 들어가면 자동으로 타입이 정해진다 : 동적 타이핑\n",
    "type(a), a"
   ]
  },
  {
   "cell_type": "code",
   "execution_count": 62,
   "metadata": {},
   "outputs": [
    {
     "name": "stdout",
     "output_type": "stream",
     "text": [
      "몫 3\n",
      "나머지 1\n"
     ]
    }
   ],
   "source": [
    "a, b = divmod(10, 3)\n",
    "print(\"몫\", a)\n",
    "print(\"나머지\", b)"
   ]
  },
  {
   "cell_type": "markdown",
   "metadata": {},
   "source": [
    "# 변수 \n",
    "변하는 수, 값을 저장하기 위한 저장 장소"
   ]
  },
  {
   "cell_type": "code",
   "execution_count": 65,
   "metadata": {},
   "outputs": [
    {
     "name": "stdout",
     "output_type": "stream",
     "text": [
      "10 20 30\n"
     ]
    }
   ],
   "source": [
    "a, b, c = 10, 20, 30\n",
    "print(a, b, c)"
   ]
  },
  {
   "cell_type": "code",
   "execution_count": 69,
   "metadata": {},
   "outputs": [
    {
     "ename": "ValueError",
     "evalue": "not enough values to unpack (expected 3, got 2)",
     "output_type": "error",
     "traceback": [
      "\u001b[1;31m---------------------------------------------------------------------------\u001b[0m",
      "\u001b[1;31mValueError\u001b[0m                                Traceback (most recent call last)",
      "\u001b[1;32m<ipython-input-69-c07c4f851405>\u001b[0m in \u001b[0;36m<module>\u001b[1;34m\u001b[0m\n\u001b[1;32m----> 1\u001b[1;33m \u001b[0ma\u001b[0m\u001b[1;33m,\u001b[0m \u001b[0mb\u001b[0m\u001b[1;33m,\u001b[0m \u001b[0mc\u001b[0m \u001b[1;33m=\u001b[0m \u001b[1;36m10\u001b[0m\u001b[1;33m,\u001b[0m \u001b[1;36m20\u001b[0m     \u001b[1;31m# 에러\u001b[0m\u001b[1;33m\u001b[0m\u001b[1;33m\u001b[0m\u001b[0m\n\u001b[0m\u001b[0;32m      2\u001b[0m \u001b[0mprint\u001b[0m\u001b[1;33m(\u001b[0m\u001b[0ma\u001b[0m\u001b[1;33m,\u001b[0m \u001b[0mb\u001b[0m\u001b[1;33m,\u001b[0m \u001b[0mc\u001b[0m\u001b[1;33m)\u001b[0m\u001b[1;33m\u001b[0m\u001b[1;33m\u001b[0m\u001b[0m\n",
      "\u001b[1;31mValueError\u001b[0m: not enough values to unpack (expected 3, got 2)"
     ]
    }
   ],
   "source": [
    "a, b, c = 10, 20     # 에러\n",
    "print(a, b, c)"
   ]
  },
  {
   "cell_type": "code",
   "execution_count": 68,
   "metadata": {
    "scrolled": true
   },
   "outputs": [
    {
     "name": "stdout",
     "output_type": "stream",
     "text": [
      "10 10 10\n"
     ]
    }
   ],
   "source": [
    "a, b, c = 10, 10, 10\n",
    "a = b = c = 10\n",
    "print(a, b, c)"
   ]
  },
  {
   "cell_type": "code",
   "execution_count": 70,
   "metadata": {},
   "outputs": [
    {
     "ename": "TypeError",
     "evalue": "can only concatenate str (not \"int\") to str",
     "output_type": "error",
     "traceback": [
      "\u001b[1;31m---------------------------------------------------------------------------\u001b[0m",
      "\u001b[1;31mTypeError\u001b[0m                                 Traceback (most recent call last)",
      "\u001b[1;32m<ipython-input-70-bfe7287448d4>\u001b[0m in \u001b[0;36m<module>\u001b[1;34m\u001b[0m\n\u001b[0;32m      1\u001b[0m \u001b[0ms\u001b[0m \u001b[1;33m=\u001b[0m \u001b[1;34m'20'\u001b[0m\u001b[1;33m\u001b[0m\u001b[1;33m\u001b[0m\u001b[0m\n\u001b[1;32m----> 2\u001b[1;33m \u001b[0ms\u001b[0m \u001b[1;33m+\u001b[0m \u001b[1;36m30\u001b[0m\u001b[1;33m\u001b[0m\u001b[1;33m\u001b[0m\u001b[0m\n\u001b[0m",
      "\u001b[1;31mTypeError\u001b[0m: can only concatenate str (not \"int\") to str"
     ]
    }
   ],
   "source": [
    "s = '20'\n",
    "s + 30"
   ]
  },
  {
   "cell_type": "code",
   "execution_count": 71,
   "metadata": {},
   "outputs": [
    {
     "data": {
      "text/plain": [
       "50"
      ]
     },
     "execution_count": 71,
     "metadata": {},
     "output_type": "execute_result"
    }
   ],
   "source": [
    "s = '20'\n",
    "int(s) + 30"
   ]
  },
  {
   "cell_type": "code",
   "execution_count": 72,
   "metadata": {},
   "outputs": [
    {
     "ename": "TypeError",
     "evalue": "'int' object is not callable",
     "output_type": "error",
     "traceback": [
      "\u001b[1;31m---------------------------------------------------------------------------\u001b[0m",
      "\u001b[1;31mTypeError\u001b[0m                                 Traceback (most recent call last)",
      "\u001b[1;32m<ipython-input-72-b51524d233ce>\u001b[0m in \u001b[0;36m<module>\u001b[1;34m\u001b[0m\n\u001b[0;32m      1\u001b[0m \u001b[0mint\u001b[0m \u001b[1;33m=\u001b[0m \u001b[1;36m40\u001b[0m\u001b[1;33m\u001b[0m\u001b[1;33m\u001b[0m\u001b[0m\n\u001b[1;32m----> 2\u001b[1;33m \u001b[0mint\u001b[0m\u001b[1;33m(\u001b[0m\u001b[0mint\u001b[0m\u001b[1;33m)\u001b[0m \u001b[1;33m+\u001b[0m \u001b[1;36m30\u001b[0m\u001b[1;33m\u001b[0m\u001b[1;33m\u001b[0m\u001b[0m\n\u001b[0m",
      "\u001b[1;31mTypeError\u001b[0m: 'int' object is not callable"
     ]
    }
   ],
   "source": [
    "int = 40            # 변수이름을 int로 지정하면 안됨!!!\n",
    "int(int) + 30"
   ]
  },
  {
   "cell_type": "code",
   "execution_count": 73,
   "metadata": {},
   "outputs": [],
   "source": [
    "del int    # int 변수 삭제하기"
   ]
  },
  {
   "cell_type": "code",
   "execution_count": 74,
   "metadata": {},
   "outputs": [
    {
     "data": {
      "text/plain": [
       "'1030'"
      ]
     },
     "execution_count": 74,
     "metadata": {},
     "output_type": "execute_result"
    }
   ],
   "source": [
    "str(10) + '30'"
   ]
  },
  {
   "cell_type": "code",
   "execution_count": 75,
   "metadata": {},
   "outputs": [
    {
     "name": "stdout",
     "output_type": "stream",
     "text": [
      "Hello\n"
     ]
    }
   ],
   "source": [
    "str = 'Hello'\n",
    "print(str)"
   ]
  },
  {
   "cell_type": "code",
   "execution_count": 76,
   "metadata": {},
   "outputs": [],
   "source": [
    "del str"
   ]
  },
  {
   "cell_type": "code",
   "execution_count": 77,
   "metadata": {},
   "outputs": [],
   "source": [
    "a = None     # 결정된 값이 없음\n",
    "a"
   ]
  },
  {
   "cell_type": "code",
   "execution_count": 78,
   "metadata": {},
   "outputs": [
    {
     "data": {
      "text/plain": [
       "40"
      ]
     },
     "execution_count": 78,
     "metadata": {},
     "output_type": "execute_result"
    }
   ],
   "source": [
    "d = 20\n",
    "d = d + 10\n",
    "d += 10\n",
    "d"
   ]
  },
  {
   "cell_type": "markdown",
   "metadata": {},
   "source": [
    "# input"
   ]
  },
  {
   "cell_type": "code",
   "execution_count": 79,
   "metadata": {},
   "outputs": [
    {
     "name": "stdout",
     "output_type": "stream",
     "text": [
      "숫자 1을 입력 >> 10\n",
      "숫자 2를 입력 >> 20\n",
      "1020\n"
     ]
    }
   ],
   "source": [
    "a = input( '숫자 1을 입력 >> ')\n",
    "b = input( '숫자 2를 입력 >> ')\n",
    "print( a + b )"
   ]
  },
  {
   "cell_type": "code",
   "execution_count": 97,
   "metadata": {},
   "outputs": [
    {
     "name": "stdout",
     "output_type": "stream",
     "text": [
      "숫자입력 (10,20) >>>10,20\n",
      "1020\n"
     ]
    }
   ],
   "source": [
    "a, b = input('숫자입력 (10,20) >>>').split(\",\")\n",
    "print(int(a + b))"
   ]
  },
  {
   "cell_type": "code",
   "execution_count": 98,
   "metadata": {},
   "outputs": [
    {
     "name": "stdout",
     "output_type": "stream",
     "text": [
      "숫자입력 (10,20) >>>10,20\n",
      "1020\n"
     ]
    }
   ],
   "source": [
    "a, b = input('숫자입력 (10,20) >>>').split(\",\")\n",
    "print(a + b)"
   ]
  },
  {
   "cell_type": "code",
   "execution_count": 99,
   "metadata": {},
   "outputs": [
    {
     "name": "stdout",
     "output_type": "stream",
     "text": [
      "숫자입력 (10,20) >>>10,20\n",
      "30\n"
     ]
    }
   ],
   "source": [
    "a, b = input('숫자입력 (10,20) >>>').split(\",\")\n",
    "print(int(a) + int(b))"
   ]
  },
  {
   "cell_type": "code",
   "execution_count": 91,
   "metadata": {},
   "outputs": [
    {
     "name": "stdout",
     "output_type": "stream",
     "text": [
      "숫자 2개를  공백으로 분리하여 입력 >>100 200\n",
      "300\n"
     ]
    }
   ],
   "source": [
    "a, b = map(int, input(\"숫자 2개를  공백으로 분리하여 입력 >>\").split())\n",
    "print(a + b)"
   ]
  },
  {
   "cell_type": "code",
   "execution_count": 100,
   "metadata": {},
   "outputs": [
    {
     "name": "stdout",
     "output_type": "stream",
     "text": [
      "Writing practice_input_split.py\n"
     ]
    }
   ],
   "source": [
    "%%writefile practice_input_split.py\n",
    "\n",
    "a, b, c = map(int, input(\"숫자 3개를  공백으로 분리하여 입력 >>\").split())\n",
    "print(a + b + c)"
   ]
  },
  {
   "cell_type": "code",
   "execution_count": null,
   "metadata": {},
   "outputs": [],
   "source": [
    "! python practice_input_split.py"
   ]
  },
  {
   "cell_type": "markdown",
   "metadata": {},
   "source": [
    "# 출력 방법"
   ]
  },
  {
   "cell_type": "code",
   "execution_count": 1,
   "metadata": {},
   "outputs": [
    {
     "name": "stdout",
     "output_type": "stream",
     "text": [
      "1\n",
      "2\n"
     ]
    }
   ],
   "source": [
    "print(1, end = '\\n')\n",
    "print(2)"
   ]
  },
  {
   "cell_type": "code",
   "execution_count": 6,
   "metadata": {},
   "outputs": [
    {
     "name": "stdout",
     "output_type": "stream",
     "text": [
      "1    2*10*20^__^"
     ]
    }
   ],
   "source": [
    "print(1, end = '    ')\n",
    "print(2, 10, 20, sep = '*', end = '^__^')"
   ]
  },
  {
   "cell_type": "code",
   "execution_count": 7,
   "metadata": {},
   "outputs": [
    {
     "name": "stdout",
     "output_type": "stream",
     "text": [
      "2000/10/27  11:43:59\n"
     ]
    }
   ],
   "source": [
    "# 연습문제 #\n",
    "year = 2000\n",
    "month = 10\n",
    "day = 27\n",
    "hour = 11\n",
    "minute = 43\n",
    "second = 59\n",
    " \n",
    "print(year, month, day, sep = '/', end = '  ')\n",
    "print(hour, minute, second, sep = ':')"
   ]
  },
  {
   "cell_type": "markdown",
   "metadata": {},
   "source": [
    "# 불, 비교, 논리 연산자"
   ]
  },
  {
   "cell_type": "code",
   "execution_count": 8,
   "metadata": {},
   "outputs": [
    {
     "data": {
      "text/plain": [
       "False"
      ]
     },
     "execution_count": 8,
     "metadata": {},
     "output_type": "execute_result"
    }
   ],
   "source": [
    "a = 1\n",
    "a == 10"
   ]
  },
  {
   "cell_type": "code",
   "execution_count": 9,
   "metadata": {},
   "outputs": [
    {
     "data": {
      "text/plain": [
       "True"
      ]
     },
     "execution_count": 9,
     "metadata": {},
     "output_type": "execute_result"
    }
   ],
   "source": [
    "1 == 1.0"
   ]
  },
  {
   "cell_type": "code",
   "execution_count": 10,
   "metadata": {},
   "outputs": [
    {
     "data": {
      "text/plain": [
       "False"
      ]
     },
     "execution_count": 10,
     "metadata": {},
     "output_type": "execute_result"
    }
   ],
   "source": [
    "1 is 1.0"
   ]
  },
  {
   "cell_type": "code",
   "execution_count": 14,
   "metadata": {},
   "outputs": [
    {
     "name": "stdout",
     "output_type": "stream",
     "text": [
      "True\n",
      "True\n",
      "False\n",
      "False\n",
      "140716932440752\n",
      "140716932440752\n",
      "1908948350640\n"
     ]
    }
   ],
   "source": [
    "a = 10\n",
    "b = 10\n",
    "c = 1.0\n",
    "\n",
    "print(a==b)\n",
    "print(a is b)\n",
    "print(a==c)\n",
    "print(a is c)\n",
    "\n",
    "print(id(a))\n",
    "print(id(b))\n",
    "print(id(c))"
   ]
  },
  {
   "cell_type": "code",
   "execution_count": 19,
   "metadata": {},
   "outputs": [
    {
     "data": {
      "text/plain": [
       "True"
      ]
     },
     "execution_count": 19,
     "metadata": {},
     "output_type": "execute_result"
    }
   ],
   "source": [
    "# 산술 연산자 우선순위 : * / , + , -\n",
    "# 논리 연산자 우선순위 : not , and , or\n",
    "\n",
    "not True and False or not False\n",
    "\n",
    "(not True) and False or (not False)\n",
    "\n",
    "((not True) and False) or (not False)"
   ]
  },
  {
   "cell_type": "code",
   "execution_count": 31,
   "metadata": {},
   "outputs": [
    {
     "data": {
      "text/plain": [
       "(True, False, False, False, True, True, True)"
      ]
     },
     "execution_count": 31,
     "metadata": {},
     "output_type": "execute_result"
    }
   ],
   "source": [
    "# 값이 있으면 True 값이 없으면 False\n",
    "\n",
    "bool(' '), bool(0), bool(None), bool(0.0), bool('aaa'), bool(not None), bool(1.0)"
   ]
  },
  {
   "cell_type": "code",
   "execution_count": 33,
   "metadata": {},
   "outputs": [
    {
     "name": "stdout",
     "output_type": "stream",
     "text": [
      "False\n"
     ]
    }
   ],
   "source": [
    "# 연습문제 #\n",
    "korean = 92\n",
    "english = 47\n",
    "mathematics = 86\n",
    "science = 81\n",
    " \n",
    "print(korean >= 50 and english >= 50 and mathematics >= 50 and science >= 50)"
   ]
  },
  {
   "cell_type": "markdown",
   "metadata": {},
   "source": [
    "# 문자열 사용하기"
   ]
  },
  {
   "cell_type": "code",
   "execution_count": 35,
   "metadata": {},
   "outputs": [
    {
     "ename": "SyntaxError",
     "evalue": "EOL while scanning string literal (<ipython-input-35-943f2afcb44b>, line 1)",
     "output_type": "error",
     "traceback": [
      "\u001b[1;36m  File \u001b[1;32m\"<ipython-input-35-943f2afcb44b>\"\u001b[1;36m, line \u001b[1;32m1\u001b[0m\n\u001b[1;33m    aa = 'aaaaaaaaaaaaaaaaaaaaa\u001b[0m\n\u001b[1;37m                               ^\u001b[0m\n\u001b[1;31mSyntaxError\u001b[0m\u001b[1;31m:\u001b[0m EOL while scanning string literal\n"
     ]
    }
   ],
   "source": [
    "## 에러\n",
    "aa = 'aaaaaaaaaaaaaaaaaaaaa      \n",
    "aaaaaaaaaaaaaaaa'"
   ]
  },
  {
   "cell_type": "code",
   "execution_count": 41,
   "metadata": {},
   "outputs": [
    {
     "data": {
      "text/plain": [
       "'aaaaaaaaaaaaaaaaaaaaa  aaaaaaaaaaaaaaaa'"
      ]
     },
     "execution_count": 41,
     "metadata": {},
     "output_type": "execute_result"
    }
   ],
   "source": [
    "aa = \"aaaaaaaaaaaaaaaaaaaaa  \\\n",
    "aaaaaaaaaaaaaaaa\"\n",
    "aa"
   ]
  },
  {
   "cell_type": "code",
   "execution_count": 49,
   "metadata": {
    "scrolled": true
   },
   "outputs": [
    {
     "ename": "SyntaxError",
     "evalue": "EOL while scanning string literal (<ipython-input-49-f60c2be0edde>, line 2)",
     "output_type": "error",
     "traceback": [
      "\u001b[1;36m  File \u001b[1;32m\"<ipython-input-49-f60c2be0edde>\"\u001b[1;36m, line \u001b[1;32m2\u001b[0m\n\u001b[1;33m    news = \"김사부2 안효섭 위협하는 건달, 이성경의 조폭이 해결하나[TV보고서]\u001b[0m\n\u001b[1;37m                                                  ^\u001b[0m\n\u001b[1;31mSyntaxError\u001b[0m\u001b[1;31m:\u001b[0m EOL while scanning string literal\n"
     ]
    }
   ],
   "source": [
    "## 에러\n",
    "news = \"김사부2 안효섭 위협하는 건달, 이성경의 조폭이 해결하나[TV보고서]\n",
    "개리·길, 돌아온다..무대 아닌 예능으로 복귀 시동\n",
    "황제성 \"'나혼자산다'서 예쁜 아들 공개, 난 4.5kg 슈퍼우량아로 태어나\"\n",
    "이승준 \"♥김소니아, 열애 고백 행복하다고..올해 결혼 생각\"(인터뷰)\n",
    "이연복, '미스트롯' 3인방 이어 '친한예능' 출격..한국의 맛 보여준다\n",
    "이하이, 메이크어스와 전속계약.. 선미와 한솥밥\n",
    "'라디오쇼' 박명수, 이병헌에 \"기어이 찾아왔다..반갑다 친구야\"[Oh!쎈 리뷰]\n",
    "동물예능 연이은 실패.. '개는 훌륭하다'가 살아남은 이유\n",
    "4인조 재편 젝스키스, '해투4' 완전체 출격..스페셜MC 천명훈(공식)\n",
    "이희준 \"아침에 일어나면 108배, 캐릭터 치유하는데 도움\"\""
   ]
  },
  {
   "cell_type": "code",
   "execution_count": 50,
   "metadata": {},
   "outputs": [
    {
     "data": {
      "text/plain": [
       "'\\n김사부2 안효섭 위협하는 건달, 이성경의 조폭이 해결하나[TV보고서]\\n개리·길, 돌아온다..무대 아닌 예능으로 복귀 시동\\n황제성 \"\\'나혼자산다\\'서 예쁜 아들 공개, 난 4.5kg 슈퍼우량아로 태어나\"\\n이승준 \"♥김소니아, 열애 고백 행복하다고..올해 결혼 생각\"(인터뷰)\\n이연복, \\'미스트롯\\' 3인방 이어 \\'친한예능\\' 출격..한국의 맛 보여준다\\n이하이, 메이크어스와 전속계약.. 선미와 한솥밥\\n\\'라디오쇼\\' 박명수, 이병헌에 \"기어이 찾아왔다..반갑다 친구야\"[Oh!쎈 리뷰]\\n동물예능 연이은 실패.. \\'개는 훌륭하다\\'가 살아남은 이유\\n4인조 재편 젝스키스, \\'해투4\\' 완전체 출격..스페셜MC 천명훈(공식)\\n이희준 \"아침에 일어나면 108배, 캐릭터 치유하는데 도움\"\\n'"
      ]
     },
     "execution_count": 50,
     "metadata": {},
     "output_type": "execute_result"
    }
   ],
   "source": [
    "news = '''\n",
    "김사부2 안효섭 위협하는 건달, 이성경의 조폭이 해결하나[TV보고서]\n",
    "개리·길, 돌아온다..무대 아닌 예능으로 복귀 시동\n",
    "황제성 \"'나혼자산다'서 예쁜 아들 공개, 난 4.5kg 슈퍼우량아로 태어나\"\n",
    "이승준 \"♥김소니아, 열애 고백 행복하다고..올해 결혼 생각\"(인터뷰)\n",
    "이연복, '미스트롯' 3인방 이어 '친한예능' 출격..한국의 맛 보여준다\n",
    "이하이, 메이크어스와 전속계약.. 선미와 한솥밥\n",
    "'라디오쇼' 박명수, 이병헌에 \"기어이 찾아왔다..반갑다 친구야\"[Oh!쎈 리뷰]\n",
    "동물예능 연이은 실패.. '개는 훌륭하다'가 살아남은 이유\n",
    "4인조 재편 젝스키스, '해투4' 완전체 출격..스페셜MC 천명훈(공식)\n",
    "이희준 \"아침에 일어나면 108배, 캐릭터 치유하는데 도움\"\n",
    "'''\n",
    "news"
   ]
  },
  {
   "cell_type": "code",
   "execution_count": 51,
   "metadata": {},
   "outputs": [
    {
     "data": {
      "text/plain": [
       "['',\n",
       " '김사부2 안효섭 위협하는 건달, 이성경의 조폭이 해결하나[TV보고서]',\n",
       " '개리·길, 돌아온다..무대 아닌 예능으로 복귀 시동',\n",
       " '황제성 \"\\'나혼자산다\\'서 예쁜 아들 공개, 난 4.5kg 슈퍼우량아로 태어나\"',\n",
       " '이승준 \"♥김소니아, 열애 고백 행복하다고..올해 결혼 생각\"(인터뷰)',\n",
       " \"이연복, '미스트롯' 3인방 이어 '친한예능' 출격..한국의 맛 보여준다\",\n",
       " '이하이, 메이크어스와 전속계약.. 선미와 한솥밥',\n",
       " '\\'라디오쇼\\' 박명수, 이병헌에 \"기어이 찾아왔다..반갑다 친구야\"[Oh!쎈 리뷰]',\n",
       " \"동물예능 연이은 실패.. '개는 훌륭하다'가 살아남은 이유\",\n",
       " \"4인조 재편 젝스키스, '해투4' 완전체 출격..스페셜MC 천명훈(공식)\",\n",
       " '이희준 \"아침에 일어나면 108배, 캐릭터 치유하는데 도움\"',\n",
       " '']"
      ]
     },
     "execution_count": 51,
     "metadata": {},
     "output_type": "execute_result"
    }
   ],
   "source": [
    "news = '''\n",
    "김사부2 안효섭 위협하는 건달, 이성경의 조폭이 해결하나[TV보고서]\n",
    "개리·길, 돌아온다..무대 아닌 예능으로 복귀 시동\n",
    "황제성 \"'나혼자산다'서 예쁜 아들 공개, 난 4.5kg 슈퍼우량아로 태어나\"\n",
    "이승준 \"♥김소니아, 열애 고백 행복하다고..올해 결혼 생각\"(인터뷰)\n",
    "이연복, '미스트롯' 3인방 이어 '친한예능' 출격..한국의 맛 보여준다\n",
    "이하이, 메이크어스와 전속계약.. 선미와 한솥밥\n",
    "'라디오쇼' 박명수, 이병헌에 \"기어이 찾아왔다..반갑다 친구야\"[Oh!쎈 리뷰]\n",
    "동물예능 연이은 실패.. '개는 훌륭하다'가 살아남은 이유\n",
    "4인조 재편 젝스키스, '해투4' 완전체 출격..스페셜MC 천명훈(공식)\n",
    "이희준 \"아침에 일어나면 108배, 캐릭터 치유하는데 도움\"\n",
    "'''\n",
    "news.split('\\n')    # \\n 은 newline 을 의미"
   ]
  },
  {
   "cell_type": "code",
   "execution_count": 44,
   "metadata": {},
   "outputs": [
    {
     "data": {
      "text/plain": [
       "'Python \"P\"rogram'"
      ]
     },
     "execution_count": 44,
     "metadata": {},
     "output_type": "execute_result"
    }
   ],
   "source": [
    "a = 'Python \"P\"rogram'\n",
    "a"
   ]
  },
  {
   "cell_type": "code",
   "execution_count": 45,
   "metadata": {},
   "outputs": [
    {
     "data": {
      "text/plain": [
       "\"Python 'P'rogram\""
      ]
     },
     "execution_count": 45,
     "metadata": {},
     "output_type": "execute_result"
    }
   ],
   "source": [
    "a = \"Python 'P'rogram\"\n",
    "a"
   ]
  },
  {
   "cell_type": "code",
   "execution_count": 47,
   "metadata": {},
   "outputs": [
    {
     "data": {
      "text/plain": [
       "'Python \"P\"rogram'"
      ]
     },
     "execution_count": 47,
     "metadata": {},
     "output_type": "execute_result"
    }
   ],
   "source": [
    "a = \"Python \\\"P\\\"rogram\"\n",
    "a"
   ]
  },
  {
   "cell_type": "code",
   "execution_count": 48,
   "metadata": {},
   "outputs": [
    {
     "data": {
      "text/plain": [
       "'Python \"P\"rogram'"
      ]
     },
     "execution_count": 48,
     "metadata": {},
     "output_type": "execute_result"
    }
   ],
   "source": [
    "a = '''Python \"P\"rogram'''\n",
    "a"
   ]
  },
  {
   "cell_type": "markdown",
   "metadata": {},
   "source": [
    "# 리스트\n",
    "변수에 값을 여러 개 ( R : 벡터 ), 서로 다른 타입도 가능, 값 변경 가능"
   ]
  },
  {
   "cell_type": "code",
   "execution_count": 52,
   "metadata": {},
   "outputs": [],
   "source": [
    "# R\n",
    "# a = c(1, 2, \"3\", 4, 5)    -> 서로 다른 타입의 데이터 넣을 수 없다.\n",
    "\n",
    "# Python\n",
    "a = [1, 2, \"3\", 4, 5, True, 1+2j, 3.14]    # -> 서로 다른 타입의 데이터 넣을 수 있다."
   ]
  },
  {
   "cell_type": "code",
   "execution_count": 58,
   "metadata": {},
   "outputs": [
    {
     "data": {
      "text/plain": [
       "(1, '3', bool, complex, float)"
      ]
     },
     "execution_count": 58,
     "metadata": {},
     "output_type": "execute_result"
    }
   ],
   "source": [
    "# index, 첨자   =>  첨자가 1부터 시작하는 언어들 : PL/SQL , R   =>  그 밖의 언어들은 0부터 시작\n",
    "a[0], a[2], type(a[5]), type(a[6]), type(a[7])"
   ]
  },
  {
   "cell_type": "code",
   "execution_count": 60,
   "metadata": {},
   "outputs": [
    {
     "data": {
      "text/plain": [
       "list"
      ]
     },
     "execution_count": 60,
     "metadata": {},
     "output_type": "execute_result"
    }
   ],
   "source": [
    "a = []\n",
    "a = list()\n",
    "\n",
    "type(a)"
   ]
  },
  {
   "cell_type": "code",
   "execution_count": 72,
   "metadata": {},
   "outputs": [
    {
     "data": {
      "text/plain": [
       "(range(10, 0, -1), [999, 9, 8, 7, 6, 5, 4, 3, 2, 1])"
      ]
     },
     "execution_count": 72,
     "metadata": {},
     "output_type": "execute_result"
    }
   ],
   "source": [
    "a = range(10)          # 0 <=   < 10\n",
    "a = range(1, 11)       # 1 <=   < 11\n",
    "a = range(1, 11, 2)    # 홀수\n",
    "a = range(2, 11, 2)    # 짝수\n",
    "a = range(10, 0, -1)\n",
    "\n",
    "b = list(a)\n",
    "b[0] = 999            ##### 리스트는 값 변경 가능\n",
    "\n",
    "a , b"
   ]
  },
  {
   "cell_type": "markdown",
   "metadata": {},
   "source": [
    "# 튜플\n",
    "변수에 값을 여러 개, 서로 다른 타입도 가능, 값 변경 불가능"
   ]
  },
  {
   "cell_type": "code",
   "execution_count": 70,
   "metadata": {},
   "outputs": [
    {
     "data": {
      "text/plain": [
       "tuple"
      ]
     },
     "execution_count": 70,
     "metadata": {},
     "output_type": "execute_result"
    }
   ],
   "source": [
    "a, b, c = 10, 20, 30\n",
    "a = 10, 20, 30        # = 튜플\n",
    "a = (10, 20, 30)      # = 튜플\n",
    "type(a)"
   ]
  },
  {
   "cell_type": "code",
   "execution_count": 71,
   "metadata": {},
   "outputs": [
    {
     "data": {
      "text/plain": [
       "(10, '30')"
      ]
     },
     "execution_count": 71,
     "metadata": {},
     "output_type": "execute_result"
    }
   ],
   "source": [
    "a = (10, 20, \"30\")\n",
    "a[0], a[2]"
   ]
  },
  {
   "cell_type": "code",
   "execution_count": 73,
   "metadata": {},
   "outputs": [
    {
     "ename": "TypeError",
     "evalue": "'tuple' object does not support item assignment",
     "output_type": "error",
     "traceback": [
      "\u001b[1;31m---------------------------------------------------------------------------\u001b[0m",
      "\u001b[1;31mTypeError\u001b[0m                                 Traceback (most recent call last)",
      "\u001b[1;32m<ipython-input-73-34e172459875>\u001b[0m in \u001b[0;36m<module>\u001b[1;34m\u001b[0m\n\u001b[0;32m      1\u001b[0m \u001b[0ma\u001b[0m \u001b[1;33m=\u001b[0m \u001b[1;33m(\u001b[0m\u001b[1;36m10\u001b[0m\u001b[1;33m,\u001b[0m \u001b[1;36m20\u001b[0m\u001b[1;33m,\u001b[0m \u001b[1;34m\"30\"\u001b[0m\u001b[1;33m)\u001b[0m\u001b[1;33m\u001b[0m\u001b[1;33m\u001b[0m\u001b[0m\n\u001b[1;32m----> 2\u001b[1;33m \u001b[0ma\u001b[0m\u001b[1;33m[\u001b[0m\u001b[1;36m0\u001b[0m\u001b[1;33m]\u001b[0m \u001b[1;33m=\u001b[0m \u001b[1;36m999\u001b[0m\u001b[1;33m\u001b[0m\u001b[1;33m\u001b[0m\u001b[0m\n\u001b[0m",
      "\u001b[1;31mTypeError\u001b[0m: 'tuple' object does not support item assignment"
     ]
    }
   ],
   "source": [
    "a = (10, 20, \"30\")\n",
    "a[0] = 999               ##### 튜플은 값 변경 불가능"
   ]
  },
  {
   "cell_type": "code",
   "execution_count": 74,
   "metadata": {},
   "outputs": [
    {
     "data": {
      "text/plain": [
       "tuple"
      ]
     },
     "execution_count": 74,
     "metadata": {},
     "output_type": "execute_result"
    }
   ],
   "source": [
    "a = 10, 20, 30\n",
    "type(a)"
   ]
  },
  {
   "cell_type": "code",
   "execution_count": 75,
   "metadata": {},
   "outputs": [
    {
     "data": {
      "text/plain": [
       "int"
      ]
     },
     "execution_count": 75,
     "metadata": {},
     "output_type": "execute_result"
    }
   ],
   "source": [
    "a = 10\n",
    "type(a)"
   ]
  },
  {
   "cell_type": "code",
   "execution_count": 76,
   "metadata": {},
   "outputs": [
    {
     "data": {
      "text/plain": [
       "int"
      ]
     },
     "execution_count": 76,
     "metadata": {},
     "output_type": "execute_result"
    }
   ],
   "source": [
    "a = (10)    # 연산식의 괄호로 인식\n",
    "type(a)"
   ]
  },
  {
   "cell_type": "code",
   "execution_count": 78,
   "metadata": {},
   "outputs": [
    {
     "data": {
      "text/plain": [
       "tuple"
      ]
     },
     "execution_count": 78,
     "metadata": {},
     "output_type": "execute_result"
    }
   ],
   "source": [
    "a = (10,)   # 튜플에서 값을 하나만 입력하고 싶을 때\n",
    "type(a)"
   ]
  },
  {
   "cell_type": "code",
   "execution_count": 84,
   "metadata": {},
   "outputs": [
    {
     "name": "stdout",
     "output_type": "stream",
     "text": [
      "range(0, 10) <class 'range'>\n",
      "[0, 1, 2, 3, 4, 5, 6, 7, 8, 9]\n",
      "(0, 1, 2, 3, 4, 5, 6, 7, 8, 9)\n",
      "0 입니다.\n",
      "1 입니다.\n",
      "2 입니다.\n",
      "3 입니다.\n",
      "4 입니다.\n",
      "5 입니다.\n",
      "6 입니다.\n",
      "7 입니다.\n",
      "8 입니다.\n",
      "9 입니다.\n"
     ]
    }
   ],
   "source": [
    "a = range(10)\n",
    "\n",
    "print(a, type(a))\n",
    "print(list(a))\n",
    "print(tuple(a))\n",
    "\n",
    "for i in a:\n",
    "    print(i, \"입니다.\")"
   ]
  },
  {
   "cell_type": "code",
   "execution_count": 87,
   "metadata": {},
   "outputs": [
    {
     "name": "stdout",
     "output_type": "stream",
     "text": [
      "P n\n",
      "Python ['P', 'y', 't', 'h', 'o', 'n'] ('P', 'y', 't', 'h', 'o', 'n')\n"
     ]
    }
   ],
   "source": [
    "a = 'Python'\n",
    "print(a[0], a[5])\n",
    "\n",
    "b = list(a)\n",
    "c = tuple(a)\n",
    "\n",
    "print(a, b, c)"
   ]
  },
  {
   "cell_type": "code",
   "execution_count": 88,
   "metadata": {},
   "outputs": [
    {
     "name": "stdout",
     "output_type": "stream",
     "text": [
      "(10, 20, 30)*10*20*30\n"
     ]
    }
   ],
   "source": [
    "a = 10, 20, 30   # 패킹\n",
    "b, c, d = a      # 언패킹\n",
    "\n",
    "print(a, b, c, d, sep = \"*\")"
   ]
  },
  {
   "cell_type": "code",
   "execution_count": 91,
   "metadata": {},
   "outputs": [
    {
     "name": "stdout",
     "output_type": "stream",
     "text": [
      "[5, 3, 1, -1, -3, -5, -7, -9]\n"
     ]
    }
   ],
   "source": [
    "# 연습 문제 #\n",
    "a = list(range(5, -10, -2))\n",
    "\n",
    "print(a)"
   ]
  },
  {
   "cell_type": "code",
   "execution_count": 93,
   "metadata": {},
   "outputs": [
    {
     "name": "stdout",
     "output_type": "stream",
     "text": [
      "합계는 -16\n"
     ]
    }
   ],
   "source": [
    "sum = 0\n",
    "for val in range(5, -10, -2):\n",
    "    sum += val\n",
    "\n",
    "print(\"합계는\", sum)"
   ]
  },
  {
   "cell_type": "code",
   "execution_count": null,
   "metadata": {},
   "outputs": [],
   "source": []
  },
  {
   "cell_type": "code",
   "execution_count": null,
   "metadata": {},
   "outputs": [],
   "source": []
  }
 ],
 "metadata": {
  "kernelspec": {
   "display_name": "Python 3",
   "language": "python",
   "name": "python3"
  },
  "language_info": {
   "codemirror_mode": {
    "name": "ipython",
    "version": 3
   },
   "file_extension": ".py",
   "mimetype": "text/x-python",
   "name": "python",
   "nbconvert_exporter": "python",
   "pygments_lexer": "ipython3",
   "version": "3.7.4"
  }
 },
 "nbformat": 4,
 "nbformat_minor": 2
}
