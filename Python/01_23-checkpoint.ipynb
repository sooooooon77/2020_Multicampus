{
 "cells": [
  {
   "cell_type": "markdown",
   "metadata": {},
   "source": [
    "# 복습"
   ]
  },
  {
   "cell_type": "code",
   "execution_count": 6,
   "metadata": {},
   "outputs": [],
   "source": [
    "# 객체 (object) : 속성 + 행위\n",
    "# class : object 를 만드는 틀"
   ]
  },
  {
   "cell_type": "code",
   "execution_count": 7,
   "metadata": {},
   "outputs": [
    {
     "name": "stdout",
     "output_type": "stream",
     "text": [
      "<class 'int'>\n"
     ]
    }
   ],
   "source": [
    "a = 10\n",
    "print(type(10))"
   ]
  },
  {
   "cell_type": "code",
   "execution_count": 8,
   "metadata": {
    "scrolled": true
   },
   "outputs": [
    {
     "data": {
      "text/plain": [
       "['__abs__',\n",
       " '__add__',\n",
       " '__and__',\n",
       " '__bool__',\n",
       " '__ceil__',\n",
       " '__class__',\n",
       " '__delattr__',\n",
       " '__dir__',\n",
       " '__divmod__',\n",
       " '__doc__',\n",
       " '__eq__',\n",
       " '__float__',\n",
       " '__floor__',\n",
       " '__floordiv__',\n",
       " '__format__',\n",
       " '__ge__',\n",
       " '__getattribute__',\n",
       " '__getnewargs__',\n",
       " '__gt__',\n",
       " '__hash__',\n",
       " '__index__',\n",
       " '__init__',\n",
       " '__init_subclass__',\n",
       " '__int__',\n",
       " '__invert__',\n",
       " '__le__',\n",
       " '__lshift__',\n",
       " '__lt__',\n",
       " '__mod__',\n",
       " '__mul__',\n",
       " '__ne__',\n",
       " '__neg__',\n",
       " '__new__',\n",
       " '__or__',\n",
       " '__pos__',\n",
       " '__pow__',\n",
       " '__radd__',\n",
       " '__rand__',\n",
       " '__rdivmod__',\n",
       " '__reduce__',\n",
       " '__reduce_ex__',\n",
       " '__repr__',\n",
       " '__rfloordiv__',\n",
       " '__rlshift__',\n",
       " '__rmod__',\n",
       " '__rmul__',\n",
       " '__ror__',\n",
       " '__round__',\n",
       " '__rpow__',\n",
       " '__rrshift__',\n",
       " '__rshift__',\n",
       " '__rsub__',\n",
       " '__rtruediv__',\n",
       " '__rxor__',\n",
       " '__setattr__',\n",
       " '__sizeof__',\n",
       " '__str__',\n",
       " '__sub__',\n",
       " '__subclasshook__',\n",
       " '__truediv__',\n",
       " '__trunc__',\n",
       " '__xor__',\n",
       " 'bit_length',\n",
       " 'conjugate',\n",
       " 'denominator',\n",
       " 'from_bytes',\n",
       " 'imag',\n",
       " 'numerator',\n",
       " 'real',\n",
       " 'to_bytes']"
      ]
     },
     "execution_count": 8,
     "metadata": {},
     "output_type": "execute_result"
    }
   ],
   "source": [
    "dir(a)    # 사용할 수 있는 함수들"
   ]
  },
  {
   "cell_type": "code",
   "execution_count": 9,
   "metadata": {},
   "outputs": [
    {
     "data": {
      "text/plain": [
       "30"
      ]
     },
     "execution_count": 9,
     "metadata": {},
     "output_type": "execute_result"
    }
   ],
   "source": [
    "a + 20"
   ]
  },
  {
   "cell_type": "code",
   "execution_count": 11,
   "metadata": {},
   "outputs": [
    {
     "data": {
      "text/plain": [
       "4"
      ]
     },
     "execution_count": 11,
     "metadata": {},
     "output_type": "execute_result"
    }
   ],
   "source": [
    "a.bit_length()   # a = 1010"
   ]
  },
  {
   "cell_type": "code",
   "execution_count": 12,
   "metadata": {
    "scrolled": true
   },
   "outputs": [
    {
     "data": {
      "text/plain": [
       "['__bool__',\n",
       " '__class__',\n",
       " '__contains__',\n",
       " '__delattr__',\n",
       " '__dir__',\n",
       " '__doc__',\n",
       " '__eq__',\n",
       " '__format__',\n",
       " '__ge__',\n",
       " '__getattribute__',\n",
       " '__getitem__',\n",
       " '__gt__',\n",
       " '__hash__',\n",
       " '__init__',\n",
       " '__init_subclass__',\n",
       " '__iter__',\n",
       " '__le__',\n",
       " '__len__',\n",
       " '__lt__',\n",
       " '__ne__',\n",
       " '__new__',\n",
       " '__reduce__',\n",
       " '__reduce_ex__',\n",
       " '__repr__',\n",
       " '__reversed__',\n",
       " '__setattr__',\n",
       " '__sizeof__',\n",
       " '__str__',\n",
       " '__subclasshook__',\n",
       " 'count',\n",
       " 'index',\n",
       " 'start',\n",
       " 'step',\n",
       " 'stop']"
      ]
     },
     "execution_count": 12,
     "metadata": {},
     "output_type": "execute_result"
    }
   ],
   "source": [
    "a = 10\n",
    "a = \"Hello\"\n",
    "a = 3.14\n",
    "a = 10 > 20\n",
    "a = [10, 20, 30]\n",
    "a = (10, 20, 30)\n",
    "a = range(5)\n",
    "dir(a)"
   ]
  },
  {
   "cell_type": "markdown",
   "metadata": {},
   "source": [
    "# 시퀀스"
   ]
  },
  {
   "cell_type": "code",
   "execution_count": 15,
   "metadata": {},
   "outputs": [
    {
     "data": {
      "text/plain": [
       "'e'"
      ]
     },
     "execution_count": 15,
     "metadata": {},
     "output_type": "execute_result"
    }
   ],
   "source": [
    "# Sequence : 리스트, 튜플, range, 문자열   =>  \"순서\"가 있는 데이터 타입!\n",
    "\n",
    "a = [10, 20, 30, 40, 50]   # 리스트\n",
    "a = (10, 20, 30, 40, 50)   # 튜플\n",
    "a = 10, 20, 30, 40, 50     # 튜플\n",
    "a = range(10)              # 0 <=   < 10\n",
    "a = range(10, 110, 10)\n",
    "a = \"Hello\"\n",
    "a[1]"
   ]
  },
  {
   "cell_type": "markdown",
   "metadata": {},
   "source": [
    "### 존재 유무"
   ]
  },
  {
   "cell_type": "code",
   "execution_count": 19,
   "metadata": {},
   "outputs": [
    {
     "name": "stdout",
     "output_type": "stream",
     "text": [
      "True\n",
      "False\n",
      "False\n",
      "False\n",
      "10\n",
      "20\n",
      "30\n",
      "40\n",
      "50\n"
     ]
    }
   ],
   "source": [
    "a = [10, 20, 30, 40, 50]   # 리스트\n",
    "b = (10, 20, 30, 40, 50)   # 튜플\n",
    "c = range(10)\n",
    "d = \"Python\"\n",
    "\n",
    "print(40 in a)\n",
    "print(45 in b)\n",
    "print(10 in c)\n",
    "print(\"j\" in d)\n",
    "\n",
    "for val in [10, 20, 30, 40, 50]:\n",
    "    print(val)"
   ]
  },
  {
   "cell_type": "markdown",
   "metadata": {},
   "source": [
    "### 객체 연결"
   ]
  },
  {
   "cell_type": "code",
   "execution_count": 22,
   "metadata": {},
   "outputs": [
    {
     "data": {
      "text/plain": [
       "[1, 2, 3, 4, 5, 6]"
      ]
     },
     "execution_count": 22,
     "metadata": {},
     "output_type": "execute_result"
    }
   ],
   "source": [
    "a = [1,2,3]\n",
    "b = [4,5,6]\n",
    "\n",
    "dir(a)\n",
    "a.__add__(b)   # 함수 이용해서 더하기(연결하기)\n",
    "\n",
    "a + b"
   ]
  },
  {
   "cell_type": "code",
   "execution_count": 24,
   "metadata": {},
   "outputs": [
    {
     "data": {
      "text/plain": [
       "(1, 2, 3, 4, 5, 6)"
      ]
     },
     "execution_count": 24,
     "metadata": {},
     "output_type": "execute_result"
    }
   ],
   "source": [
    "a = (1,2,3)\n",
    "b = (4,5,6)\n",
    "\n",
    "dir(a)\n",
    "a + b"
   ]
  },
  {
   "cell_type": "code",
   "execution_count": 29,
   "metadata": {},
   "outputs": [
    {
     "ename": "TypeError",
     "evalue": "unsupported operand type(s) for +: 'range' and 'range'",
     "output_type": "error",
     "traceback": [
      "\u001b[1;31m---------------------------------------------------------------------------\u001b[0m",
      "\u001b[1;31mTypeError\u001b[0m                                 Traceback (most recent call last)",
      "\u001b[1;32m<ipython-input-29-667ed813db7a>\u001b[0m in \u001b[0;36m<module>\u001b[1;34m\u001b[0m\n\u001b[0;32m      3\u001b[0m \u001b[1;33m\u001b[0m\u001b[0m\n\u001b[0;32m      4\u001b[0m \u001b[1;31m# dir(a)  => add 함수 없네!! range는 연결이 불가능!!\u001b[0m\u001b[1;33m\u001b[0m\u001b[1;33m\u001b[0m\u001b[1;33m\u001b[0m\u001b[0m\n\u001b[1;32m----> 5\u001b[1;33m \u001b[0ma\u001b[0m \u001b[1;33m+\u001b[0m \u001b[0mb\u001b[0m\u001b[1;33m\u001b[0m\u001b[1;33m\u001b[0m\u001b[0m\n\u001b[0m",
      "\u001b[1;31mTypeError\u001b[0m: unsupported operand type(s) for +: 'range' and 'range'"
     ]
    }
   ],
   "source": [
    "a = range(5)\n",
    "b = range(6, 11)\n",
    "\n",
    "# dir(a)  => add 함수 없네!! range는 연결이 불가능!!\n",
    "a + b"
   ]
  },
  {
   "cell_type": "code",
   "execution_count": 28,
   "metadata": {},
   "outputs": [
    {
     "data": {
      "text/plain": [
       "[0, 1, 2, 3, 4, 6, 7, 8, 9, 10]"
      ]
     },
     "execution_count": 28,
     "metadata": {},
     "output_type": "execute_result"
    }
   ],
   "source": [
    "a = list(range(5))       # [0, 1, 2, 3, 4]\n",
    "b = list(range(6, 11))   # [6, 7, 8, 9, 10]\n",
    "\n",
    "a + b"
   ]
  },
  {
   "cell_type": "code",
   "execution_count": 30,
   "metadata": {},
   "outputs": [
    {
     "data": {
      "text/plain": [
       "'Helloworld'"
      ]
     },
     "execution_count": 30,
     "metadata": {},
     "output_type": "execute_result"
    }
   ],
   "source": [
    "a = \"Hello\"\n",
    "b = \"world\"\n",
    "\n",
    "a + b"
   ]
  },
  {
   "cell_type": "code",
   "execution_count": 34,
   "metadata": {},
   "outputs": [
    {
     "name": "stdout",
     "output_type": "stream",
     "text": [
      "1020\n",
      "30\n"
     ]
    }
   ],
   "source": [
    "a = \"10\"\n",
    "b = 20\n",
    "\n",
    "# a + b            # 불가능\n",
    "print(a + str(b))  # 문자 더하기 = 연결\n",
    "print(int(a) + b)  # 숫자 더하기 = 연산"
   ]
  },
  {
   "cell_type": "markdown",
   "metadata": {},
   "source": [
    "### 객체 반복"
   ]
  },
  {
   "cell_type": "code",
   "execution_count": 35,
   "metadata": {},
   "outputs": [
    {
     "data": {
      "text/plain": [
       "[1, 2, 3, 1, 2, 3, 1, 2, 3]"
      ]
     },
     "execution_count": 35,
     "metadata": {},
     "output_type": "execute_result"
    }
   ],
   "source": [
    "[1, 2, 3] * 3"
   ]
  },
  {
   "cell_type": "code",
   "execution_count": 36,
   "metadata": {},
   "outputs": [
    {
     "data": {
      "text/plain": [
       "(1, 2, 3, 1, 2, 3, 1, 2, 3)"
      ]
     },
     "execution_count": 36,
     "metadata": {},
     "output_type": "execute_result"
    }
   ],
   "source": [
    "(1, 2, 3) * 3"
   ]
  },
  {
   "cell_type": "code",
   "execution_count": 37,
   "metadata": {},
   "outputs": [
    {
     "data": {
      "text/plain": [
       "3"
      ]
     },
     "execution_count": 37,
     "metadata": {},
     "output_type": "execute_result"
    }
   ],
   "source": [
    "(1) * 3     # 이건 반복이 아니라 연산이 됨"
   ]
  },
  {
   "cell_type": "code",
   "execution_count": 38,
   "metadata": {},
   "outputs": [
    {
     "data": {
      "text/plain": [
       "(1, 1, 1)"
      ]
     },
     "execution_count": 38,
     "metadata": {},
     "output_type": "execute_result"
    }
   ],
   "source": [
    "(1,) * 3"
   ]
  },
  {
   "cell_type": "code",
   "execution_count": 39,
   "metadata": {},
   "outputs": [
    {
     "data": {
      "text/plain": [
       "'HelloHelloHello'"
      ]
     },
     "execution_count": 39,
     "metadata": {},
     "output_type": "execute_result"
    }
   ],
   "source": [
    "\"Hello\" * 3"
   ]
  },
  {
   "cell_type": "code",
   "execution_count": 41,
   "metadata": {},
   "outputs": [
    {
     "data": {
      "text/plain": [
       "[0, 1, 2, 3, 4, 0, 1, 2, 3, 4, 0, 1, 2, 3, 4]"
      ]
     },
     "execution_count": 41,
     "metadata": {},
     "output_type": "execute_result"
    }
   ],
   "source": [
    "# range(5) * 3   ## 불가능!!\n",
    "list(range(5)) * 3"
   ]
  },
  {
   "cell_type": "markdown",
   "metadata": {},
   "source": [
    "### 길이"
   ]
  },
  {
   "cell_type": "code",
   "execution_count": 45,
   "metadata": {},
   "outputs": [
    {
     "data": {
      "text/plain": [
       "(b'\\xbe\\xc8\\xb3\\xe7\\xc7\\xcf\\xbc\\xbc\\xbf\\xe4', 10)"
      ]
     },
     "execution_count": 45,
     "metadata": {},
     "output_type": "execute_result"
    }
   ],
   "source": [
    "a = [1, 2, 3, 4, 5]\n",
    "a = 1, 2, 3\n",
    "a = range(10)\n",
    "a = \"Hello\"\n",
    "a = \"안녕하세요\"\n",
    "b = a.encode(\"utf-8\")   # 한글 1자 -> 3 bite 처리\n",
    "b = a.encode(\"cp949\")   # 한글 1자 -> 2 bite 처리\n",
    "b, len(b) "
   ]
  },
  {
   "cell_type": "markdown",
   "metadata": {},
   "source": [
    "# 인덱스"
   ]
  },
  {
   "cell_type": "code",
   "execution_count": 50,
   "metadata": {},
   "outputs": [
    {
     "name": "stdout",
     "output_type": "stream",
     "text": [
      "H--o\n"
     ]
    }
   ],
   "source": [
    "# index의 음수는 마지마을 기준으로 한다. (방향이 반대 의미)\n",
    "\n",
    "a = [10, 20, 30, 40, 50]\n",
    "a = (10, 20, 30, 40, 50)\n",
    "a = range(10, 60, 10)\n",
    "a = \"Hello World~\"\n",
    "\n",
    "print(a[0], a[-5], sep = '--')"
   ]
  },
  {
   "cell_type": "markdown",
   "metadata": {},
   "source": [
    "### 요소에 값 할당하기"
   ]
  },
  {
   "cell_type": "code",
   "execution_count": 55,
   "metadata": {
    "scrolled": true
   },
   "outputs": [
    {
     "name": "stdout",
     "output_type": "stream",
     "text": [
      "[99, 2, 3, 4, 77]\n"
     ]
    }
   ],
   "source": [
    "# sequence 객체 중에 list 만 변경 가능!!\n",
    "\n",
    "a = [1, 2, 3, 4, 5]\n",
    "\n",
    "# a = (1, 2, 3, 4, 5)    # 튜플은 데이터 변경 불가\n",
    "# a = range(10)          # range도 데이터 변경 불가\n",
    "# a = \"Hello\"            # 문자도 데이터 변경 불가\n",
    "\n",
    "a[0] = 99\n",
    "a[-1] = 88\n",
    "# a[5] = 77   #에러\n",
    "a[len(a)-1] = 77\n",
    "\n",
    "print(a)"
   ]
  },
  {
   "cell_type": "markdown",
   "metadata": {},
   "source": [
    "### del로 요소 삭제하기"
   ]
  },
  {
   "cell_type": "code",
   "execution_count": null,
   "metadata": {},
   "outputs": [],
   "source": [
    "# list 만 삭제 가능!!\n",
    "\n",
    "a = [1, 2, 3, 4, 5]\n",
    "\n",
    "# a = (1, 2, 3, 4, 5)    # 튜플은 데이터 변경 불가\n",
    "# a = range(10)          # range도 데이터 변경 불가\n",
    "# a = \"Hello\"            # 문자도 데이터 변경 불가\n",
    "\n",
    "del a[0]\n",
    "\n",
    "print(a)"
   ]
  },
  {
   "cell_type": "markdown",
   "metadata": {},
   "source": [
    "# 슬라이스\n",
    "모든 시퀀스가 슬라이싱이 가능하다!!"
   ]
  },
  {
   "cell_type": "code",
   "execution_count": 68,
   "metadata": {},
   "outputs": [
    {
     "name": "stdout",
     "output_type": "stream",
     "text": [
      "[10, 20, 30, 40, 50, 60, 70, 80, 90, 100]\n",
      "10 100\n",
      "[10, 20, 30, 40, 50]\n",
      "[70, 80, 90]\n",
      "[70, 80, 90]\n",
      "[70, 90]\n",
      "[]\n",
      "[70]\n",
      "[70]\n",
      "[70]\n"
     ]
    }
   ],
   "source": [
    "a = list(range(10, 110, 10))\n",
    "\n",
    "print(a)\n",
    "print(a[0], a[-1])\n",
    "print(a[0:5])       # 0 <=  < 5\n",
    "print(a[6:9])\n",
    "print(a[6:9:1])\n",
    "print(a[6:9:2])   # start : end : step\n",
    "print(a[6:6])\n",
    "print(a[6:7])\n",
    "print(a[6:7:1])\n",
    "print(a[6:7:2])"
   ]
  },
  {
   "cell_type": "code",
   "execution_count": 72,
   "metadata": {},
   "outputs": [
    {
     "name": "stdout",
     "output_type": "stream",
     "text": [
      "[10, 20, 30, 40, 50, 60, 70, 80, 90, 100]\n",
      "[50, 60, 70, 80, 90]\n",
      "[90]\n"
     ]
    }
   ],
   "source": [
    "a = list(range(10, 110, 10))\n",
    "\n",
    "print(a)\n",
    "print(a[4:-1])    # 4 <=  < -1\n",
    "print(a[-2:-1])   "
   ]
  },
  {
   "cell_type": "code",
   "execution_count": 81,
   "metadata": {},
   "outputs": [
    {
     "name": "stdout",
     "output_type": "stream",
     "text": [
      "range(10, 110, 10)\n",
      "range(10, 110, 10)\n",
      "range(10, 110, 20)\n",
      "range(10, 60, 20)\n",
      "range(30, 110, 20)\n",
      "range(20, 60, 10)\n",
      "range(100, 0, -10)\n"
     ]
    }
   ],
   "source": [
    "a = list(range(10, 110, 10))\n",
    "a = tuple(range(10, 110, 10))   # 튜플도 가능!!\n",
    "a = range(10, 110, 10)          # range 도 가능!!\n",
    "a = \"Hello World\"               # 문자도 가능!!\n",
    "\n",
    "print(a)\n",
    "print(a[::])\n",
    "print(a[::2])\n",
    "print(a[:5:2])\n",
    "print(a[2::2])\n",
    "print(a[1:5:1])\n",
    "print(a[::-1])"
   ]
  },
  {
   "cell_type": "code",
   "execution_count": 3,
   "metadata": {},
   "outputs": [
    {
     "name": "stdout",
     "output_type": "stream",
     "text": [
      "2020 01 23 10 55 jpg\n"
     ]
    }
   ],
   "source": [
    "# 연습 문제\n",
    "filename = \"20200123-105501.jpg\"\n",
    "\n",
    "year = filename[0:4]\n",
    "month = filename[4:6]\n",
    "day = filename[6:8]\n",
    "hour = filename[9:11]\n",
    "minute = filename[11:13]\n",
    "ext = filename[-3:]\n",
    "\n",
    "print(year, month, day, hour, minute, ext)"
   ]
  },
  {
   "cell_type": "code",
   "execution_count": 5,
   "metadata": {},
   "outputs": [
    {
     "data": {
      "text/plain": [
       "([1, 2, 3], (10, 20, 30), '빨리 ', range(0, 3))"
      ]
     },
     "execution_count": 5,
     "metadata": {},
     "output_type": "execute_result"
    }
   ],
   "source": [
    "s = slice(0,3,1)\n",
    "\n",
    "a = [1,2,3,4,5,6,7]\n",
    "b = (10,20,30,40,50)\n",
    "c = \"빨리 점심먹자\"\n",
    "d = range(10)\n",
    "\n",
    "a[s], b[s], c[s], d[s]"
   ]
  },
  {
   "cell_type": "code",
   "execution_count": 17,
   "metadata": {},
   "outputs": [
    {
     "name": "stdout",
     "output_type": "stream",
     "text": [
      "[10, 20, 30, 40, 50, 60, 70, 80, 90, 100]\n",
      "[10, 20, 30, 'a', 'b', 'c', 70, 80, 90, 100]\n",
      "[10, 20, 30, 'a', 70, 80, 90, 100]\n",
      "[10, 20, 30, 'a', 'b', 'c', 'd', 'e', 90, 100]\n",
      "[10, 20, 30, 'a', 50, 'b', 70, 80, 90, 100]\n"
     ]
    }
   ],
   "source": [
    "## 슬라이스에 요소 할당하기\n",
    "\n",
    "a = list(range(10,110,10))\n",
    "print(a)\n",
    "\n",
    "a[3:6] = ['a', 'b', 'c']\n",
    "print(a)\n",
    "\n",
    "a[3:6] = ['a']\n",
    "print(a)\n",
    "\n",
    "a[3:6] = ['a', 'b', 'c', 'd', 'e']\n",
    "print(a)\n",
    "\n",
    "\n",
    "## 슬라이스를 이용해서 값 변경시\n",
    "## step 이 있는 경우는 개수가 일치해야 한다. (step이 1인 경우 제외)\n",
    "\n",
    "# 3, 5\n",
    "# a[3:6:2] = ['a', 'b', 'c', 'd']   ## 에러\n",
    "# print(a)\n",
    "\n",
    "# a[3:6:2] = ['a']                  ## 에러\n",
    "# print(a)\n",
    "\n",
    "a = list(range(10,110,10))\n",
    "a[3:6:2] = ['a', 'b']\n",
    "print(a)"
   ]
  },
  {
   "cell_type": "code",
   "execution_count": 20,
   "metadata": {},
   "outputs": [
    {
     "name": "stdout",
     "output_type": "stream",
     "text": [
      "[2016, 2017, 2018]\n",
      "[9930616, 9857426, 9838892]\n"
     ]
    }
   ],
   "source": [
    "# 연습 문제\n",
    "\n",
    "year = [2011, 2012, 2013, 2014, 2015, 2016, 2017, 2018]\n",
    "population = [10249679, 10195318, 10143645, 10103233, 10022181, 9930616, 9857426, 9838892]\n",
    " \n",
    "print(year[-3:])\n",
    "print(population[-3: len(population)])"
   ]
  },
  {
   "cell_type": "code",
   "execution_count": 27,
   "metadata": {},
   "outputs": [
    {
     "name": "stdout",
     "output_type": "stream",
     "text": [
      "(75, -10, 32, -15, 76, 2)\n",
      "(-32, 97, 9, 4, 0, 14)\n",
      "-32 음수\n",
      "75 양수\n",
      "97 양수\n",
      "-10 음수\n",
      "9 양수\n",
      "32 양수\n",
      "4 양수\n",
      "-15 음수\n",
      "0 음수\n",
      "76 양수\n",
      "14 양수\n",
      "2 양수\n"
     ]
    }
   ],
   "source": [
    "# 연습 문제\n",
    "\n",
    "n = (-32, 75, 97, -10, 9, 32, 4, -15, 0, 76, 14, 2)\n",
    "\n",
    "print(n[1::2])  # 홀수\n",
    "print(n[::2])   # 짝수\n",
    "\n",
    "for val in n:\n",
    "    print(val, end = \" \")\n",
    "    if val > 0:\n",
    "        print(\"양수\")\n",
    "    else:\n",
    "        print(\"음수\")"
   ]
  },
  {
   "cell_type": "markdown",
   "metadata": {},
   "source": [
    "# 딕셔너리"
   ]
  },
  {
   "cell_type": "code",
   "execution_count": 32,
   "metadata": {},
   "outputs": [
    {
     "data": {
      "text/plain": [
       "{'health': 490, 'mana': 334, 'melee': 550, 'armor': 18.72}"
      ]
     },
     "execution_count": 32,
     "metadata": {},
     "output_type": "execute_result"
    }
   ],
   "source": [
    "# 자바 스크립트 : JSON (JavaScript Object Notation)\n",
    "# 파이썬 : Dictionary\n",
    "\n",
    "lux = {'health': 490, 'mana': 334, 'melee': 550, 'armor': 18.72}\n",
    "lux"
   ]
  },
  {
   "cell_type": "code",
   "execution_count": 52,
   "metadata": {},
   "outputs": [
    {
     "data": {
      "text/plain": [
       "dict"
      ]
     },
     "execution_count": 52,
     "metadata": {},
     "output_type": "execute_result"
    }
   ],
   "source": [
    "bithem = { \n",
    "    \"status\": \"0000\",\n",
    "        \"data\": {\n",
    "            \"opening_price\": \"504000\",\n",
    "            \"closing_price\": \"505000\",\n",
    "            \"min_price\": \"504000\",\n",
    "            \"max_price\": \"516000\",\n",
    "            \"units_traded\": \"14.71960286\",\n",
    "            \"acc_trade_value\": \"16878100\",\n",
    "            \"prev_closing_price\": \"503000\",\n",
    "            \"units_traded_24H\": \"1471960286\",\n",
    "            \"acc_trade_value_24H\": \"16878100\",\n",
    "            \"fluctate_24H\": \"1000\",\n",
    "            \"fluctate_rate_24H\": 0.19,\n",
    "            \"date\": \"1417141032622\"\n",
    "            }\n",
    "    }\n",
    "type(bithem)"
   ]
  },
  {
   "cell_type": "code",
   "execution_count": 33,
   "metadata": {},
   "outputs": [
    {
     "data": {
      "text/plain": [
       "{'health': 880, 'mana': 334, 'melee': 550, 'armor': 18.72}"
      ]
     },
     "execution_count": 33,
     "metadata": {},
     "output_type": "execute_result"
    }
   ],
   "source": [
    "# 키가 중복되면 나중에 온 키가 사용된다.\n",
    "\n",
    "lux = {'health': 490, 'health': 880, 'mana': 334, 'melee': 550, 'armor': 18.72}\n",
    "lux"
   ]
  },
  {
   "cell_type": "code",
   "execution_count": 34,
   "metadata": {},
   "outputs": [
    {
     "data": {
      "text/plain": [
       "{'health': 880,\n",
       " 'mana': 334,\n",
       " 'melee': 550,\n",
       " 'armor': 18.72,\n",
       " 100: '백점',\n",
       " True: '합격'}"
      ]
     },
     "execution_count": 34,
     "metadata": {},
     "output_type": "execute_result"
    }
   ],
   "source": [
    "lux = {'health': 490, 'health': 880, 'mana': 334, 'melee': 550, 'armor': 18.72,\n",
    "       100 : \"백점\",      # 키가 숫자인 경우\n",
    "       True : \"합격\"}    # 키가 불인 경우\n",
    "lux"
   ]
  },
  {
   "cell_type": "code",
   "execution_count": 36,
   "metadata": {},
   "outputs": [
    {
     "data": {
      "text/plain": [
       "{'A': 100, 'B': 200, 'C': 300}"
      ]
     },
     "execution_count": 36,
     "metadata": {},
     "output_type": "execute_result"
    }
   ],
   "source": [
    "dict(zip([\"A\", \"B\", \"C\"], [100, 200, 300]))"
   ]
  },
  {
   "cell_type": "code",
   "execution_count": 37,
   "metadata": {},
   "outputs": [
    {
     "data": {
      "text/plain": [
       "{}"
      ]
     },
     "execution_count": 37,
     "metadata": {},
     "output_type": "execute_result"
    }
   ],
   "source": [
    "dict()"
   ]
  },
  {
   "cell_type": "code",
   "execution_count": 38,
   "metadata": {},
   "outputs": [
    {
     "data": {
      "text/plain": [
       "{'A': 100, 'B': 200, 'C': 300}"
      ]
     },
     "execution_count": 38,
     "metadata": {},
     "output_type": "execute_result"
    }
   ],
   "source": [
    "dict(A = 100, B = 200, C = 300)"
   ]
  },
  {
   "cell_type": "code",
   "execution_count": 39,
   "metadata": {},
   "outputs": [
    {
     "data": {
      "text/plain": [
       "{'A': 100, 'B': 200, 'C': 300}"
      ]
     },
     "execution_count": 39,
     "metadata": {},
     "output_type": "execute_result"
    }
   ],
   "source": [
    "dict([(\"A\", 100), (\"B\", 200), (\"C\", 300)])"
   ]
  },
  {
   "cell_type": "code",
   "execution_count": 46,
   "metadata": {},
   "outputs": [
    {
     "name": "stdout",
     "output_type": "stream",
     "text": [
      "90\n",
      "{'A': 90, 'B': 200, 'C': 300, '홍길동': 99}\n",
      "False\n",
      "True\n",
      "4\n"
     ]
    }
   ],
   "source": [
    "score = {'A': 100, 'B': 200, 'C': 300}\n",
    "\n",
    "score[\"A\"] = 90        # 수정\n",
    "score[\"홍길동\"] = 99   # 추가\n",
    "\n",
    "print(score[\"A\"])\n",
    "print(score)\n",
    "# print(score[\"D\"])    # 에러\n",
    "\n",
    "# 존재 유무\n",
    "print(\"D\" in score)\n",
    "print(\"홍길동\" in score)\n",
    "\n",
    "# 키의 개수\n",
    "print(len(score))"
   ]
  },
  {
   "cell_type": "code",
   "execution_count": 48,
   "metadata": {},
   "outputs": [
    {
     "name": "stdout",
     "output_type": "stream",
     "text": [
      "A -> 100\n",
      "B -> 200\n",
      "C -> 300\n"
     ]
    }
   ],
   "source": [
    "score = {'A': 100, 'B': 200, 'C': 300}\n",
    "\n",
    "for key in score:\n",
    "    print(key, \"->\", score[key])"
   ]
  },
  {
   "cell_type": "code",
   "execution_count": 50,
   "metadata": {},
   "outputs": [
    {
     "name": "stdout",
     "output_type": "stream",
     "text": [
      "575.6\n",
      "340\n"
     ]
    }
   ],
   "source": [
    "# 연습 문제\n",
    "\n",
    "camille = {\n",
    "    'health': 575.6,\n",
    "    'health_regen': 1.7,\n",
    "    'mana': 338.8,\n",
    "    'mana_regen': 1.63,\n",
    "    'melee': 125,\n",
    "    'attack_damage': 60,\n",
    "    'attack_speed': 0.625,\n",
    "    'armor': 26,\n",
    "    'magic_resistance': 32.1,\n",
    "    'movement_speed': 340\n",
    "}\n",
    " \n",
    "print(camille['health'])\n",
    "print(camille['movement_speed'])"
   ]
  },
  {
   "cell_type": "code",
   "execution_count": 57,
   "metadata": {},
   "outputs": [
    {
     "name": "stdout",
     "output_type": "stream",
     "text": [
      "505000\n",
      "505000\n"
     ]
    }
   ],
   "source": [
    "bithem = { \n",
    "    \"status\": \"0000\",\n",
    "        \"data\": {\n",
    "            \"opening_price\": \"504000\",\n",
    "            \"closing_price\": \"505000\",\n",
    "            \"min_price\": \"504000\",\n",
    "            \"max_price\": \"516000\",\n",
    "            \"units_traded\": \"14.71960286\",\n",
    "            \"acc_trade_value\": \"16878100\",\n",
    "            \"prev_closing_price\": \"503000\",\n",
    "            \"units_traded_24H\": \"1471960286\",\n",
    "            \"acc_trade_value_24H\": \"16878100\",\n",
    "            \"fluctate_24H\": \"1000\",\n",
    "            \"fluctate_rate_24H\": 0.19,\n",
    "            \"date\": \"1417141032622\"\n",
    "            }\n",
    "    }\n",
    "\n",
    "#1\n",
    "c = bithem[\"data\"]\n",
    "print(c[\"closing_price\"])\n",
    "\n",
    "#2\n",
    "print(bithem[\"data\"][\"closing_price\"])"
   ]
  },
  {
   "cell_type": "markdown",
   "metadata": {},
   "source": [
    "# if 조건문"
   ]
  },
  {
   "cell_type": "code",
   "execution_count": 59,
   "metadata": {},
   "outputs": [
    {
     "name": "stdout",
     "output_type": "stream",
     "text": [
      "OK\n",
      "END~~\n"
     ]
    }
   ],
   "source": [
    "a = 10\n",
    "\n",
    "if a > 10:\n",
    "    print(\"너무 커\")\n",
    "else:\n",
    "    print(\"OK\")\n",
    "print(\"END~~\")"
   ]
  },
  {
   "cell_type": "code",
   "execution_count": 60,
   "metadata": {},
   "outputs": [
    {
     "name": "stdout",
     "output_type": "stream",
     "text": [
      "OK\n",
      "END~~\n"
     ]
    }
   ],
   "source": [
    "a = 10\n",
    "\n",
    "if a > 10:\n",
    "    pass          # 나중에 수정하려고 할 때 문법상 구조는 맞추고 싶을 때 사용\n",
    "else:\n",
    "    print(\"OK\")\n",
    "print(\"END~~\")"
   ]
  },
  {
   "cell_type": "code",
   "execution_count": 64,
   "metadata": {},
   "outputs": [
    {
     "name": "stdout",
     "output_type": "stream",
     "text": [
      "ok\n",
      "ok\n"
     ]
    }
   ],
   "source": [
    "# 연습 문제\n",
    "#1\n",
    "x = 2\n",
    " \n",
    "if x != 5:\n",
    "    print('ok')\n",
    "\n",
    "#2\n",
    "x = 2\n",
    "\n",
    "if x == 5:\n",
    "    pass\n",
    "else:\n",
    "    print('ok')"
   ]
  },
  {
   "cell_type": "markdown",
   "metadata": {},
   "source": [
    "### if 축약 표현"
   ]
  },
  {
   "cell_type": "code",
   "execution_count": 69,
   "metadata": {},
   "outputs": [
    {
     "name": "stdout",
     "output_type": "stream",
     "text": [
      "합격\n",
      "합격\n"
     ]
    }
   ],
   "source": [
    "a = 10\n",
    "\n",
    "# a가 10 이상이면 합격, 그렇지 않으면 불합격\n",
    "result = \"\"\n",
    "if a >= 10:\n",
    "    result = \"합격\"\n",
    "else:\n",
    "    result = \"불합격\"\n",
    "print(result)\n",
    "\n",
    "\n",
    "result = \"합격\" if a >= 10 else \"불합격\"\n",
    "print(result)"
   ]
  },
  {
   "cell_type": "markdown",
   "metadata": {},
   "source": [
    "### elif"
   ]
  },
  {
   "cell_type": "code",
   "execution_count": 73,
   "metadata": {},
   "outputs": [
    {
     "name": "stdout",
     "output_type": "stream",
     "text": [
      "A\n",
      "A\n",
      "98->A\n"
     ]
    }
   ],
   "source": [
    "# 90 이상 \"A\"\n",
    "# 80 이상 \"B\"\n",
    "# 70 이상 \"C\"\n",
    "# 60 이상 \"D\"\n",
    "# 나머지 \"F\"\n",
    "\n",
    "score = 98\n",
    "\n",
    "#나\n",
    "result = \"A\" if score >= 90 else \"B\" if score >= 80 else \"C\" if score >= 70 else \"D\" if score >= 60 else \"F\"\n",
    "print(result)\n",
    "\n",
    "\n",
    "grade = \"\"\n",
    "if score >= 90:\n",
    "    grade = \"A\"\n",
    "else:\n",
    "    if score >= 80:\n",
    "        grade = \"B\"\n",
    "    else:\n",
    "        if score >= 70:\n",
    "            grade = \"C\"\n",
    "        else:\n",
    "            if score >= 60:\n",
    "                grade = \"D\"\n",
    "            else:\n",
    "                grade = \"F\"\n",
    "print(grade)\n",
    "\n",
    "\n",
    "#elif\n",
    "grade = \"\"\n",
    "if score >= 90:\n",
    "    grade = \"A\"\n",
    "elif score >= 80:\n",
    "    grade = \"B\"\n",
    "elif score >= 70:\n",
    "    grade = \"C\"\n",
    "elif score >= 60:\n",
    "    grade = \"D\"\n",
    "else:\n",
    "    grade = \"F\"\n",
    "print(score, grade, sep = \"->\")"
   ]
  },
  {
   "cell_type": "code",
   "execution_count": 77,
   "metadata": {},
   "outputs": [
    {
     "name": "stdout",
     "output_type": "stream",
     "text": [
      "숫자입력>>9\n",
      "아무것도 해당하지 않음\n"
     ]
    }
   ],
   "source": [
    "# 연습 문제\n",
    "# x = map(int, input(\"숫자입력>>\"))\n",
    "\n",
    "x = int(input(\"숫자입력>>\"))\n",
    "\n",
    "if x >= 11 and x <= 20:\n",
    "    print('11~20')\n",
    "else:\n",
    "    if x >= 21 and x <= 30:\n",
    "        print('21~30')\n",
    "    else:\n",
    "        print('아무것도 해당하지 않음')\n",
    "\n",
    "    \n",
    "### 이전, 이후는 포함하는 걸까? -> 포함\n",
    "## 2000년 이전(이후)에 입사했다. -> 2000년 포함"
   ]
  },
  {
   "cell_type": "markdown",
   "metadata": {},
   "source": [
    "# for 반복문"
   ]
  },
  {
   "cell_type": "code",
   "execution_count": 89,
   "metadata": {},
   "outputs": [
    {
     "name": "stdout",
     "output_type": "stream",
     "text": [
      "0 1 2 3 4 5 6 7 8 9 \n",
      "10 9 8 7 6 5 4 3 2 1 "
     ]
    }
   ],
   "source": [
    "list(range(10))\n",
    "\n",
    "for i in range(10):\n",
    "    print(i, end = \" \")\n",
    "\n",
    "print()\n",
    "    \n",
    "for i in range(10,0,-1):\n",
    "    print(i, end = \" \")"
   ]
  },
  {
   "cell_type": "code",
   "execution_count": 92,
   "metadata": {},
   "outputs": [
    {
     "name": "stdout",
     "output_type": "stream",
     "text": [
      "10-20-30-\n",
      "10-20-30-\n",
      "10-20-30-\n",
      "0-1-2-3-4-5-6-7-8-9-"
     ]
    }
   ],
   "source": [
    "for val in [10, 20, 30]:\n",
    "    print(val, end = \"-\")\n",
    "\n",
    "print()    \n",
    "\n",
    "for val in (10, 20, 30):\n",
    "    print(val, end = \"-\")\n",
    "\n",
    "print()\n",
    "\n",
    "for val in \"Python\":\n",
    "    print(val, end = \"-\")\n",
    "    \n",
    "print()\n",
    "\n",
    "for val in range(10):\n",
    "    print(val, end = \"-\")"
   ]
  },
  {
   "cell_type": "code",
   "execution_count": 99,
   "metadata": {},
   "outputs": [
    {
     "name": "stdout",
     "output_type": "stream",
     "text": [
      "[30, 20, 10]\n",
      "(30, 20, 10)\n",
      "nohtyP\n",
      "n*o*h*t*y*P\n"
     ]
    }
   ],
   "source": [
    "print(list(reversed([10,20,30])))\n",
    "print(tuple(reversed([10,20,30])))\n",
    "\n",
    "print(\"\".join(list(reversed(\"Python\"))))\n",
    "print(\"*\".join(list(reversed(\"Python\"))))"
   ]
  },
  {
   "cell_type": "code",
   "execution_count": 94,
   "metadata": {},
   "outputs": [
    {
     "name": "stdout",
     "output_type": "stream",
     "text": [
      "30-20-10-\n",
      "30-20-10-\n",
      "n-o-h-t-y-P-\n",
      "9-8-7-6-5-4-3-2-1-0-"
     ]
    }
   ],
   "source": [
    "for val in reversed([10, 20, 30]):\n",
    "    print(val, end = \"-\")\n",
    "\n",
    "print()    \n",
    "\n",
    "for val in reversed((10, 20, 30)):\n",
    "    print(val, end = \"-\")\n",
    "\n",
    "print()\n",
    "\n",
    "for val in reversed(\"Python\"):\n",
    "    print(val, end = \"-\")\n",
    "    \n",
    "print()\n",
    "\n",
    "for val in reversed(range(10)):\n",
    "    print(val, end = \"-\")"
   ]
  },
  {
   "cell_type": "code",
   "execution_count": 103,
   "metadata": {},
   "outputs": [
    {
     "name": "stdout",
     "output_type": "stream",
     "text": [
      "490 -170 250 1020 80 620 210 \n",
      "[490, -170, 250, 1020, 80, 620, 210]\n",
      "490 -170 250 1020 80 620 210\n"
     ]
    }
   ],
   "source": [
    "x = [49, -17, 25, 102, 8, 62, 21]\n",
    "\n",
    "for val in x:\n",
    "    print(val*10, end =\" \")\n",
    "    \n",
    "print()\n",
    "    \n",
    "# 컴프리헨션\n",
    "result = [ val*10 for val in x ]\n",
    "print(result)\n",
    "\n",
    "result = \" \".join([ str(val*10) for val in x ])\n",
    "print(result)"
   ]
  },
  {
   "cell_type": "code",
   "execution_count": 104,
   "metadata": {},
   "outputs": [
    {
     "data": {
      "text/plain": [
       "(49, -17, 25, 102, 8, 62, 21)"
      ]
     },
     "execution_count": 104,
     "metadata": {},
     "output_type": "execute_result"
    }
   ],
   "source": [
    "x = [49, -17, 25, 102, 8, 62, 21]\n",
    "\n",
    "tuple( val for val in x )"
   ]
  },
  {
   "cell_type": "code",
   "execution_count": 105,
   "metadata": {},
   "outputs": [
    {
     "data": {
      "text/plain": [
       "(102, 8, 62)"
      ]
     },
     "execution_count": 105,
     "metadata": {},
     "output_type": "execute_result"
    }
   ],
   "source": [
    "x = [49, -17, 25, 102, 8, 62, 21]\n",
    "\n",
    "tuple( val for val in x if val % 2 == 0 )"
   ]
  },
  {
   "cell_type": "code",
   "execution_count": 106,
   "metadata": {},
   "outputs": [
    {
     "name": "stdout",
     "output_type": "stream",
     "text": [
      "102 8 62 "
     ]
    }
   ],
   "source": [
    "for val in x:\n",
    "    if val % 2 == 0:\n",
    "        print(val, end = \" \")"
   ]
  },
  {
   "cell_type": "code",
   "execution_count": 107,
   "metadata": {},
   "outputs": [
    {
     "data": {
      "text/plain": [
       "[102, 8, 62]"
      ]
     },
     "execution_count": 107,
     "metadata": {},
     "output_type": "execute_result"
    }
   ],
   "source": [
    "[ val for val in x if val % 2 == 0 ]"
   ]
  },
  {
   "cell_type": "code",
   "execution_count": 110,
   "metadata": {},
   "outputs": [
    {
     "data": {
      "text/plain": [
       "[490, -16, 26, 1020, 9, 620, 22]"
      ]
     },
     "execution_count": 110,
     "metadata": {},
     "output_type": "execute_result"
    }
   ],
   "source": [
    "# 40보다 크면 10을 곱하고, 아니면 1을 더하자\n",
    "x = [49, -17, 25, 102, 8, 62, 21]\n",
    "\n",
    "[ val * 10 if val > 40 else val + 1 for val in x ]   # ★★★★★★★리스트 컴프리헨션 if, else 위치 주의"
   ]
  },
  {
   "cell_type": "code",
   "execution_count": 118,
   "metadata": {
    "scrolled": true
   },
   "outputs": [
    {
     "name": "stdout",
     "output_type": "stream",
     "text": [
      "[1, '2', 3, '4', 5, '6', 7, '8', 9, '10']\n",
      "1\n",
      "* 2 *\n",
      "3\n",
      "* 4 *\n",
      "5\n",
      "* 6 *\n",
      "7\n",
      "* 8 *\n",
      "9\n",
      "* 10 *\n"
     ]
    }
   ],
   "source": [
    "# 1~10... 짝수이면 문자로 출력, 아니면 그대로\n",
    "\n",
    "y = range(1, 11)\n",
    "print([ str(val) if val % 2 == 0 else val for val in y ])\n",
    "\n",
    "for val in y:\n",
    "    if val % 2 == 0:\n",
    "        print(\"*\", str(val), \"*\")\n",
    "    else:\n",
    "        print(val)"
   ]
  },
  {
   "cell_type": "markdown",
   "metadata": {},
   "source": [
    "# while 반복문"
   ]
  },
  {
   "cell_type": "code",
   "execution_count": 122,
   "metadata": {},
   "outputs": [
    {
     "name": "stdout",
     "output_type": "stream",
     "text": [
      "1 Hi~\n",
      "2 Hi~\n",
      "3 Hi~\n",
      "4 Hi~\n",
      "5 Hi~\n",
      "6 Hi~\n",
      "7 Hi~\n",
      "8 Hi~\n",
      "9 Hi~\n",
      "10 Hi~\n"
     ]
    }
   ],
   "source": [
    "# 1~10 반복\n",
    "\n",
    "for i in range(1, 11):\n",
    "    print(i, \"Hi~\")"
   ]
  },
  {
   "cell_type": "code",
   "execution_count": 120,
   "metadata": {},
   "outputs": [
    {
     "name": "stdout",
     "output_type": "stream",
     "text": [
      "1 Hi~\n",
      "2 Hi~\n",
      "3 Hi~\n",
      "4 Hi~\n",
      "5 Hi~\n",
      "6 Hi~\n",
      "7 Hi~\n",
      "8 Hi~\n",
      "9 Hi~\n",
      "10 Hi~\n"
     ]
    }
   ],
   "source": [
    "# 1~10 반복\n",
    "\n",
    "i = 1\n",
    "while i <= 10:\n",
    "    print(i, \"Hi~\")\n",
    "    # i = i + 1    # 복합대입연산자\n",
    "    i += 1"
   ]
  },
  {
   "cell_type": "code",
   "execution_count": 132,
   "metadata": {},
   "outputs": [
    {
     "data": {
      "text/plain": [
       "2"
      ]
     },
     "execution_count": 132,
     "metadata": {},
     "output_type": "execute_result"
    }
   ],
   "source": [
    "import random\n",
    "\n",
    "# random.random()      # 실수\n",
    "random.randint(1, 6)   # 1 부터 6 까지의 정수"
   ]
  },
  {
   "cell_type": "code",
   "execution_count": 135,
   "metadata": {},
   "outputs": [
    {
     "name": "stdout",
     "output_type": "stream",
     "text": [
      "최초의 주사위 수 :  5\n",
      "6\n",
      "5\n",
      "6\n",
      "4\n",
      "3\n"
     ]
    }
   ],
   "source": [
    "# 주사위를 던진다. 주사위는 1~6까지 수를 가지고 있다.\n",
    "# 3이라는 숫자가 나오면 중단한다.\n",
    "\n",
    "# 횟수를 알 수 없으므로 => for 가 아닌 while 사용!\n",
    "# while 은 조건에 맞으면 계속한다.\n",
    "\n",
    "i = random.randint(1, 6)\n",
    "print(\"최초의 주사위 수 : \", i)\n",
    "\n",
    "while i != 3:\n",
    "    i = random.randint(1, 6)\n",
    "    print(i)"
   ]
  },
  {
   "cell_type": "code",
   "execution_count": 147,
   "metadata": {},
   "outputs": [
    {
     "name": "stdout",
     "output_type": "stream",
     "text": [
      "7 40 40 43 38 14 "
     ]
    }
   ],
   "source": [
    "# 로또 1~45  6개를 선택\n",
    "\n",
    "lucky = list(range(1, 46))\n",
    "\n",
    "for val in range(6):\n",
    "    print( random.choice(lucky), end = \" \" )   # 중복 허용"
   ]
  },
  {
   "cell_type": "code",
   "execution_count": 148,
   "metadata": {},
   "outputs": [
    {
     "name": "stdout",
     "output_type": "stream",
     "text": [
      "37 34 29 20 1 40 "
     ]
    }
   ],
   "source": [
    "# 로또 1~45  6개를 선택\n",
    "\n",
    "for val in range(6):\n",
    "    lucky = random.randint(1, 45)\n",
    "    print( lucky, end = \" \" )               # 중복 허용"
   ]
  },
  {
   "cell_type": "code",
   "execution_count": 149,
   "metadata": {},
   "outputs": [
    {
     "data": {
      "text/plain": [
       "True"
      ]
     },
     "execution_count": 149,
     "metadata": {},
     "output_type": "execute_result"
    }
   ],
   "source": [
    "a = [37, 34, 29, 20, 1, 40]\n",
    "\n",
    "40 in a"
   ]
  },
  {
   "cell_type": "code",
   "execution_count": 151,
   "metadata": {},
   "outputs": [
    {
     "data": {
      "text/plain": [
       "[37, 34, 29, 20, 1, 40, 10]"
      ]
     },
     "execution_count": 151,
     "metadata": {},
     "output_type": "execute_result"
    }
   ],
   "source": [
    "a = [37, 34, 29, 20, 1, 40]\n",
    "\n",
    "a.append(10)\n",
    "a"
   ]
  },
  {
   "cell_type": "code",
   "execution_count": 178,
   "metadata": {},
   "outputs": [
    {
     "name": "stdout",
     "output_type": "stream",
     "text": [
      "[11, 21, 25, 26, 12, 34]\n"
     ]
    }
   ],
   "source": [
    "# 로또 1~45  6개를 선택  // 단, 중복 불가!!!\n",
    "\n",
    "lucky = []\n",
    "\n",
    "while len(lucky) < 6:\n",
    "    num = random.randint(1, 45)\n",
    "    if num in lucky:\n",
    "        pass\n",
    "    else:\n",
    "        lucky.append(num)\n",
    "print(lucky)"
   ]
  },
  {
   "cell_type": "markdown",
   "metadata": {},
   "source": [
    "### break"
   ]
  },
  {
   "cell_type": "code",
   "execution_count": 179,
   "metadata": {},
   "outputs": [
    {
     "name": "stdout",
     "output_type": "stream",
     "text": [
      "[13, 15, 42, 29, 37, 45]\n"
     ]
    }
   ],
   "source": [
    "# 로또 1~45  6개를 선택  // 단, 중복 불가!!!\n",
    "\n",
    "lucky = []\n",
    "\n",
    "while True:\n",
    "    \n",
    "    if len(lucky) == 6:\n",
    "        break\n",
    "    \n",
    "    num = random.randint(1, 45)\n",
    "    if num in lucky:\n",
    "        pass\n",
    "    else:\n",
    "        lucky.append(num)\n",
    "print(lucky)"
   ]
  },
  {
   "cell_type": "markdown",
   "metadata": {},
   "source": [
    "### continue"
   ]
  },
  {
   "cell_type": "code",
   "execution_count": 181,
   "metadata": {},
   "outputs": [
    {
     "name": "stdout",
     "output_type": "stream",
     "text": [
      "[8, 20, 41, 14, 2, 39]\n"
     ]
    }
   ],
   "source": [
    "# 로또 1~45  6개를 선택  // 단, 중복 불가!!!\n",
    "\n",
    "lucky = []\n",
    "\n",
    "while True:\n",
    "    \n",
    "    if len(lucky) == 6:\n",
    "        break                # loop 빠지기\n",
    "    \n",
    "    num = random.randint(1, 45)\n",
    "    if num in lucky:\n",
    "        continue             # loop을 밑의 문장등을 제외하고 계속 진행\n",
    "    lucky.append(num)\n",
    "print(lucky)"
   ]
  },
  {
   "cell_type": "code",
   "execution_count": null,
   "metadata": {},
   "outputs": [],
   "source": []
  }
 ],
 "metadata": {
  "kernelspec": {
   "display_name": "Python 3",
   "language": "python",
   "name": "python3"
  },
  "language_info": {
   "codemirror_mode": {
    "name": "ipython",
    "version": 3
   },
   "file_extension": ".py",
   "mimetype": "text/x-python",
   "name": "python",
   "nbconvert_exporter": "python",
   "pygments_lexer": "ipython3",
   "version": "3.7.4"
  }
 },
 "nbformat": 4,
 "nbformat_minor": 4
}
