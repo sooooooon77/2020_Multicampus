{
 "cells": [
  {
   "cell_type": "markdown",
   "metadata": {},
   "source": [
    "# 복습"
   ]
  },
  {
   "cell_type": "code",
   "execution_count": 6,
   "metadata": {
    "scrolled": true
   },
   "outputs": [
    {
     "name": "stdout",
     "output_type": "stream",
     "text": [
      "0 1 2 3 4 \n",
      "10 20 30 40 \n",
      "10 20 30 40 \n",
      "P y t h o n "
     ]
    }
   ],
   "source": [
    "## 반복문\n",
    "\n",
    "## Sequence (연속, 순서 있음) : range, list, tuple, string\n",
    "\n",
    "# range\n",
    "for i in range(5):\n",
    "    print(i, end = \" \")\n",
    "print()\n",
    "\n",
    "# list -> ★★★얘만 변경 가능★★★\n",
    "for i in [10, 20, 30, 40]:\n",
    "    print(i, end = \" \")\n",
    "print()\n",
    "\n",
    "# tuple\n",
    "for i in (10, 20, 30, 40):\n",
    "    print(i, end = \" \")\n",
    "print()\n",
    "\n",
    "# string\n",
    "for i in \"Python\":\n",
    "    print(i, end = \" \")"
   ]
  },
  {
   "cell_type": "markdown",
   "metadata": {},
   "source": [
    "# 중첩 루프"
   ]
  },
  {
   "cell_type": "code",
   "execution_count": 10,
   "metadata": {},
   "outputs": [
    {
     "name": "stdout",
     "output_type": "stream",
     "text": [
      "*\n",
      "**\n",
      "***\n",
      "****\n",
      "*****\n"
     ]
    }
   ],
   "source": [
    "for i in range(5):\n",
    "    for j in range(i+1):\n",
    "        print(\"*\", end = '')\n",
    "    print(end = \"\\n\")"
   ]
  },
  {
   "cell_type": "code",
   "execution_count": 13,
   "metadata": {
    "scrolled": true
   },
   "outputs": [
    {
     "name": "stdout",
     "output_type": "stream",
     "text": [
      "2 단\n",
      "2 x 1 = 2\n",
      "2 x 2 = 4\n",
      "2 x 3 = 6\n",
      "2 x 4 = 8\n",
      "2 x 5 = 10\n",
      "2 x 6 = 12\n",
      "2 x 7 = 14\n",
      "2 x 8 = 16\n",
      "2 x 9 = 18\n",
      "3 단\n",
      "3 x 1 = 3\n",
      "3 x 2 = 6\n",
      "3 x 3 = 9\n",
      "3 x 4 = 12\n",
      "3 x 5 = 15\n",
      "3 x 6 = 18\n",
      "3 x 7 = 21\n",
      "3 x 8 = 24\n",
      "3 x 9 = 27\n",
      "4 단\n",
      "4 x 1 = 4\n",
      "4 x 2 = 8\n",
      "4 x 3 = 12\n",
      "4 x 4 = 16\n",
      "4 x 5 = 20\n",
      "4 x 6 = 24\n",
      "4 x 7 = 28\n",
      "4 x 8 = 32\n",
      "4 x 9 = 36\n",
      "5 단\n",
      "5 x 1 = 5\n",
      "5 x 2 = 10\n",
      "5 x 3 = 15\n",
      "5 x 4 = 20\n",
      "5 x 5 = 25\n",
      "5 x 6 = 30\n",
      "5 x 7 = 35\n",
      "5 x 8 = 40\n",
      "5 x 9 = 45\n",
      "6 단\n",
      "6 x 1 = 6\n",
      "6 x 2 = 12\n",
      "6 x 3 = 18\n",
      "6 x 4 = 24\n",
      "6 x 5 = 30\n",
      "6 x 6 = 36\n",
      "6 x 7 = 42\n",
      "6 x 8 = 48\n",
      "6 x 9 = 54\n",
      "7 단\n",
      "7 x 1 = 7\n",
      "7 x 2 = 14\n",
      "7 x 3 = 21\n",
      "7 x 4 = 28\n",
      "7 x 5 = 35\n",
      "7 x 6 = 42\n",
      "7 x 7 = 49\n",
      "7 x 8 = 56\n",
      "7 x 9 = 63\n",
      "8 단\n",
      "8 x 1 = 8\n",
      "8 x 2 = 16\n",
      "8 x 3 = 24\n",
      "8 x 4 = 32\n",
      "8 x 5 = 40\n",
      "8 x 6 = 48\n",
      "8 x 7 = 56\n",
      "8 x 8 = 64\n",
      "8 x 9 = 72\n",
      "9 단\n",
      "9 x 1 = 9\n",
      "9 x 2 = 18\n",
      "9 x 3 = 27\n",
      "9 x 4 = 36\n",
      "9 x 5 = 45\n",
      "9 x 6 = 54\n",
      "9 x 7 = 63\n",
      "9 x 8 = 72\n",
      "9 x 9 = 81\n"
     ]
    }
   ],
   "source": [
    "# 구구단 2~9단, 곱1~9\n",
    "\n",
    "for dan in range(2, 10):\n",
    "    print(dan, \"단\")\n",
    "    for gop in range(1, 10):\n",
    "        print(dan, \"x\", gop, \"=\", dan*gop)"
   ]
  },
  {
   "cell_type": "code",
   "execution_count": 25,
   "metadata": {},
   "outputs": [
    {
     "name": "stdout",
     "output_type": "stream",
     "text": [
      "*    \n",
      " *   \n",
      "  *  \n",
      "   * \n",
      "    *\n"
     ]
    }
   ],
   "source": [
    "for i in range(5):\n",
    "    for j in range(5):\n",
    "        if i == j:\n",
    "            print(\"*\", end = \"\")\n",
    "        else:\n",
    "            print(\" \", end = \"\")\n",
    "    print()"
   ]
  },
  {
   "cell_type": "markdown",
   "metadata": {},
   "source": [
    "# Fizz Buzz"
   ]
  },
  {
   "cell_type": "code",
   "execution_count": 33,
   "metadata": {
    "scrolled": true
   },
   "outputs": [
    {
     "name": "stdout",
     "output_type": "stream",
     "text": [
      "1\n",
      "2\n",
      "Fizz\n",
      "4\n",
      "Buzz\n",
      "Fizz\n",
      "7\n",
      "8\n",
      "Fizz\n",
      "Buzz\n",
      "11\n",
      "Fizz\n",
      "13\n",
      "14\n",
      "FizzBuzz\n",
      "16\n",
      "17\n",
      "Fizz\n",
      "19\n",
      "Buzz\n",
      "Fizz\n",
      "22\n",
      "23\n",
      "Fizz\n",
      "Buzz\n",
      "26\n",
      "Fizz\n",
      "28\n",
      "29\n",
      "FizzBuzz\n",
      "31\n",
      "32\n",
      "Fizz\n",
      "34\n",
      "Buzz\n",
      "Fizz\n",
      "37\n",
      "38\n",
      "Fizz\n",
      "Buzz\n",
      "41\n",
      "Fizz\n",
      "43\n",
      "44\n",
      "FizzBuzz\n",
      "46\n",
      "47\n",
      "Fizz\n",
      "49\n",
      "Buzz\n",
      "Fizz\n",
      "52\n",
      "53\n",
      "Fizz\n",
      "Buzz\n",
      "56\n",
      "Fizz\n",
      "58\n",
      "59\n",
      "FizzBuzz\n",
      "61\n",
      "62\n",
      "Fizz\n",
      "64\n",
      "Buzz\n",
      "Fizz\n",
      "67\n",
      "68\n",
      "Fizz\n",
      "Buzz\n",
      "71\n",
      "Fizz\n",
      "73\n",
      "74\n",
      "FizzBuzz\n",
      "76\n",
      "77\n",
      "Fizz\n",
      "79\n",
      "Buzz\n",
      "Fizz\n",
      "82\n",
      "83\n",
      "Fizz\n",
      "Buzz\n",
      "86\n",
      "Fizz\n",
      "88\n",
      "89\n",
      "FizzBuzz\n",
      "91\n",
      "92\n",
      "Fizz\n",
      "94\n",
      "Buzz\n",
      "Fizz\n",
      "97\n",
      "98\n",
      "Fizz\n",
      "Buzz\n"
     ]
    }
   ],
   "source": [
    "for i in range(1, 101):\n",
    "    if i % 3 == 0 and i % 5 == 0:  ######## 순서 중요!!!\n",
    "        print(\"FizzBuzz\")\n",
    "    elif i % 5 == 0:\n",
    "        print(\"Buzz\")\n",
    "    elif i % 3 == 0:\n",
    "        print(\"Fizz\")\n",
    "    else:\n",
    "        print(i)"
   ]
  },
  {
   "cell_type": "code",
   "execution_count": 32,
   "metadata": {
    "scrolled": true
   },
   "outputs": [
    {
     "name": "stdout",
     "output_type": "stream",
     "text": [
      "1\n",
      "2\n",
      "Fizz\n",
      "4\n",
      "Buzz\n",
      "5\n",
      "Fizz\n",
      "7\n",
      "8\n",
      "Fizz\n",
      "Buzz\n",
      "10\n",
      "11\n",
      "Fizz\n",
      "13\n",
      "14\n",
      "Buzz\n",
      "Fizz\n",
      "16\n",
      "17\n",
      "Fizz\n",
      "19\n",
      "Buzz\n",
      "20\n",
      "Fizz\n",
      "22\n",
      "23\n",
      "Fizz\n",
      "Buzz\n",
      "25\n",
      "26\n",
      "Fizz\n",
      "28\n",
      "29\n",
      "Buzz\n",
      "Fizz\n",
      "31\n",
      "32\n",
      "Fizz\n",
      "34\n",
      "Buzz\n",
      "35\n",
      "Fizz\n",
      "37\n",
      "38\n",
      "Fizz\n",
      "Buzz\n",
      "40\n",
      "41\n",
      "Fizz\n",
      "43\n",
      "44\n",
      "Buzz\n",
      "Fizz\n",
      "46\n",
      "47\n",
      "Fizz\n",
      "49\n",
      "Buzz\n",
      "50\n",
      "Fizz\n",
      "52\n",
      "53\n",
      "Fizz\n",
      "Buzz\n",
      "55\n",
      "56\n",
      "Fizz\n",
      "58\n",
      "59\n",
      "Buzz\n",
      "Fizz\n",
      "61\n",
      "62\n",
      "Fizz\n",
      "64\n",
      "Buzz\n",
      "65\n",
      "Fizz\n",
      "67\n",
      "68\n",
      "Fizz\n",
      "Buzz\n",
      "70\n",
      "71\n",
      "Fizz\n",
      "73\n",
      "74\n",
      "Buzz\n",
      "Fizz\n",
      "76\n",
      "77\n",
      "Fizz\n",
      "79\n",
      "Buzz\n",
      "80\n",
      "Fizz\n",
      "82\n",
      "83\n",
      "Fizz\n",
      "Buzz\n",
      "85\n",
      "86\n",
      "Fizz\n",
      "88\n",
      "89\n",
      "Buzz\n",
      "Fizz\n",
      "91\n",
      "92\n",
      "Fizz\n",
      "94\n",
      "Buzz\n",
      "95\n",
      "Fizz\n",
      "97\n",
      "98\n",
      "Fizz\n",
      "Buzz\n",
      "100\n"
     ]
    }
   ],
   "source": [
    "# 줄바꿈만 안했을 뿐 위랑 같은 코드\n",
    "for i in range(1, 101):\n",
    "    if i % 5 == 0:\n",
    "        print(\"Buzz\")\n",
    "    if i % 3 == 0:\n",
    "        print(\"Fizz\")\n",
    "    else:\n",
    "        print(i)"
   ]
  },
  {
   "cell_type": "markdown",
   "metadata": {},
   "source": [
    "# 코드 단축하기"
   ]
  },
  {
   "cell_type": "markdown",
   "metadata": {},
   "source": [
    "타입 우선순위 : 문자 우선"
   ]
  },
  {
   "cell_type": "code",
   "execution_count": 34,
   "metadata": {
    "scrolled": true
   },
   "outputs": [
    {
     "data": {
      "text/plain": [
       "''"
      ]
     },
     "execution_count": 34,
     "metadata": {},
     "output_type": "execute_result"
    }
   ],
   "source": [
    "\"Fizz\" * (10 % 3 == 0)   ## False = 0 이니까"
   ]
  },
  {
   "cell_type": "code",
   "execution_count": 37,
   "metadata": {
    "scrolled": false
   },
   "outputs": [
    {
     "data": {
      "text/plain": [
       "'Fizz'"
      ]
     },
     "execution_count": 37,
     "metadata": {},
     "output_type": "execute_result"
    }
   ],
   "source": [
    "\"Fizz\" * (10 % 5 == 0)   ## True = 1 이니까"
   ]
  },
  {
   "cell_type": "code",
   "execution_count": 41,
   "metadata": {},
   "outputs": [
    {
     "data": {
      "text/plain": [
       "True"
      ]
     },
     "execution_count": 41,
     "metadata": {},
     "output_type": "execute_result"
    }
   ],
   "source": [
    "True and True"
   ]
  },
  {
   "cell_type": "code",
   "execution_count": 42,
   "metadata": {
    "scrolled": true
   },
   "outputs": [
    {
     "data": {
      "text/plain": [
       "False"
      ]
     },
     "execution_count": 42,
     "metadata": {},
     "output_type": "execute_result"
    }
   ],
   "source": [
    "True and False"
   ]
  },
  {
   "cell_type": "code",
   "execution_count": 43,
   "metadata": {},
   "outputs": [
    {
     "data": {
      "text/plain": [
       "True"
      ]
     },
     "execution_count": 43,
     "metadata": {},
     "output_type": "execute_result"
    }
   ],
   "source": [
    "True or False"
   ]
  },
  {
   "cell_type": "code",
   "execution_count": 44,
   "metadata": {},
   "outputs": [
    {
     "data": {
      "text/plain": [
       "True"
      ]
     },
     "execution_count": 44,
     "metadata": {},
     "output_type": "execute_result"
    }
   ],
   "source": [
    "True or True"
   ]
  },
  {
   "cell_type": "code",
   "execution_count": 47,
   "metadata": {
    "scrolled": true
   },
   "outputs": [
    {
     "data": {
      "text/plain": [
       "10"
      ]
     },
     "execution_count": 47,
     "metadata": {},
     "output_type": "execute_result"
    }
   ],
   "source": [
    "\"Fizz\" * (10 % 3 == 0) and \"Buzz\" * (10 % 5 == 0) or 10   \n",
    "## (\"\" and \"Buzz\") or 10         =>       False or 10       =>      앞이 False로 틀리니까 10 \n",
    "#                                ↑                         ↑\n",
    "#                   (False and True = False)        (False or True = True)"
   ]
  },
  {
   "cell_type": "code",
   "execution_count": 40,
   "metadata": {
    "scrolled": true
   },
   "outputs": [
    {
     "data": {
      "text/plain": [
       "'Buzz'"
      ]
     },
     "execution_count": 40,
     "metadata": {},
     "output_type": "execute_result"
    }
   ],
   "source": [
    "\"Fizz\" * (10 % 3 == 0) + \"Buzz\" * (10 % 5 == 0) or 10   ## (\"\" + \"Buzz\") or 10   =>   \"Buzz\""
   ]
  },
  {
   "cell_type": "code",
   "execution_count": 38,
   "metadata": {
    "scrolled": false
   },
   "outputs": [
    {
     "data": {
      "text/plain": [
       "'FizzBuzz'"
      ]
     },
     "execution_count": 38,
     "metadata": {},
     "output_type": "execute_result"
    }
   ],
   "source": [
    "\"Fizz\" * (15 % 3 == 0) + \"Buzz\" * (15 % 5 == 0) or 10   ## (\"Fizz\" + \"Buzz\") or 10   =>   \"FizzBuzz\""
   ]
  },
  {
   "cell_type": "code",
   "execution_count": 39,
   "metadata": {
    "scrolled": true
   },
   "outputs": [
    {
     "name": "stdout",
     "output_type": "stream",
     "text": [
      "1\n",
      "2\n",
      "Fizz\n",
      "4\n",
      "Buzz\n",
      "Fizz\n",
      "7\n",
      "8\n",
      "Fizz\n",
      "Buzz\n",
      "11\n",
      "Fizz\n",
      "13\n",
      "14\n",
      "FizzBuzz\n",
      "16\n",
      "17\n",
      "Fizz\n",
      "19\n",
      "Buzz\n",
      "Fizz\n",
      "22\n",
      "23\n",
      "Fizz\n",
      "Buzz\n",
      "26\n",
      "Fizz\n",
      "28\n",
      "29\n",
      "FizzBuzz\n",
      "31\n",
      "32\n",
      "Fizz\n",
      "34\n",
      "Buzz\n",
      "Fizz\n",
      "37\n",
      "38\n",
      "Fizz\n",
      "Buzz\n",
      "41\n",
      "Fizz\n",
      "43\n",
      "44\n",
      "FizzBuzz\n",
      "46\n",
      "47\n",
      "Fizz\n",
      "49\n",
      "Buzz\n",
      "Fizz\n",
      "52\n",
      "53\n",
      "Fizz\n",
      "Buzz\n",
      "56\n",
      "Fizz\n",
      "58\n",
      "59\n",
      "FizzBuzz\n",
      "61\n",
      "62\n",
      "Fizz\n",
      "64\n",
      "Buzz\n",
      "Fizz\n",
      "67\n",
      "68\n",
      "Fizz\n",
      "Buzz\n",
      "71\n",
      "Fizz\n",
      "73\n",
      "74\n",
      "FizzBuzz\n",
      "76\n",
      "77\n",
      "Fizz\n",
      "79\n",
      "Buzz\n",
      "Fizz\n",
      "82\n",
      "83\n",
      "Fizz\n",
      "Buzz\n",
      "86\n",
      "Fizz\n",
      "88\n",
      "89\n",
      "FizzBuzz\n",
      "91\n",
      "92\n",
      "Fizz\n",
      "94\n",
      "Buzz\n",
      "Fizz\n",
      "97\n",
      "98\n",
      "Fizz\n",
      "Buzz\n"
     ]
    }
   ],
   "source": [
    "for i in range(1, 101):\n",
    "    print(\"Fizz\" * (i % 3 == 0) + \"Buzz\" * (i % 5 == 0) or i)"
   ]
  },
  {
   "cell_type": "markdown",
   "metadata": {},
   "source": [
    "# 리스트 응용"
   ]
  },
  {
   "cell_type": "markdown",
   "metadata": {},
   "source": [
    "### 리스트 추가 / 확장 / 삽입"
   ]
  },
  {
   "cell_type": "code",
   "execution_count": 56,
   "metadata": {},
   "outputs": [
    {
     "name": "stdout",
     "output_type": "stream",
     "text": [
      "300\n",
      "500\n",
      "[1, 700, 2, 3, 100, 200, [300, 400], 500, 600]\n"
     ]
    }
   ],
   "source": [
    "alist = [1, 2, 3]\n",
    "alist.append(100)\n",
    "alist.append(200)\n",
    "alist.append([300, 400])   # 리스트 안에 리스트 모양으로 들어감  =>  리스트 추가\n",
    "\n",
    "alist.extend([500, 600])   # 리스트 안에 같은 차원으로 들어감  =>  리스트 확장\n",
    "\n",
    "print(alist[5][0])\n",
    "print(alist[6])\n",
    "\n",
    "alist.insert(1, 700)       # 리스트 삽입\n",
    "\n",
    "print(alist)"
   ]
  },
  {
   "cell_type": "code",
   "execution_count": 364,
   "metadata": {},
   "outputs": [
    {
     "name": "stdout",
     "output_type": "stream",
     "text": [
      "[1, [88, 89], 66, 67, 3, 4, 5]\n",
      "[1, 777, 777, [88, 89], 66, 67, 3, 4, 5]\n",
      "[1, 999, 999, 777, [88, 89], 66, 67, 3, 4, 5]\n",
      "[1, 9999, 9999, 777, [88, 89], 66, 67, 3, 4, 5]\n",
      "[1, 99999, 99999, [88, 89], 66, 67, 3, 4, 5]\n"
     ]
    }
   ],
   "source": [
    "alist = [1, 2, 3, 4, 5]\n",
    "alist[1] = [88, 89]       # append\n",
    "alist[2:2] = [66, 67]     # extend : 시작 인덱스와 끝 인덱스를 같게 지정하면 해당 인덱스의 \n",
    "print(alist)              #          요소를 덮어쓰지 않으면서 요소 여러 개를 중간에 추가할 수 있습니다\n",
    "\n",
    "alist[1:1] = [777, 777]\n",
    "print(alist)\n",
    "\n",
    "alist[1:2] = [999, 999]\n",
    "print(alist)\n",
    "\n",
    "alist[1:3] = [9999, 9999]\n",
    "print(alist)\n",
    "\n",
    "alist[1:4] = [99999, 99999]\n",
    "print(alist)"
   ]
  },
  {
   "cell_type": "markdown",
   "metadata": {},
   "source": [
    "### 리스트 삭제"
   ]
  },
  {
   "cell_type": "code",
   "execution_count": 61,
   "metadata": {},
   "outputs": [
    {
     "name": "stdout",
     "output_type": "stream",
     "text": [
      "5 꺼냄\n",
      "4 꺼냄\n",
      "3 꺼냄\n"
     ]
    },
    {
     "data": {
      "text/plain": [
       "[1, 2]"
      ]
     },
     "execution_count": 61,
     "metadata": {},
     "output_type": "execute_result"
    }
   ],
   "source": [
    "alist = [1,2,3,4,5]\n",
    "\n",
    "print(alist.pop(), \"꺼냄\")     # pop : 인덱스를 이용해서 값을 내놓고 삭제\n",
    "print(alist.pop(), \"꺼냄\")\n",
    "print(alist.pop(), \"꺼냄\")\n",
    "\n",
    "alist"
   ]
  },
  {
   "cell_type": "code",
   "execution_count": 62,
   "metadata": {},
   "outputs": [
    {
     "name": "stdout",
     "output_type": "stream",
     "text": [
      "30 꺼냄\n"
     ]
    },
    {
     "data": {
      "text/plain": [
       "[10, 20, 40, 50]"
      ]
     },
     "execution_count": 62,
     "metadata": {},
     "output_type": "execute_result"
    }
   ],
   "source": [
    "alist = [10,20,30,40,50]\n",
    "\n",
    "print(alist.pop(2), \"꺼냄\")\n",
    "\n",
    "alist"
   ]
  },
  {
   "cell_type": "code",
   "execution_count": 63,
   "metadata": {},
   "outputs": [
    {
     "name": "stdout",
     "output_type": "stream",
     "text": [
      "None 꺼냄\n"
     ]
    },
    {
     "data": {
      "text/plain": [
       "[10, 30, 40, 50]"
      ]
     },
     "execution_count": 63,
     "metadata": {},
     "output_type": "execute_result"
    }
   ],
   "source": [
    "alist = [10,20,30,40,50]\n",
    "\n",
    "print(alist.remove(20), \"꺼냄\")    # remove : 값을 찾아서 삭제  => 이미 삭제됐기 때문에 None\n",
    "\n",
    "alist"
   ]
  },
  {
   "cell_type": "code",
   "execution_count": 65,
   "metadata": {},
   "outputs": [
    {
     "data": {
      "text/plain": [
       "[30, 40, 50]"
      ]
     },
     "execution_count": 65,
     "metadata": {},
     "output_type": "execute_result"
    }
   ],
   "source": [
    "alist = [10,20,30,40,50]\n",
    "\n",
    "del alist[0]                 # del : 인덱스를 이용해서 삭제\n",
    "del alist[0]\n",
    "\n",
    "alist"
   ]
  },
  {
   "cell_type": "markdown",
   "metadata": {},
   "source": [
    "### 인덱스 찾기"
   ]
  },
  {
   "cell_type": "code",
   "execution_count": 67,
   "metadata": {},
   "outputs": [
    {
     "data": {
      "text/plain": [
       "2"
      ]
     },
     "execution_count": 67,
     "metadata": {},
     "output_type": "execute_result"
    }
   ],
   "source": [
    "alist = [10, 20, 30, 40, 50]\n",
    "alist.index(30)"
   ]
  },
  {
   "cell_type": "markdown",
   "metadata": {},
   "source": [
    "### 값의 개수"
   ]
  },
  {
   "cell_type": "code",
   "execution_count": 367,
   "metadata": {
    "scrolled": false
   },
   "outputs": [
    {
     "name": "stdout",
     "output_type": "stream",
     "text": [
      "4\n",
      "2\n"
     ]
    }
   ],
   "source": [
    "alist = [10, 20, 30, 40, 50, 10, 20, 20, 20]\n",
    "blist = [\"Hello\", \"Hi\", \"Hello\", \"Hi\"]\n",
    "\n",
    "print(alist.count(20))\n",
    "print(blist.count(\"Hello\"))"
   ]
  },
  {
   "cell_type": "markdown",
   "metadata": {},
   "source": [
    "### 리스트 뒤집기"
   ]
  },
  {
   "cell_type": "code",
   "execution_count": 71,
   "metadata": {},
   "outputs": [
    {
     "data": {
      "text/plain": [
       "[50, 40, 30, 20, 10]"
      ]
     },
     "execution_count": 71,
     "metadata": {},
     "output_type": "execute_result"
    }
   ],
   "source": [
    "alist = [10,20,30,40,50]\n",
    "alist.reverse()          ## 원본 변경\n",
    "alist"
   ]
  },
  {
   "cell_type": "code",
   "execution_count": 73,
   "metadata": {},
   "outputs": [
    {
     "data": {
      "text/plain": [
       "[50, 40, 30, 20, 10]"
      ]
     },
     "execution_count": 73,
     "metadata": {},
     "output_type": "execute_result"
    }
   ],
   "source": [
    "alist = [10,20,30,40,50]\n",
    "alist[::-1]"
   ]
  },
  {
   "cell_type": "markdown",
   "metadata": {},
   "source": [
    "### 리스트 정렬"
   ]
  },
  {
   "cell_type": "code",
   "execution_count": 80,
   "metadata": {
    "scrolled": true
   },
   "outputs": [
    {
     "data": {
      "text/plain": [
       "['__add__',\n",
       " '__class__',\n",
       " '__contains__',\n",
       " '__delattr__',\n",
       " '__delitem__',\n",
       " '__dir__',\n",
       " '__doc__',\n",
       " '__eq__',\n",
       " '__format__',\n",
       " '__ge__',\n",
       " '__getattribute__',\n",
       " '__getitem__',\n",
       " '__gt__',\n",
       " '__hash__',\n",
       " '__iadd__',\n",
       " '__imul__',\n",
       " '__init__',\n",
       " '__init_subclass__',\n",
       " '__iter__',\n",
       " '__le__',\n",
       " '__len__',\n",
       " '__lt__',\n",
       " '__mul__',\n",
       " '__ne__',\n",
       " '__new__',\n",
       " '__reduce__',\n",
       " '__reduce_ex__',\n",
       " '__repr__',\n",
       " '__reversed__',\n",
       " '__rmul__',\n",
       " '__setattr__',\n",
       " '__setitem__',\n",
       " '__sizeof__',\n",
       " '__str__',\n",
       " '__subclasshook__',\n",
       " 'append',\n",
       " 'clear',\n",
       " 'copy',\n",
       " 'count',\n",
       " 'extend',\n",
       " 'index',\n",
       " 'insert',\n",
       " 'pop',\n",
       " 'remove',\n",
       " 'reverse',\n",
       " 'sort']"
      ]
     },
     "execution_count": 80,
     "metadata": {},
     "output_type": "execute_result"
    }
   ],
   "source": [
    "dir(alist)"
   ]
  },
  {
   "cell_type": "code",
   "execution_count": 74,
   "metadata": {},
   "outputs": [
    {
     "data": {
      "text/plain": [
       "[10, 30, 44, 50, 60, 88, 99]"
      ]
     },
     "execution_count": 74,
     "metadata": {},
     "output_type": "execute_result"
    }
   ],
   "source": [
    "alist = [99, 10, 88, 30, 44, 50, 60]\n",
    "alist.sort()                        ## 원본 변경   ( 오름차순이 디폴트 값 )        \n",
    "alist"
   ]
  },
  {
   "cell_type": "code",
   "execution_count": 77,
   "metadata": {},
   "outputs": [
    {
     "data": {
      "text/plain": [
       "[10, 30, 44, 50, 60, 88, 99]"
      ]
     },
     "execution_count": 77,
     "metadata": {},
     "output_type": "execute_result"
    }
   ],
   "source": [
    "alist = [99, 10, 88, 30, 44, 50, 60]\n",
    "sorted(alist)        "
   ]
  },
  {
   "cell_type": "code",
   "execution_count": 78,
   "metadata": {},
   "outputs": [
    {
     "data": {
      "text/plain": [
       "[10, 30, 44, 50, 60, 88, 99]"
      ]
     },
     "execution_count": 78,
     "metadata": {},
     "output_type": "execute_result"
    }
   ],
   "source": [
    "alist = [99, 10, 88, 30, 44, 50, 60]\n",
    "blist = sorted(alist)        \n",
    "blist"
   ]
  },
  {
   "cell_type": "markdown",
   "metadata": {},
   "source": [
    "### 리스트 모두 삭제"
   ]
  },
  {
   "cell_type": "code",
   "execution_count": 84,
   "metadata": {
    "scrolled": true
   },
   "outputs": [
    {
     "data": {
      "text/plain": [
       "[]"
      ]
     },
     "execution_count": 84,
     "metadata": {},
     "output_type": "execute_result"
    }
   ],
   "source": [
    "alist = [99, 10, 88, 30, 44, 50, 60]\n",
    "alist.clear()\n",
    "alist"
   ]
  },
  {
   "cell_type": "markdown",
   "metadata": {},
   "source": [
    "### 리스트 슬라이스 조작"
   ]
  },
  {
   "cell_type": "code",
   "execution_count": 86,
   "metadata": {
    "scrolled": true
   },
   "outputs": [
    {
     "name": "stdout",
     "output_type": "stream",
     "text": [
      "아이템이 없다\n"
     ]
    }
   ],
   "source": [
    "alist = [99, 10, 88, 30, 44, 50, 60]\n",
    "\n",
    "del alist[:]                # 리스트가 아예 삭제됨\n",
    "\n",
    "if alist:                   # 값이 있으면 True, 없으면 False\n",
    "    print(\"아이템이 있다\")\n",
    "else:\n",
    "    print(\"아이템이 없다\")"
   ]
  },
  {
   "cell_type": "markdown",
   "metadata": {
    "scrolled": true
   },
   "source": [
    "### 리스트 복사"
   ]
  },
  {
   "cell_type": "code",
   "execution_count": 99,
   "metadata": {
    "scrolled": true
   },
   "outputs": [
    {
     "name": "stdout",
     "output_type": "stream",
     "text": [
      "True 값이 같다\n",
      "[99, 88, 30, 40, 50] 1693707952008\n",
      "[99, 88, 30, 40, 50] 1693707952008\n",
      "[10, 20, 30, 40, 50] 1693707908104\n",
      "True\n",
      "False 주소는 다르다\n"
     ]
    }
   ],
   "source": [
    "alist = [10,20,30,40,50]\n",
    "blist = alist            # 주소 할당\n",
    "clist = alist.copy()     # 값을 복사\n",
    "\n",
    "print(alist == clist, \"값이 같다\")\n",
    "\n",
    "alist[0] = 99\n",
    "blist[1] = 88\n",
    "\n",
    "print(alist, id(alist))\n",
    "print(blist, id(blist))\n",
    "print(clist, id(clist))\n",
    "print(alist is blist)\n",
    "print(alist is clist, \"주소는 다르다\")"
   ]
  },
  {
   "cell_type": "markdown",
   "metadata": {
    "scrolled": true
   },
   "source": [
    "### enumerate"
   ]
  },
  {
   "cell_type": "code",
   "execution_count": 105,
   "metadata": {},
   "outputs": [
    {
     "name": "stdout",
     "output_type": "stream",
     "text": [
      "1 --> 10\n",
      "2 --> 20\n",
      "3 --> 30\n",
      "4 --> 40\n",
      "5 --> 50\n"
     ]
    }
   ],
   "source": [
    "alist = [10,20,30,40,50]\n",
    "\n",
    "# 값을 하나씩 꺼낸다\n",
    "for index, val in enumerate(alist):\n",
    "    print(index + 1, val, sep = \" --> \")"
   ]
  },
  {
   "cell_type": "code",
   "execution_count": 106,
   "metadata": {},
   "outputs": [
    {
     "name": "stdout",
     "output_type": "stream",
     "text": [
      "100 --> 10\n",
      "101 --> 20\n",
      "102 --> 30\n",
      "103 --> 40\n",
      "104 --> 50\n"
     ]
    }
   ],
   "source": [
    "alist = [10,20,30,40,50]\n",
    "\n",
    "# 값을 하나씩 꺼낸다\n",
    "for index, val in enumerate(alist, start = 100):\n",
    "    print(index, val, sep = \" --> \")"
   ]
  },
  {
   "cell_type": "markdown",
   "metadata": {},
   "source": [
    "### 최대 / 최소"
   ]
  },
  {
   "cell_type": "code",
   "execution_count": 108,
   "metadata": {},
   "outputs": [
    {
     "name": "stdout",
     "output_type": "stream",
     "text": [
      "최소 :  2\n",
      "최대 :  70\n"
     ]
    }
   ],
   "source": [
    "alist = [2, 10, 70, 44, 66, 50]\n",
    "alist.sort()                   # 오름차순\n",
    "print(\"최소 : \", alist[0])\n",
    "print(\"최대 : \", alist[-1])"
   ]
  },
  {
   "cell_type": "code",
   "execution_count": 110,
   "metadata": {},
   "outputs": [
    {
     "name": "stdout",
     "output_type": "stream",
     "text": [
      "최대 :  70\n",
      "최소 :  2\n"
     ]
    }
   ],
   "source": [
    "alist = [2, 10, 70, 44, 66, 50]\n",
    "alist.sort(reverse = True)    # 내림차순\n",
    "print(\"최대 : \", alist[0])\n",
    "print(\"최소 : \", alist[-1])"
   ]
  },
  {
   "cell_type": "code",
   "execution_count": 111,
   "metadata": {},
   "outputs": [
    {
     "name": "stdout",
     "output_type": "stream",
     "text": [
      "최대 :  70\n",
      "최소 :  2\n"
     ]
    }
   ],
   "source": [
    "alist = [2, 10, 70, 44, 66, 50]\n",
    "alist.sort(reverse = True)   \n",
    "print(\"최대 : \", max(alist))\n",
    "print(\"최소 : \", min(alist))"
   ]
  },
  {
   "cell_type": "markdown",
   "metadata": {},
   "source": [
    "### 리스트 합계"
   ]
  },
  {
   "cell_type": "code",
   "execution_count": 146,
   "metadata": {},
   "outputs": [
    {
     "name": "stdout",
     "output_type": "stream",
     "text": [
      "sum : 50\n"
     ]
    }
   ],
   "source": [
    "a = [10, 10, 10, 10, 10]\n",
    "x = 0\n",
    "for i in a:\n",
    "    x += i\n",
    "print(\"sum :\", x)"
   ]
  },
  {
   "cell_type": "code",
   "execution_count": 145,
   "metadata": {},
   "outputs": [
    {
     "name": "stdout",
     "output_type": "stream",
     "text": [
      "sum : 50\n"
     ]
    }
   ],
   "source": [
    "a = [10, 10, 10, 10, 10]\n",
    "print(\"sum :\", sum(a))"
   ]
  },
  {
   "cell_type": "markdown",
   "metadata": {},
   "source": [
    "### 리스트 표현식"
   ]
  },
  {
   "cell_type": "code",
   "execution_count": 112,
   "metadata": {},
   "outputs": [
    {
     "data": {
      "text/plain": [
       "[1, 2, 3, 4, 5, 6, 7, 8, 9, 10]"
      ]
     },
     "execution_count": 112,
     "metadata": {},
     "output_type": "execute_result"
    }
   ],
   "source": [
    "[i for i in range(1, 11)]"
   ]
  },
  {
   "cell_type": "code",
   "execution_count": 114,
   "metadata": {
    "scrolled": true
   },
   "outputs": [
    {
     "data": {
      "text/plain": [
       "[2, 4, 6, 8, 10]"
      ]
     },
     "execution_count": 114,
     "metadata": {},
     "output_type": "execute_result"
    }
   ],
   "source": [
    "[i for i in range(1, 11) if i % 2 == 0]"
   ]
  },
  {
   "cell_type": "code",
   "execution_count": 115,
   "metadata": {
    "scrolled": true
   },
   "outputs": [
    {
     "data": {
      "text/plain": [
       "['1', 2, '3', 4, '5', 6, '7', 8, '9', 10]"
      ]
     },
     "execution_count": 115,
     "metadata": {},
     "output_type": "execute_result"
    }
   ],
   "source": [
    "[i if i % 2 == 0 else str(i) for i in range(1, 11)]"
   ]
  },
  {
   "cell_type": "code",
   "execution_count": 117,
   "metadata": {
    "scrolled": true
   },
   "outputs": [
    {
     "data": {
      "text/plain": [
       "[102, 104, 106, 108, 110]"
      ]
     },
     "execution_count": 117,
     "metadata": {},
     "output_type": "execute_result"
    }
   ],
   "source": [
    "list(i+100 for i in range(1, 11) if i % 2 == 0)"
   ]
  },
  {
   "cell_type": "code",
   "execution_count": 120,
   "metadata": {},
   "outputs": [
    {
     "data": {
      "text/plain": [
       "[1, 1, 2, 2, 3, 3]"
      ]
     },
     "execution_count": 120,
     "metadata": {},
     "output_type": "execute_result"
    }
   ],
   "source": [
    "# 1~3\n",
    "[i for i in range(1, 4) for j in range(10, 12)]"
   ]
  },
  {
   "cell_type": "code",
   "execution_count": 123,
   "metadata": {
    "scrolled": true
   },
   "outputs": [
    {
     "name": "stdout",
     "output_type": "stream",
     "text": [
      "[1, 1, 2, 2, 3, 3]\n"
     ]
    }
   ],
   "source": [
    "alist = []\n",
    "for i in range(1, 4):\n",
    "    for j in range(10, 12):\n",
    "        alist.append(i)\n",
    "print(alist)"
   ]
  },
  {
   "cell_type": "code",
   "execution_count": 124,
   "metadata": {},
   "outputs": [
    {
     "data": {
      "text/plain": [
       "[(1, 10), (1, 11), (2, 10), (2, 11), (3, 10), (3, 11)]"
      ]
     },
     "execution_count": 124,
     "metadata": {},
     "output_type": "execute_result"
    }
   ],
   "source": [
    "# 1~3\n",
    "[(i,j) for i in range(1, 4) for j in range(10, 12)]"
   ]
  },
  {
   "cell_type": "code",
   "execution_count": 127,
   "metadata": {
    "scrolled": true
   },
   "outputs": [
    {
     "name": "stdout",
     "output_type": "stream",
     "text": [
      "[(1, 10), (1, 11), (2, 10), (2, 11), (3, 10), (3, 11)]\n"
     ]
    }
   ],
   "source": [
    "alist = []\n",
    "for i in range(1, 4):\n",
    "    for j in range(10, 12):\n",
    "        alist.append((i,j))\n",
    "print(alist)"
   ]
  },
  {
   "cell_type": "code",
   "execution_count": 132,
   "metadata": {
    "scrolled": true
   },
   "outputs": [
    {
     "data": {
      "text/plain": [
       "[(2, 1),\n",
       " (2, 2),\n",
       " (2, 3),\n",
       " (2, 4),\n",
       " (2, 5),\n",
       " (2, 6),\n",
       " (2, 7),\n",
       " (2, 8),\n",
       " (2, 9),\n",
       " (3, 1),\n",
       " (3, 2),\n",
       " (3, 3),\n",
       " (3, 4),\n",
       " (3, 5),\n",
       " (3, 6),\n",
       " (3, 7),\n",
       " (3, 8),\n",
       " (3, 9),\n",
       " (4, 1),\n",
       " (4, 2),\n",
       " (4, 3),\n",
       " (4, 4),\n",
       " (4, 5),\n",
       " (4, 6),\n",
       " (4, 7),\n",
       " (4, 8),\n",
       " (4, 9),\n",
       " (5, 1),\n",
       " (5, 2),\n",
       " (5, 3),\n",
       " (5, 4),\n",
       " (5, 5),\n",
       " (5, 6),\n",
       " (5, 7),\n",
       " (5, 8),\n",
       " (5, 9),\n",
       " (6, 1),\n",
       " (6, 2),\n",
       " (6, 3),\n",
       " (6, 4),\n",
       " (6, 5),\n",
       " (6, 6),\n",
       " (6, 7),\n",
       " (6, 8),\n",
       " (6, 9),\n",
       " (7, 1),\n",
       " (7, 2),\n",
       " (7, 3),\n",
       " (7, 4),\n",
       " (7, 5),\n",
       " (7, 6),\n",
       " (7, 7),\n",
       " (7, 8),\n",
       " (7, 9),\n",
       " (8, 1),\n",
       " (8, 2),\n",
       " (8, 3),\n",
       " (8, 4),\n",
       " (8, 5),\n",
       " (8, 6),\n",
       " (8, 7),\n",
       " (8, 8),\n",
       " (8, 9),\n",
       " (9, 1),\n",
       " (9, 2),\n",
       " (9, 3),\n",
       " (9, 4),\n",
       " (9, 5),\n",
       " (9, 6),\n",
       " (9, 7),\n",
       " (9, 8),\n",
       " (9, 9)]"
      ]
     },
     "execution_count": 132,
     "metadata": {},
     "output_type": "execute_result"
    }
   ],
   "source": [
    "[(dan, gop) for dan in range(2, 10) for gop in range(1, 10)]"
   ]
  },
  {
   "cell_type": "code",
   "execution_count": 133,
   "metadata": {},
   "outputs": [
    {
     "data": {
      "text/plain": [
       "[(4, 1),\n",
       " (4, 2),\n",
       " (4, 3),\n",
       " (4, 4),\n",
       " (4, 5),\n",
       " (4, 6),\n",
       " (4, 7),\n",
       " (4, 8),\n",
       " (4, 9),\n",
       " (8, 1),\n",
       " (8, 2),\n",
       " (8, 3),\n",
       " (8, 4),\n",
       " (8, 5),\n",
       " (8, 6),\n",
       " (8, 7),\n",
       " (8, 8),\n",
       " (8, 9)]"
      ]
     },
     "execution_count": 133,
     "metadata": {},
     "output_type": "execute_result"
    }
   ],
   "source": [
    "[(dan, gop) for dan in range(2, 10) if dan % 4 == 0 for gop in range(1, 10)]"
   ]
  },
  {
   "cell_type": "code",
   "execution_count": 134,
   "metadata": {
    "scrolled": true
   },
   "outputs": [
    {
     "data": {
      "text/plain": [
       "[(4, 1),\n",
       " (4, 2),\n",
       " (4, 3),\n",
       " (4, 4),\n",
       " (4, 5),\n",
       " (4, 6),\n",
       " (4, 7),\n",
       " (4, 8),\n",
       " (4, 9),\n",
       " (8, 1),\n",
       " (8, 2),\n",
       " (8, 3),\n",
       " (8, 4),\n",
       " (8, 5),\n",
       " (8, 6),\n",
       " (8, 7),\n",
       " (8, 8),\n",
       " (8, 9)]"
      ]
     },
     "execution_count": 134,
     "metadata": {},
     "output_type": "execute_result"
    }
   ],
   "source": [
    "[(dan, gop) for dan in range(2, 10) for gop in range(1, 10) if dan % 4 == 0]"
   ]
  },
  {
   "cell_type": "markdown",
   "metadata": {},
   "source": [
    "### map"
   ]
  },
  {
   "cell_type": "code",
   "execution_count": 140,
   "metadata": {},
   "outputs": [
    {
     "data": {
      "text/plain": [
       "[1, 2, 3, 4]"
      ]
     },
     "execution_count": 140,
     "metadata": {},
     "output_type": "execute_result"
    }
   ],
   "source": [
    "a = [1.2, 2.5, 3.7, 4.6]\n",
    "[int(i) for i in a]"
   ]
  },
  {
   "cell_type": "code",
   "execution_count": 141,
   "metadata": {},
   "outputs": [
    {
     "name": "stdout",
     "output_type": "stream",
     "text": [
      "[1, 2, 3, 4] <class 'list'>\n"
     ]
    }
   ],
   "source": [
    "a = [1.2, 2.5, 3.7, 4.6]\n",
    "blist = [int(i) for i in a]\n",
    "print(blist, type(blist))"
   ]
  },
  {
   "cell_type": "code",
   "execution_count": 143,
   "metadata": {},
   "outputs": [
    {
     "name": "stdout",
     "output_type": "stream",
     "text": [
      "[1, 2, 3, 4]\n"
     ]
    }
   ],
   "source": [
    "a = [1.2, 2.5, 3.7, 4.6]\n",
    "clist = list(map(int, a))\n",
    "print(clist)"
   ]
  },
  {
   "cell_type": "code",
   "execution_count": 153,
   "metadata": {},
   "outputs": [
    {
     "name": "stdout",
     "output_type": "stream",
     "text": [
      "['1', '2', '3', '4', '5']\n",
      "['1', '2', '3', '4', '5']\n",
      "('1', '2', '3', '4', '5')\n",
      "('1', '2', '3', '4', '5')\n"
     ]
    }
   ],
   "source": [
    "a = [1,2,3,4,5]\n",
    "blist = [str(val) for val in a]\n",
    "print(blist)\n",
    "\n",
    "clist = list(map(str, a))\n",
    "print(clist)\n",
    "\n",
    "dlist = tuple(str(val) for val in a)\n",
    "print(dlist)\n",
    "\n",
    "elist = tuple(map(str, a))\n",
    "print(elist)"
   ]
  },
  {
   "cell_type": "code",
   "execution_count": 156,
   "metadata": {},
   "outputs": [
    {
     "name": "stdout",
     "output_type": "stream",
     "text": [
      "[5, 6, 5, 11]\n",
      "[5, 6, 5, 11]\n"
     ]
    }
   ],
   "source": [
    "a = [\"Hello\", \"python\", \"world\", \"Multicampus\"]\n",
    "len(a)\n",
    "\n",
    "# 방법1 : comprehension\n",
    "alist = [len(val) for val in a]\n",
    "print(alist)\n",
    "\n",
    "# 방법2 : map\n",
    "blist = list(map(len, a))\n",
    "print(blist)"
   ]
  },
  {
   "cell_type": "code",
   "execution_count": 161,
   "metadata": {},
   "outputs": [
    {
     "name": "stdout",
     "output_type": "stream",
     "text": [
      "입력하세요>>10 20 30 40\n",
      "100\n"
     ]
    }
   ],
   "source": [
    "# 사용자 입력값을 받아서 합계\n",
    "\n",
    "a = input(\"입력하세요>>\").split()\n",
    "\n",
    "# 방법1 : map\n",
    "a = list(map(int, a))\n",
    "\n",
    "# 방법2 : comprehension\n",
    "# a = [int(val) for val in a]\n",
    "\n",
    "print(sum(a))"
   ]
  },
  {
   "cell_type": "code",
   "execution_count": 163,
   "metadata": {},
   "outputs": [
    {
     "name": "stdout",
     "output_type": "stream",
     "text": [
      "['alpha', 'bravo', 'delta', 'hotel', 'india']\n"
     ]
    }
   ],
   "source": [
    "# 연습문제 #\n",
    "a = ['alpha', 'bravo', 'charlie', 'delta', 'echo', 'foxtrot', 'golf', 'hotel', 'india']\n",
    "b = [val for val in a if len(val) == 5]\n",
    " \n",
    "print(b)"
   ]
  },
  {
   "cell_type": "markdown",
   "metadata": {},
   "source": [
    "# 2차원 리스트"
   ]
  },
  {
   "cell_type": "code",
   "execution_count": 167,
   "metadata": {},
   "outputs": [
    {
     "name": "stdout",
     "output_type": "stream",
     "text": [
      "10\n",
      "20\n",
      "30\n",
      "40\n",
      "50\n",
      "60\n"
     ]
    }
   ],
   "source": [
    "a1 = [[10, 20],\n",
    "     [30, 40],\n",
    "     [50, 60]]          # 규칙 3 x 2\n",
    "\n",
    "for row in range(3):\n",
    "    #print(a1[row])\n",
    "    for col in range(2):\n",
    "        print(a1[row][col])"
   ]
  },
  {
   "cell_type": "code",
   "execution_count": 169,
   "metadata": {},
   "outputs": [
    {
     "name": "stdout",
     "output_type": "stream",
     "text": [
      "10\n",
      "20\n",
      "30\n",
      "40\n",
      "50\n",
      "60\n",
      "70\n",
      "80\n",
      "100\n"
     ]
    }
   ],
   "source": [
    "a1 = [[10, 20],\n",
    "     [30, 40],\n",
    "     [50, 60], [70, 80], [100]]     # 규칙 3 x 2\n",
    "\n",
    "for row in range(len(a1)):\n",
    "    #print(a1[row])\n",
    "    for col in range(len(a1[row])):\n",
    "        print(a1[row][col])"
   ]
  },
  {
   "cell_type": "code",
   "execution_count": 170,
   "metadata": {},
   "outputs": [
    {
     "name": "stdout",
     "output_type": "stream",
     "text": [
      "10\n",
      "20\n",
      "500\n",
      "600\n",
      "700\n",
      "9\n",
      "30\n",
      "40\n",
      "8\n",
      "800\n",
      "900\n",
      "1000\n"
     ]
    }
   ],
   "source": [
    "a2 = [[10, 20],\n",
    "     [500, 600, 700],\n",
    "     [9],\n",
    "     [30, 40],\n",
    "     [8],\n",
    "     [800, 900, 1000]]   # 불규칙\n",
    "\n",
    "for row in range(len(a2)):\n",
    "    #print(a2[row])\n",
    "    for col in range(len(a2[row])):\n",
    "        print(a2[row][col])"
   ]
  },
  {
   "cell_type": "code",
   "execution_count": 179,
   "metadata": {},
   "outputs": [],
   "source": [
    "a = ((10, 20), (30, 40), (50,), (60, 70, 80))   # 튜플 안에 튜플을 넣은 2차원 튜플\n",
    "b = ([10, 20], [30, 40], [50], [60, 70, 80])    # 튜플 안에 리스트를 넣은 2차원 튜플\n",
    "c = [(10, 20), (30, 40), (50, 60)]              # 리스트 안에 튜플을 넣은 2차원 튜플"
   ]
  },
  {
   "cell_type": "code",
   "execution_count": 182,
   "metadata": {},
   "outputs": [
    {
     "name": "stdout",
     "output_type": "stream",
     "text": [
      "(10, 20)\n",
      "합계는..... 30\n",
      "(30, 40)\n",
      "합계는..... 70\n",
      "(50,)\n",
      "합계는..... 50\n",
      "(60, 70, 80)\n",
      "합계는..... 210\n"
     ]
    }
   ],
   "source": [
    "for i in range(len(a)):\n",
    "    print(a[i])\n",
    "    total = 0\n",
    "    for j in range(len(a[i])):\n",
    "        total = total + a[i][j]\n",
    "    print(\"합계는.....\", total)"
   ]
  },
  {
   "cell_type": "code",
   "execution_count": 183,
   "metadata": {},
   "outputs": [
    {
     "name": "stdout",
     "output_type": "stream",
     "text": [
      "[10, 20]\n",
      "합계는..... 30\n",
      "[30, 40]\n",
      "합계는..... 70\n",
      "[50]\n",
      "합계는..... 50\n",
      "[60, 70, 80]\n",
      "합계는..... 210\n"
     ]
    }
   ],
   "source": [
    "for i in range(len(b)):\n",
    "    print(b[i])\n",
    "    total = 0\n",
    "    for j in range(len(b[i])):\n",
    "        total = total + b[i][j]\n",
    "    print(\"합계는.....\", total)"
   ]
  },
  {
   "cell_type": "code",
   "execution_count": 181,
   "metadata": {
    "scrolled": true
   },
   "outputs": [
    {
     "name": "stdout",
     "output_type": "stream",
     "text": [
      "(10, 20)\n",
      "합계는..... 30\n",
      "(30, 40)\n",
      "합계는..... 70\n",
      "(50, 60)\n",
      "합계는..... 110\n"
     ]
    }
   ],
   "source": [
    "for i in range(len(c)):\n",
    "    print(c[i])\n",
    "    total = 0\n",
    "    for j in range(len(c[i])):\n",
    "        total = total + c[i][j]\n",
    "    print(\"합계는.....\", total)"
   ]
  },
  {
   "cell_type": "code",
   "execution_count": 188,
   "metadata": {},
   "outputs": [],
   "source": [
    "a = ((10, 20), (30, 40), (50,), (60, 70, 80))   # 튜플 안에 튜플을 넣은 2차원 튜플\n",
    "b = ([10, 20], [30, 40], [50], [60, 70, 80])    # 튜플 안에 리스트를 넣은 2차원 튜플\n",
    "c = [(10, 20), (30, 40), (50, 60)]              # 리스트 안에 튜플을 넣은 2차원 튜플"
   ]
  },
  {
   "cell_type": "code",
   "execution_count": 189,
   "metadata": {
    "scrolled": true
   },
   "outputs": [
    {
     "ename": "TypeError",
     "evalue": "'tuple' object does not support item assignment",
     "output_type": "error",
     "traceback": [
      "\u001b[1;31m---------------------------------------------------------------------------\u001b[0m",
      "\u001b[1;31mTypeError\u001b[0m                                 Traceback (most recent call last)",
      "\u001b[1;32m<ipython-input-189-a0e8ad166441>\u001b[0m in \u001b[0;36m<module>\u001b[1;34m\u001b[0m\n\u001b[1;32m----> 1\u001b[1;33m \u001b[0ma\u001b[0m\u001b[1;33m[\u001b[0m\u001b[1;36m0\u001b[0m\u001b[1;33m]\u001b[0m \u001b[1;33m=\u001b[0m \u001b[1;33m(\u001b[0m\u001b[1;36m1\u001b[0m\u001b[1;33m,\u001b[0m\u001b[1;36m2\u001b[0m\u001b[1;33m,\u001b[0m\u001b[1;36m3\u001b[0m\u001b[1;33m)\u001b[0m    \u001b[1;31m# 에러 -> 튜플이기 때문에 수정 불가능\u001b[0m\u001b[1;33m\u001b[0m\u001b[1;33m\u001b[0m\u001b[0m\n\u001b[0m\u001b[0;32m      2\u001b[0m \u001b[0ma\u001b[0m\u001b[1;33m[\u001b[0m\u001b[1;36m0\u001b[0m\u001b[1;33m]\u001b[0m\u001b[1;33m\u001b[0m\u001b[1;33m\u001b[0m\u001b[0m\n",
      "\u001b[1;31mTypeError\u001b[0m: 'tuple' object does not support item assignment"
     ]
    }
   ],
   "source": [
    "a[0] = (1,2,3)    # 에러 -> 튜플이기 때문에 수정 불가능\n",
    "a[0]"
   ]
  },
  {
   "cell_type": "code",
   "execution_count": 190,
   "metadata": {
    "scrolled": true
   },
   "outputs": [
    {
     "ename": "TypeError",
     "evalue": "'tuple' object does not support item assignment",
     "output_type": "error",
     "traceback": [
      "\u001b[1;31m---------------------------------------------------------------------------\u001b[0m",
      "\u001b[1;31mTypeError\u001b[0m                                 Traceback (most recent call last)",
      "\u001b[1;32m<ipython-input-190-273c6616b70c>\u001b[0m in \u001b[0;36m<module>\u001b[1;34m\u001b[0m\n\u001b[1;32m----> 1\u001b[1;33m \u001b[0mb\u001b[0m\u001b[1;33m[\u001b[0m\u001b[1;36m0\u001b[0m\u001b[1;33m]\u001b[0m \u001b[1;33m=\u001b[0m \u001b[1;33m(\u001b[0m\u001b[1;36m1\u001b[0m\u001b[1;33m,\u001b[0m\u001b[1;36m2\u001b[0m\u001b[1;33m,\u001b[0m\u001b[1;36m3\u001b[0m\u001b[1;33m)\u001b[0m    \u001b[1;31m# 에러 -> 튜플이기 때문에 수정 불가능\u001b[0m\u001b[1;33m\u001b[0m\u001b[1;33m\u001b[0m\u001b[0m\n\u001b[0m\u001b[0;32m      2\u001b[0m \u001b[0mb\u001b[0m\u001b[1;33m[\u001b[0m\u001b[1;36m0\u001b[0m\u001b[1;33m]\u001b[0m\u001b[1;33m\u001b[0m\u001b[1;33m\u001b[0m\u001b[0m\n",
      "\u001b[1;31mTypeError\u001b[0m: 'tuple' object does not support item assignment"
     ]
    }
   ],
   "source": [
    "b[0] = (1,2,3)    # 에러 -> 튜플이기 때문에 수정 불가능\n",
    "b[0]"
   ]
  },
  {
   "cell_type": "code",
   "execution_count": 192,
   "metadata": {},
   "outputs": [
    {
     "data": {
      "text/plain": [
       "[99, 20]"
      ]
     },
     "execution_count": 192,
     "metadata": {},
     "output_type": "execute_result"
    }
   ],
   "source": [
    "b[0][0] = 99      # 리스트이기 때문에 수정가능\n",
    "b[0]"
   ]
  },
  {
   "cell_type": "code",
   "execution_count": 191,
   "metadata": {
    "scrolled": false
   },
   "outputs": [
    {
     "data": {
      "text/plain": [
       "(1, 2, 3)"
      ]
     },
     "execution_count": 191,
     "metadata": {},
     "output_type": "execute_result"
    }
   ],
   "source": [
    "c[0] = (1,2,3)    # 리스트이기 때문에 수정가능\n",
    "c[0]"
   ]
  },
  {
   "cell_type": "code",
   "execution_count": 196,
   "metadata": {},
   "outputs": [
    {
     "data": {
      "text/plain": [
       "[110, 120, 130, 140, 150, 160, 170, 180]"
      ]
     },
     "execution_count": 196,
     "metadata": {},
     "output_type": "execute_result"
    }
   ],
   "source": [
    "a = ((10, 20), (30, 40), (50,), (60, 70, 80))   # 튜플 안에 튜플을 넣은 2차원 튜플\n",
    "b = ([10, 20], [30, 40], [50], [60, 70, 80])    # 튜플 안에 리스트를 넣은 2차원 튜플\n",
    "c = [(10, 20), (30, 40), (50,), (60, 70, 80)]   # 리스트 안에 튜플을 넣은 2차원 튜플\n",
    "\n",
    "[a[i] for i in range(len(a))]          # 튜플 -> 리스트\n",
    "\n",
    "# [a[i] + 100 for i in range(len(a))]    # 에러 => 튜플 변경 불가\n",
    "\n",
    "[a[i][j] + 100 for i in range(len(a)) for j in range(len(a[i]))]"
   ]
  },
  {
   "cell_type": "code",
   "execution_count": 198,
   "metadata": {},
   "outputs": [
    {
     "name": "stdout",
     "output_type": "stream",
     "text": [
      "[10, 20]\n",
      "10\n",
      "20\n",
      "[30, 40]\n",
      "30\n",
      "40\n",
      "[50, 60]\n",
      "50\n",
      "60\n"
     ]
    }
   ],
   "source": [
    "a = [[10, 20], [30, 40], [50, 60]]\n",
    "\n",
    "for val in a:\n",
    "    print(val)\n",
    "    for val2 in val:\n",
    "        print(val2)"
   ]
  },
  {
   "cell_type": "code",
   "execution_count": 199,
   "metadata": {},
   "outputs": [
    {
     "name": "stdout",
     "output_type": "stream",
     "text": [
      "[10, 20]\n",
      "10 20\n",
      "10\n",
      "20\n",
      "[30, 40]\n",
      "30 40\n",
      "30\n",
      "40\n",
      "[50, 60]\n",
      "50 60\n",
      "50\n",
      "60\n"
     ]
    }
   ],
   "source": [
    "a = [[10, 20], [30, 40], [50, 60]]\n",
    "\n",
    "for val in a:\n",
    "    print(val)\n",
    "    x, y = val\n",
    "    print(x, y)\n",
    "    for val2 in val:\n",
    "        print(val2)"
   ]
  },
  {
   "cell_type": "code",
   "execution_count": 200,
   "metadata": {},
   "outputs": [
    {
     "name": "stdout",
     "output_type": "stream",
     "text": [
      "10 20\n",
      "10 20\n"
     ]
    }
   ],
   "source": [
    "a, b = [10, 20]\n",
    "c, d = (10, 20)\n",
    "print(a, b)\n",
    "print(c, d)"
   ]
  },
  {
   "cell_type": "code",
   "execution_count": 202,
   "metadata": {},
   "outputs": [
    {
     "name": "stdout",
     "output_type": "stream",
     "text": [
      "[[0, 10], [1, 11], [2, 12]]\n"
     ]
    }
   ],
   "source": [
    "alist = []\n",
    "\n",
    "for i in range(3):\n",
    "    blist = []\n",
    "    for j in range(2):\n",
    "        blist.append(i+j*10)\n",
    "    alist.append(blist)\n",
    "print(alist)"
   ]
  },
  {
   "cell_type": "markdown",
   "metadata": {},
   "source": [
    "# 2차원 리스트 정렬"
   ]
  },
  {
   "cell_type": "code",
   "execution_count": 206,
   "metadata": {},
   "outputs": [],
   "source": [
    "students = [\n",
    "    ['zzilre', 'D', 29],\n",
    "    ['john', 'C', 19],\n",
    "    ['maria', 'A', 25],\n",
    "    ['andrew', 'B', 7]\n",
    "]"
   ]
  },
  {
   "cell_type": "code",
   "execution_count": 207,
   "metadata": {
    "scrolled": true
   },
   "outputs": [
    {
     "data": {
      "text/plain": [
       "[['andrew', 'B', 7],\n",
       " ['john', 'C', 19],\n",
       " ['maria', 'A', 25],\n",
       " ['zzilre', 'D', 29]]"
      ]
     },
     "execution_count": 207,
     "metadata": {},
     "output_type": "execute_result"
    }
   ],
   "source": [
    "sorted(students)   ## 첫번째 값(디폴트 값)을 기준으로 정렬"
   ]
  },
  {
   "cell_type": "code",
   "execution_count": 208,
   "metadata": {
    "scrolled": true
   },
   "outputs": [
    {
     "data": {
      "text/plain": [
       "[['zzilre', 'D', 29],\n",
       " ['maria', 'A', 25],\n",
       " ['john', 'C', 19],\n",
       " ['andrew', 'B', 7]]"
      ]
     },
     "execution_count": 208,
     "metadata": {},
     "output_type": "execute_result"
    }
   ],
   "source": [
    "sorted(students, reverse = True)   ## 첫번째 값(디폴트 값)을 기준으로 정렬"
   ]
  },
  {
   "cell_type": "code",
   "execution_count": 219,
   "metadata": {},
   "outputs": [],
   "source": [
    "def mysort(s):\n",
    "    return s[1]"
   ]
  },
  {
   "cell_type": "code",
   "execution_count": 220,
   "metadata": {},
   "outputs": [
    {
     "data": {
      "text/plain": [
       "20"
      ]
     },
     "execution_count": 220,
     "metadata": {},
     "output_type": "execute_result"
    }
   ],
   "source": [
    "mysort([10, 20, 30])"
   ]
  },
  {
   "cell_type": "code",
   "execution_count": 221,
   "metadata": {
    "scrolled": false
   },
   "outputs": [
    {
     "data": {
      "text/plain": [
       "[['maria', 'A', 25],\n",
       " ['andrew', 'B', 7],\n",
       " ['john', 'C', 19],\n",
       " ['zzilre', 'D', 29]]"
      ]
     },
     "execution_count": 221,
     "metadata": {},
     "output_type": "execute_result"
    }
   ],
   "source": [
    "sorted(students, key = mysort)   ## 인덱스1 을 기준으로 정렬"
   ]
  },
  {
   "cell_type": "code",
   "execution_count": 223,
   "metadata": {
    "scrolled": true
   },
   "outputs": [
    {
     "data": {
      "text/plain": [
       "[['maria', 'A', 25],\n",
       " ['andrew', 'B', 7],\n",
       " ['john', 'C', 19],\n",
       " ['zzilre', 'D', 29]]"
      ]
     },
     "execution_count": 223,
     "metadata": {},
     "output_type": "execute_result"
    }
   ],
   "source": [
    "# 익명함수 ... 이름 없는 함수  lambda\n",
    "sorted(students, key = lambda aa:aa[1])   ## 인덱스1 을 기준으로 정렬"
   ]
  },
  {
   "cell_type": "code",
   "execution_count": 228,
   "metadata": {
    "scrolled": false
   },
   "outputs": [
    {
     "name": "stdout",
     "output_type": "stream",
     "text": [
      "['홍길동', 'B', 7, [99, 2, 3]]\n",
      "['홍길동', 'B', 7, [99, 2, 3]]\n",
      "['andrew', 'B', 7, [99, 2, 3]]\n",
      "['andrew', 'B', 7, [88, 2, 3]]\n"
     ]
    }
   ],
   "source": [
    "import copy\n",
    "\n",
    "z = [1, 2, 3]\n",
    "a = ['andrew','B', 7, z]\n",
    "b = a                   # 주소 할당\n",
    "c = a.copy()            # 값 을 복사\n",
    "d = copy.deepcopy(a)    # 깊은 복사(리스트 안에 있는 것까지 복제) -> 완벽 복제\n",
    "\n",
    "a[0] = \"홍길동\"\n",
    "z[0] = 99\n",
    "d[3][0] = 88\n",
    "print(a)\n",
    "print(b)\n",
    "print(c)\n",
    "print(d)"
   ]
  },
  {
   "cell_type": "markdown",
   "metadata": {},
   "source": [
    "# 문자열 응용"
   ]
  },
  {
   "cell_type": "code",
   "execution_count": 230,
   "metadata": {},
   "outputs": [
    {
     "name": "stdout",
     "output_type": "stream",
     "text": [
      "***, World\n",
      "Hello, World\n"
     ]
    }
   ],
   "source": [
    "s = \"Hello, World\"\n",
    "\n",
    "# replace\n",
    "print(s.replace(\"Hello\", \"***\"))\n",
    "\n",
    "# 원본은 유지\n",
    "print(s)"
   ]
  },
  {
   "cell_type": "code",
   "execution_count": 354,
   "metadata": {},
   "outputs": [
    {
     "name": "stdout",
     "output_type": "stream",
     "text": [
      "{97: 49, 98: 50, 99: 51, 100: 52, 101: 53, 111: 54}\n",
      "pyth6n\n",
      "H5ll6\n"
     ]
    }
   ],
   "source": [
    "table =  str.maketrans(\"abcdeo\", \"123456\")  # a(97) -> 1(49)\n",
    "print(table)\n",
    "\n",
    "s1 = \"python\"\n",
    "s2 = \"Hello\"\n",
    "\n",
    "print(s1.translate(table))\n",
    "print(s2.translate(table))"
   ]
  },
  {
   "cell_type": "code",
   "execution_count": 369,
   "metadata": {},
   "outputs": [],
   "source": [
    "s = '''\n",
    "\"거지같은 아이디어도 대환영..그게 애플·구글이 일하는 법\"\n",
    "한국, 무역흑자 1위 중국→홍콩..무역적자 1위는 일본\n",
    "신종코로나 눈으로 전염?..\"오염된 손으로 눈 만졌을 때 얘기\"\n",
    "신종 코로나 최악 시나리오..\"4월 절정기에 수십만 감염 가능\"\n",
    "우한폐렴 확진자 동선 공개..\"바이러스 수명 2~3일, 안 옮는다\"\n",
    "연인과 밤길 걷던 30대 남성 피습 사망..50대 긴급체포\n",
    "\"트럼프 '주한미군이 미국 안전하게 해주지않아..한국 돈내라'\"\n",
    "폭행·살해.. 또 반복된 '설 가족 비극'\n",
    "민주 \"신종코로나, 범국가 총력대응해야..정쟁은 방역역량 훼손\"\n",
    "400만 원 빚이 5억 원으로..합법의 탈을 쓴 '공증 사기'\n",
    "'''"
   ]
  },
  {
   "cell_type": "code",
   "execution_count": 251,
   "metadata": {},
   "outputs": [
    {
     "data": {
      "text/plain": [
       "['\"거지같은 아이디어도 대환영..그게 애플·구글이 일하는 법\"',\n",
       " '한국, 무역흑자 1위 중국→홍콩..무역적자 1위는 일본',\n",
       " '신종코로나 눈으로 전염?..\"오염된 손으로 눈 만졌을 때 얘기\"',\n",
       " '신종 코로나 최악 시나리오..\"4월 절정기에 수십만 감염 가능\"',\n",
       " '우한폐렴 확진자 동선 공개..\"바이러스 수명 2~3일, 안 옮는다\"',\n",
       " '연인과 밤길 걷던 30대 남성 피습 사망..50대 긴급체포',\n",
       " '\"트럼프 \\'주한미군이 미국 안전하게 해주지않아..한국 돈내라\\'\"',\n",
       " \"폭행·살해.. 또 반복된 '설 가족 비극'\",\n",
       " '민주 \"신종코로나, 범국가 총력대응해야..정쟁은 방역역량 훼손\"',\n",
       " \"400만 원 빚이 5억 원으로..합법의 탈을 쓴 '공증 사기'\"]"
      ]
     },
     "execution_count": 251,
     "metadata": {},
     "output_type": "execute_result"
    }
   ],
   "source": [
    "alist = s.split(\"\\n\")\n",
    "alist = [i for i in alist if len(i) > 0]\n",
    "alist"
   ]
  },
  {
   "cell_type": "code",
   "execution_count": 243,
   "metadata": {},
   "outputs": [
    {
     "data": {
      "text/plain": [
       "'\"거지같은 아이디어도 대환영..그게 애플·구글이 일하는 법\" 한국, 무역흑자 1위 중국→홍콩..무역적자 1위는 일본 신종코로나 눈으로 전염?..\"오염된 손으로 눈 만졌을 때 얘기\" 신종 코로나 최악 시나리오..\"4월 절정기에 수십만 감염 가능\" 우한폐렴 확진자 동선 공개..\"바이러스 수명 2~3일, 안 옮는다\" 연인과 밤길 걷던 30대 남성 피습 사망..50대 긴급체포 \"트럼프 \\'주한미군이 미국 안전하게 해주지않아..한국 돈내라\\'\" 폭행·살해.. 또 반복된 \\'설 가족 비극\\' 민주 \"신종코로나, 범국가 총력대응해야..정쟁은 방역역량 훼손\" 400만 원 빚이 5억 원으로..합법의 탈을 쓴 \\'공증 사기\\''"
      ]
     },
     "execution_count": 243,
     "metadata": {},
     "output_type": "execute_result"
    }
   ],
   "source": [
    "\" \".join(alist)    ##### 리스트 -> 문자열 #####"
   ]
  },
  {
   "cell_type": "code",
   "execution_count": 247,
   "metadata": {},
   "outputs": [
    {
     "name": "stdout",
     "output_type": "stream",
     "text": [
      "*python     *\n",
      "*     python*\n",
      "*python*\n",
      "----------------------------------------------------------------------\n",
      "*python,.....*\n",
      "*.....,python*\n",
      "*python*\n"
     ]
    }
   ],
   "source": [
    "s = \"     python     \"\n",
    "print(\"*\" + s.lstrip() + \"*\")\n",
    "print(\"*\" + s.rstrip() + \"*\")\n",
    "print(\"*\" + s.strip() + \"*\")\n",
    "\n",
    "print(\"-\" * 70)\n",
    "\n",
    "s = \".....,python,.....\"\n",
    "print(\"*\" + s.lstrip(\",.\") + \"*\")\n",
    "print(\"*\" + s.rstrip(\",.\") + \"*\")\n",
    "print(\"*\" + s.strip(\",.\") + \"*\")"
   ]
  },
  {
   "cell_type": "code",
   "execution_count": 372,
   "metadata": {
    "scrolled": true
   },
   "outputs": [
    {
     "data": {
      "text/plain": [
       "['대환영..그게',\n",
       " '애플·구글이',\n",
       " '중국→홍콩..무역적자',\n",
       " '전염?..\"오염된',\n",
       " '시나리오..\"4월',\n",
       " '공개..\"바이러스',\n",
       " '사망..50대',\n",
       " \"'주한미군이\",\n",
       " '해주지않아..한국',\n",
       " '폭행·살해..',\n",
       " '신종코로나,',\n",
       " '총력대응해야..정쟁은',\n",
       " '원으로..합법의']"
      ]
     },
     "execution_count": 372,
     "metadata": {},
     "output_type": "execute_result"
    }
   ],
   "source": [
    "alist = s.split()\n",
    "alist = [i for i in alist if len(i) > 5]\n",
    "\n",
    "alist = [val.strip('\"') for val in alist]\n",
    "alist"
   ]
  },
  {
   "cell_type": "code",
   "execution_count": 262,
   "metadata": {},
   "outputs": [
    {
     "data": {
      "text/plain": [
       "'파이썬'"
      ]
     },
     "execution_count": 262,
     "metadata": {},
     "output_type": "execute_result"
    }
   ],
   "source": [
    "import string\n",
    "\n",
    "# string.punctuation    =>  모든 특수문자가 다 들어 있다.\n",
    "\n",
    "'!\"#$%&\\'()*+,-./파이썬:;<=>?@[\\\\]^_`{|}~'.strip(string.punctuation).upper()"
   ]
  },
  {
   "cell_type": "code",
   "execution_count": 263,
   "metadata": {},
   "outputs": [
    {
     "data": {
      "text/plain": [
       "'0000000035'"
      ]
     },
     "execution_count": 263,
     "metadata": {},
     "output_type": "execute_result"
    }
   ],
   "source": [
    "'35'.zfill(10)     # 0 으로 채우기"
   ]
  },
  {
   "cell_type": "code",
   "execution_count": 375,
   "metadata": {},
   "outputs": [
    {
     "name": "stdout",
     "output_type": "stream",
     "text": [
      "6\n",
      "-1\n",
      "13\n",
      "6\n",
      "13\n"
     ]
    }
   ],
   "source": [
    "s = \"Hello Python Python\"\n",
    "\n",
    "print(s.find(\"Py\"))      ## 왼쪽 부터\n",
    "print(s.find(\"Py2\"))           #-> 없으면 '-1' 반환\n",
    "print(s.rfind(\"Py\"))     ## 오른쪽 부터\n",
    "\n",
    "print(s.index(\"Py\"))     ## 왼쪽부터\n",
    "# print(s.index(\"Py2\"))        #-> 없으면 에러\n",
    "print(s.rindex(\"Py\"))    ## 오른쪽 부터"
   ]
  },
  {
   "cell_type": "code",
   "execution_count": 376,
   "metadata": {},
   "outputs": [
    {
     "name": "stdout",
     "output_type": "stream",
     "text": [
      "파이썬 수업중 Pytnon 입니다.\n",
      "파이썬 수업중Pytnon입니다.\n",
      "\n",
      "파이썬 수업중 Pytnon 입니다.\n",
      "파이썬 수업중     Pytnon 입니다.\n",
      "파이썬 수업중 Pytnon     입니다.\n",
      "파이썬 수업중 Pytnon     100 3.141592 3.14 입니다.\n",
      "\n",
      "파이썬 Pytnon 100 3.141592 입니다.\n",
      "파이썬 3.141592 100 Pytnon 입니다.\n",
      "파이썬 3.14 100 Pytnon 입니다.\n",
      "\n",
      "파이썬 Pytnon 3.141592 100 입니다.\n"
     ]
    }
   ],
   "source": [
    "s = \"Pytnon\"\n",
    "\n",
    "print(\"파이썬 수업중\", s, \"입니다.\")\n",
    "print(\"파이썬 수업중\" + s + \"입니다.\")\n",
    "print()\n",
    "print(\"파이썬 수업중 %s 입니다.\" %s)\n",
    "print(\"파이썬 수업중 %10s 입니다.\" %s)\n",
    "print(\"파이썬 수업중 %-10s 입니다.\" %s)\n",
    "print(\"파이썬 수업중 %-10s %d %f %.2f 입니다.\" %(s, 100, 3.141592, 3.141592))\n",
    "print()\n",
    "print(\"파이썬 {} {} {} 입니다.\".format(s, 100, 3.141592))\n",
    "print(\"파이썬 {2} {1} {0} 입니다.\".format(s, 100, 3.141592))\n",
    "print(\"파이썬 {2:.2f} {1} {0} 입니다.\".format(s, 100, 3.141592))\n",
    "print()\n",
    "print(\"파이썬 {a} {c} {b} 입니다.\".format(a = s, b = 100, c = 3.141592))"
   ]
  },
  {
   "cell_type": "code",
   "execution_count": 282,
   "metadata": {},
   "outputs": [
    {
     "name": "stdout",
     "output_type": "stream",
     "text": [
      "python.exe\n"
     ]
    }
   ],
   "source": [
    "path = \"C:\\\\Users\\\\dojang\\\\AppData\\\\Local\\\\Programs\\\\Python\\\\Python36-32\\\\python.exe\"                                    \n",
    "\n",
    "alist = path.split(\"\\\\\")\n",
    "filename = alist[-1]\n",
    "\n",
    "print(filename)"
   ]
  },
  {
   "cell_type": "markdown",
   "metadata": {},
   "source": [
    "# 딕셔너리 응용"
   ]
  },
  {
   "cell_type": "code",
   "execution_count": 289,
   "metadata": {},
   "outputs": [
    {
     "data": {
      "text/plain": [
       "{'name': '김길동',\n",
       " 'age': 30,\n",
       " 'name2': None,\n",
       " 'name3': '김길동',\n",
       " 'addr': '잠실',\n",
       " 'age2': 40,\n",
       " 'addr2': '선릉',\n",
       " 'addr3': '잠실'}"
      ]
     },
     "execution_count": 289,
     "metadata": {},
     "output_type": "execute_result"
    }
   ],
   "source": [
    "a = {'name':'홍길동', 'age':20}\n",
    "\n",
    "# 추가\n",
    "a.setdefault('name2')\n",
    "a.setdefault('name3', '김길동')\n",
    "\n",
    "# 수정은 불가능\n",
    "a.setdefault('name', '김길동')\n",
    "\n",
    "\n",
    "# 추가, 수정\n",
    "a.update(name = '김길동', addr = '역삼동')\n",
    "a.update({\"age\":30, \"age2\":40})\n",
    "a.update([[\"addr\", \"선릉\"], [\"addr2\", \"선릉\"]])\n",
    "a.update([[\"addr\", \"잠실\"], [\"addr3\", \"잠실\"]])\n",
    "\n",
    "a"
   ]
  },
  {
   "cell_type": "code",
   "execution_count": 290,
   "metadata": {},
   "outputs": [
    {
     "data": {
      "text/plain": [
       "'잠실'"
      ]
     },
     "execution_count": 290,
     "metadata": {},
     "output_type": "execute_result"
    }
   ],
   "source": [
    "a.pop(\"addr3\")"
   ]
  },
  {
   "cell_type": "code",
   "execution_count": 291,
   "metadata": {},
   "outputs": [
    {
     "data": {
      "text/plain": [
       "{'name': '김길동',\n",
       " 'age': 30,\n",
       " 'name2': None,\n",
       " 'name3': '김길동',\n",
       " 'addr': '잠실',\n",
       " 'age2': 40,\n",
       " 'addr2': '선릉'}"
      ]
     },
     "execution_count": 291,
     "metadata": {},
     "output_type": "execute_result"
    }
   ],
   "source": [
    "a"
   ]
  },
  {
   "cell_type": "code",
   "execution_count": 292,
   "metadata": {},
   "outputs": [
    {
     "data": {
      "text/plain": [
       "'선릉'"
      ]
     },
     "execution_count": 292,
     "metadata": {},
     "output_type": "execute_result"
    }
   ],
   "source": [
    "a.pop(\"addr2\")"
   ]
  },
  {
   "cell_type": "code",
   "execution_count": 293,
   "metadata": {},
   "outputs": [
    {
     "data": {
      "text/plain": [
       "{'name': '김길동',\n",
       " 'age': 30,\n",
       " 'name2': None,\n",
       " 'name3': '김길동',\n",
       " 'addr': '잠실',\n",
       " 'age2': 40}"
      ]
     },
     "execution_count": 293,
     "metadata": {},
     "output_type": "execute_result"
    }
   ],
   "source": [
    "a"
   ]
  },
  {
   "cell_type": "code",
   "execution_count": 296,
   "metadata": {},
   "outputs": [
    {
     "name": "stdout",
     "output_type": "stream",
     "text": [
      "name ---> 홍길동\n",
      "age ---> 20\n",
      "addr ---> seoul\n"
     ]
    }
   ],
   "source": [
    "a = {\"name\":\"홍길동\", \"age\":20, \"addr\":\"seoul\"}\n",
    "\n",
    "a.keys()\n",
    "a.values()\n",
    "\n",
    "for key, val in a.items():\n",
    "    print(key, val, sep = \" ---> \")"
   ]
  },
  {
   "cell_type": "code",
   "execution_count": 304,
   "metadata": {},
   "outputs": [
    {
     "data": {
      "text/plain": [
       "(('name', '홍길동'), ('age', 20), ('addr', 'seoul'))"
      ]
     },
     "execution_count": 304,
     "metadata": {},
     "output_type": "execute_result"
    }
   ],
   "source": [
    "# dict\n",
    "{key : val for key, val in a.items()}\n",
    "\n",
    "# set\n",
    "{(key , val) for key, val in a.items()}\n",
    "\n",
    "# list\n",
    "[(key , val) for key, val in a.items()]\n",
    "[[key , val] for key, val in a.items()]\n",
    "\n",
    "# tuple\n",
    "tuple((key, val) for key, val in a.items())"
   ]
  },
  {
   "cell_type": "code",
   "execution_count": 305,
   "metadata": {},
   "outputs": [
    {
     "name": "stdout",
     "output_type": "stream",
     "text": [
      "3389.5\n"
     ]
    }
   ],
   "source": [
    "terrestrial_planet = {\n",
    "    'Mercury': {\n",
    "        'mean_radius': 2439.7,\n",
    "        'mass': 3.3022E+23,\n",
    "        'orbital_period': 87.969\n",
    "    },\n",
    "    'Venus': {\n",
    "        'mean_radius': 6051.8,\n",
    "        'mass': 4.8676E+24,\n",
    "        'orbital_period': 224.70069,\n",
    "    },\n",
    "    'Earth': {\n",
    "        'mean_radius': 6371.0,\n",
    "        'mass': 5.97219E+24,\n",
    "        'orbital_period': 365.25641,\n",
    "    },\n",
    "    'Mars': {\n",
    "        'mean_radius': 3389.5,\n",
    "        'mass': 6.4185E+23,\n",
    "        'orbital_period': 686.9600,\n",
    "    }\n",
    "}\n",
    " \n",
    "print(terrestrial_planet['Mars']['mean_radius']) "
   ]
  },
  {
   "cell_type": "code",
   "execution_count": 310,
   "metadata": {},
   "outputs": [
    {
     "name": "stdout",
     "output_type": "stream",
     "text": [
      "Mercury --> {'mean_radius': 2439.7, 'mass': 3.3022e+23, 'orbital_period': 87.969}\n",
      "mean_radius =======> 2439.7\n",
      "mass =======> 3.3022e+23\n",
      "orbital_period =======> 87.969\n",
      "\n",
      "Venus --> {'mean_radius': 6051.8, 'mass': 4.8676e+24, 'orbital_period': 224.70069}\n",
      "mean_radius =======> 6051.8\n",
      "mass =======> 4.8676e+24\n",
      "orbital_period =======> 224.70069\n",
      "\n",
      "Earth --> {'mean_radius': 6371.0, 'mass': 5.97219e+24, 'orbital_period': 365.25641}\n",
      "mean_radius =======> 6371.0\n",
      "mass =======> 5.97219e+24\n",
      "orbital_period =======> 365.25641\n",
      "\n",
      "Mars --> {'mean_radius': 3389.5, 'mass': 6.4185e+23, 'orbital_period': 686.96}\n",
      "mean_radius =======> 3389.5\n",
      "mass =======> 6.4185e+23\n",
      "orbital_period =======> 686.96\n",
      "\n"
     ]
    }
   ],
   "source": [
    "for key, val in terrestrial_planet.items():\n",
    "    print(key, val, sep = \" --> \")\n",
    "    for k, v in val.items():\n",
    "        print(k, v, sep = \" =======> \")\n",
    "    print()"
   ]
  },
  {
   "cell_type": "code",
   "execution_count": 314,
   "metadata": {},
   "outputs": [
    {
     "name": "stdout",
     "output_type": "stream",
     "text": [
      "89.25\n"
     ]
    }
   ],
   "source": [
    "# 연습문제 #\n",
    "maria = {'korean': 94, 'english': 91, 'mathematics': 89, 'science': 83}\n",
    "                                          \n",
    "average = sum(maria.values())/len(maria)\n",
    "print(average)"
   ]
  },
  {
   "cell_type": "markdown",
   "metadata": {},
   "source": [
    "# set 세트"
   ]
  },
  {
   "cell_type": "code",
   "execution_count": 324,
   "metadata": {},
   "outputs": [
    {
     "name": "stdout",
     "output_type": "stream",
     "text": [
      "<class 'set'>\n",
      "{'orange', 'cherry'}\n",
      "['orange', 'orange', 'cherry', 'orange', 'cherry', 'orange', 'cherry']\n",
      "('orange', 'orange', 'cherry', 'orange', 'cherry', 'orange', 'cherry')\n",
      "{'orange', 'cherry'}\n",
      "{'orange', 'cherry'}\n"
     ]
    }
   ],
   "source": [
    "# set : 중복 불가, 순서 없음\n",
    "fruits = {'orange', 'orange', 'cherry', 'orange', 'cherry', 'orange', 'cherry'}\n",
    "print(type(fruits))\n",
    "\n",
    "# list : 중복 가능, 순서 있음, 수정 가능\n",
    "fruits2 = ['orange', 'orange', 'cherry', 'orange', 'cherry', 'orange', 'cherry']\n",
    "\n",
    "# tuple : 중복 가능, 순서 있음, 수정 불가\n",
    "fruits3 = ('orange', 'orange', 'cherry', 'orange', 'cherry', 'orange', 'cherry')\n",
    "\n",
    "print(fruits)\n",
    "print(fruits2)\n",
    "print(fruits3)\n",
    "\n",
    "print(set(fruits2))\n",
    "print(set(fruits3))"
   ]
  },
  {
   "cell_type": "code",
   "execution_count": 321,
   "metadata": {},
   "outputs": [
    {
     "name": "stdout",
     "output_type": "stream",
     "text": [
      "{} <class 'dict'> {} <class 'dict'>\n",
      "set() <class 'set'>\n"
     ]
    }
   ],
   "source": [
    "a = {}\n",
    "a2 = dict()\n",
    "print(a, type(a), a2, type(a2))\n",
    "\n",
    "b = set()\n",
    "print(b, type(b))"
   ]
  },
  {
   "cell_type": "code",
   "execution_count": 377,
   "metadata": {},
   "outputs": [
    {
     "name": "stdout",
     "output_type": "stream",
     "text": [
      "{1, 2, 3, 4, 5, 6}\n",
      "{1, 2, 3, 4, 5, 6}\n",
      "{1, 2, 3, 4, 5, 6}\n",
      "\n",
      "{3, 4}\n",
      "{3, 4}\n",
      "{3, 4}\n",
      "\n",
      "{1, 2}\n",
      "{1, 2}\n",
      "\n",
      "{1, 2, 5, 6}\n",
      "{1, 2, 5, 6}\n",
      "\n",
      "{1, 2, 3, 4, 5, 6}\n",
      "{1, 2, 3, 4, 5, 6}\n",
      "{1, 2, 3, 4, 5, 6}\n"
     ]
    },
    {
     "data": {
      "text/plain": [
       "{1, 2, 3, 4, 5, 6}"
      ]
     },
     "execution_count": 377,
     "metadata": {},
     "output_type": "execute_result"
    }
   ],
   "source": [
    "a = {1, 2, 3, 4}\n",
    "b = {3, 4, 5, 6}\n",
    "\n",
    "# 합집합\n",
    "print(a|b)\n",
    "print(a.union(b))\n",
    "print(set.union(a, b))\n",
    "\n",
    "print()\n",
    "\n",
    "# 교집합\n",
    "print(a & b)\n",
    "print(a.intersection(b))\n",
    "print(set.intersection(a, b))\n",
    "\n",
    "print()\n",
    "\n",
    "# 차집합\n",
    "print(a - b)\n",
    "print(set.difference(a, b))\n",
    "\n",
    "print()\n",
    "\n",
    "# 대칭 차집합 = XOR (다르면 참이다) = 합집합 - 교집합\n",
    "print(a^b)\n",
    "print(set.symmetric_difference(a, b))\n",
    "\n",
    "print()\n",
    "\n",
    "print(a|b)      ## 1 줄\n",
    "a |= b          ## 2 줄\n",
    "print(a)\n",
    "a.update(b)     ## 3 줄 다 같음!!\n",
    "print(a)\n",
    "\n",
    "a"
   ]
  },
  {
   "cell_type": "code",
   "execution_count": 378,
   "metadata": {},
   "outputs": [
    {
     "data": {
      "text/plain": [
       "['a', 'p', 'p', 'l', 'e']"
      ]
     },
     "execution_count": 378,
     "metadata": {},
     "output_type": "execute_result"
    }
   ],
   "source": [
    "s = \"apple\"\n",
    "[i for i in s]"
   ]
  },
  {
   "cell_type": "code",
   "execution_count": 347,
   "metadata": {},
   "outputs": [
    {
     "data": {
      "text/plain": [
       "{'a', 'e', 'l', 'p'}"
      ]
     },
     "execution_count": 347,
     "metadata": {},
     "output_type": "execute_result"
    }
   ],
   "source": [
    "s = \"apple\"\n",
    "{i for i in s}"
   ]
  }
 ],
 "metadata": {
  "kernelspec": {
   "display_name": "Python 3",
   "language": "python",
   "name": "python3"
  },
  "language_info": {
   "codemirror_mode": {
    "name": "ipython",
    "version": 3
   },
   "file_extension": ".py",
   "mimetype": "text/x-python",
   "name": "python",
   "nbconvert_exporter": "python",
   "pygments_lexer": "ipython3",
   "version": "3.7.4"
  }
 },
 "nbformat": 4,
 "nbformat_minor": 2
}
