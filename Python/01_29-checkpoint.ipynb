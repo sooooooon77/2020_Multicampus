{
 "cells": [
  {
   "cell_type": "markdown",
   "metadata": {},
   "source": [
    "# 파일 다루기"
   ]
  },
  {
   "cell_type": "markdown",
   "metadata": {},
   "source": [
    "<h1>파일 다루기</h1>"
   ]
  },
  {
   "cell_type": "code",
   "execution_count": 1,
   "metadata": {},
   "outputs": [],
   "source": [
    "f = open(\"test1.txt\", \"w\")   # -> r : 안쓴다 / w : 쓴다\n",
    "f.write(\"Hello\")\n",
    "f.write(\"python\")\n",
    "f.close()"
   ]
  },
  {
   "cell_type": "code",
   "execution_count": 2,
   "metadata": {},
   "outputs": [
    {
     "name": "stdout",
     "output_type": "stream",
     "text": [
      "Hellopython\n"
     ]
    }
   ],
   "source": [
    "f = open(\"test1.txt\", \"r\")\n",
    "s = f.read()\n",
    "f.close()\n",
    "print(s)"
   ]
  },
  {
   "cell_type": "code",
   "execution_count": 6,
   "metadata": {},
   "outputs": [
    {
     "name": "stdout",
     "output_type": "stream",
     "text": [
      "Overwriting test2.txt\n"
     ]
    }
   ],
   "source": [
    "%%writefile test2.txt\n",
    "프로그래밍에서 중요한 축을 차지하는 부분이 파일 처리입니다. \n",
    "이번에는 파일에서 문자열을 읽고 쓰는 방법과 \n",
    "파이썬 객체를 파일에 읽고 쓰는 방법을 알아보겠습니다."
   ]
  },
  {
   "cell_type": "code",
   "execution_count": 7,
   "metadata": {},
   "outputs": [
    {
     "name": "stdout",
     "output_type": "stream",
     "text": [
      "프로그래밍에서 중요한 축을 차지하는 부분이 파일 처리입니다. \n",
      "이번에는 파일에서 문자열을 읽고 쓰는 방법과 \n",
      "파이썬 객체를 파일에 읽고 쓰는 방법을 알아보겠습니다.\n",
      "\n"
     ]
    }
   ],
   "source": [
    "f = open(\"test2.txt\", \"r\", encoding = \"utf-8\")   # -> 파일 자료가 한글로 되어 있으면 에러! -> 인코딩 해주자!!\n",
    "s = f.read()\n",
    "f.close()\n",
    "print(s)"
   ]
  },
  {
   "cell_type": "code",
   "execution_count": 8,
   "metadata": {},
   "outputs": [
    {
     "name": "stdout",
     "output_type": "stream",
     "text": [
      "['프로그래밍에서 중요한 축을 차지하는 부분이 파일 처리입니다. \\n', '이번에는 파일에서 문자열을 읽고 쓰는 방법과 \\n', '파이썬 객체를 파일에 읽고 쓰는 방법을 알아보겠습니다.\\n']\n"
     ]
    }
   ],
   "source": [
    "f = open(\"test2.txt\", \"r\", encoding = \"utf-8\")\n",
    "s = f.readlines()                                # -> 줄단위로 읽기\n",
    "f.close()\n",
    "print(s)"
   ]
  },
  {
   "cell_type": "code",
   "execution_count": 9,
   "metadata": {},
   "outputs": [
    {
     "name": "stdout",
     "output_type": "stream",
     "text": [
      "['프로그래밍에서 중요한 축을 차지하는 부분이 파일 처리입니다. \\n', '이번에는 파일에서 문자열을 읽고 쓰는 방법과 \\n', '파이썬 객체를 파일에 읽고 쓰는 방법을 알아보겠습니다.\\n']\n"
     ]
    }
   ],
   "source": [
    "## 더 좋은 코드!!\n",
    "\n",
    "with open(\"test2.txt\", \"r\", encoding = \"utf-8\") as f:    \n",
    "    s = f.readlines()                                \n",
    "                                                # with를 벗어나면 자동 close가 됨!!\n",
    "print(s)"
   ]
  },
  {
   "cell_type": "code",
   "execution_count": 10,
   "metadata": {},
   "outputs": [],
   "source": [
    "f = open(\"test1.txt\", \"w\")   # -> r : 안쓴다 / w : 쓴다\n",
    "f.write(\"Hello\\n\")\n",
    "f.write(\"python\\n\")\n",
    "f.close()"
   ]
  },
  {
   "cell_type": "code",
   "execution_count": 11,
   "metadata": {},
   "outputs": [
    {
     "name": "stdout",
     "output_type": "stream",
     "text": [
      "Hello\n",
      "python\n",
      "\n"
     ]
    }
   ],
   "source": [
    "f = open(\"test1.txt\", \"r\")\n",
    "s = f.read()\n",
    "f.close()\n",
    "print(s)"
   ]
  },
  {
   "cell_type": "code",
   "execution_count": 14,
   "metadata": {},
   "outputs": [
    {
     "name": "stdout",
     "output_type": "stream",
     "text": [
      "Write END~\n"
     ]
    }
   ],
   "source": [
    "with open(\"test3.txt\", \"w\") as f:\n",
    "    for i in range(10):\n",
    "        f.write(\"{} Hello, Python\\n\".format(i+1))\n",
    "    print(\"Write END~\")"
   ]
  },
  {
   "cell_type": "code",
   "execution_count": 16,
   "metadata": {},
   "outputs": [
    {
     "name": "stdout",
     "output_type": "stream",
     "text": [
      "1 Hello, Python\n",
      "2 Hello, Python\n",
      "3 Hello, Python\n",
      "4 Hello, Python\n",
      "5 Hello, Python\n",
      "6 Hello, Python\n",
      "7 Hello, Python\n",
      "8 Hello, Python\n",
      "9 Hello, Python\n",
      "10 Hello, Python\n",
      "\n"
     ]
    }
   ],
   "source": [
    "with open(\"test3.txt\", \"r\") as f2:\n",
    "    s = f2.read()\n",
    "print(s)"
   ]
  },
  {
   "cell_type": "code",
   "execution_count": 17,
   "metadata": {},
   "outputs": [
    {
     "name": "stdout",
     "output_type": "stream",
     "text": [
      "['1 Hello, Python\\n', '2 Hello, Python\\n', '3 Hello, Python\\n', '4 Hello, Python\\n', '5 Hello, Python\\n', '6 Hello, Python\\n', '7 Hello, Python\\n', '8 Hello, Python\\n', '9 Hello, Python\\n', '10 Hello, Python\\n']\n"
     ]
    }
   ],
   "source": [
    "with open(\"test3.txt\", \"r\") as f2:\n",
    "    s = f2.readlines()\n",
    "print(s)"
   ]
  },
  {
   "cell_type": "code",
   "execution_count": 22,
   "metadata": {},
   "outputs": [
    {
     "name": "stderr",
     "output_type": "stream",
     "text": [
      "UsageError: %%writefile is a cell magic, but the cell body is empty.\n"
     ]
    }
   ],
   "source": [
    "%%writefile test5.txt      ## 내용이 없으면 write 되지 않는다."
   ]
  },
  {
   "cell_type": "code",
   "execution_count": 23,
   "metadata": {},
   "outputs": [],
   "source": [
    "a = 10\n",
    "if a > 10:\n",
    "    pass"
   ]
  },
  {
   "cell_type": "code",
   "execution_count": 25,
   "metadata": {},
   "outputs": [
    {
     "name": "stdout",
     "output_type": "stream",
     "text": [
      "100 <class 'str'>\n"
     ]
    }
   ],
   "source": [
    "with open(\"test5.txt\", \"w\") as f:\n",
    "    f.write(\"100\")\n",
    "    \n",
    "    \n",
    "with open(\"test5.txt\", \"r\") as f:\n",
    "    a = f.read()\n",
    "    print(a, type(a))"
   ]
  },
  {
   "cell_type": "markdown",
   "metadata": {},
   "source": [
    "### Pickle\n",
    "파이썬 객체를 그대로 파일에 저장하기  =>  그대로 가져와 다시 그 파이썬 객체로 사용하기"
   ]
  },
  {
   "cell_type": "code",
   "execution_count": 30,
   "metadata": {},
   "outputs": [
    {
     "name": "stdout",
     "output_type": "stream",
     "text": [
      "300\n",
      "60\n",
      "홍길동\n"
     ]
    }
   ],
   "source": [
    "a = \"Python\"\n",
    "b = 100\n",
    "c = [10, 20, 30]\n",
    "d = {\"name\":\"홍길동\", \"age\":20}\n",
    "print(b+200)\n",
    "print(sum(c))\n",
    "print(d[\"name\"])\n",
    "\n",
    "import pickle\n",
    "with open(\"test6.pkl\", \"wb\") as f:   # -> 확장자 이름 마음대로  // 바이너리 쓰기 모드(wb)\n",
    "    pickle.dump(a, f)\n",
    "    pickle.dump(b, f)\n",
    "    pickle.dump(c, f)\n",
    "    pickle.dump(d, f)"
   ]
  },
  {
   "cell_type": "code",
   "execution_count": 31,
   "metadata": {},
   "outputs": [
    {
     "name": "stdout",
     "output_type": "stream",
     "text": [
      "Python***\n",
      "300\n",
      "10\n",
      "홍길동\n"
     ]
    }
   ],
   "source": [
    "with open(\"test6.pkl\", \"rb\") as f:   # -> 바이너리 읽기 모드(wb)\n",
    "    print(pickle.load(f) + \"***\")\n",
    "    print(pickle.load(f) + 200)\n",
    "    print(pickle.load(f)[0])\n",
    "    print(pickle.load(f)[\"name\"])"
   ]
  },
  {
   "cell_type": "code",
   "execution_count": 33,
   "metadata": {},
   "outputs": [
    {
     "name": "stdout",
     "output_type": "stream",
     "text": [
      "Writing words.txt\n"
     ]
    }
   ],
   "source": [
    "# 연습문제 #\n",
    "%%writefile words.txt\n",
    "anonymously\n",
    "compatibility\n",
    "dashboard\n",
    "experience\n",
    "photography\n",
    "spotlight\n",
    "warehouse"
   ]
  },
  {
   "cell_type": "code",
   "execution_count": 35,
   "metadata": {},
   "outputs": [
    {
     "name": "stdout",
     "output_type": "stream",
     "text": [
      "anonymously\n",
      "compatibility\n",
      "dashboard\n",
      "experience\n",
      "photography\n",
      "spotlight\n",
      "warehouse\n",
      "\n"
     ]
    }
   ],
   "source": [
    "with open(\"words.txt\") as f:\n",
    "    s = f.read()\n",
    "print(s)"
   ]
  },
  {
   "cell_type": "code",
   "execution_count": 39,
   "metadata": {},
   "outputs": [
    {
     "name": "stdout",
     "output_type": "stream",
     "text": [
      "['anonymously\\n', 'compatibility\\n', 'dashboard\\n', 'experience\\n', 'photography\\n', 'spotlight\\n', 'warehouse\\n']\n",
      "dashboard\n",
      "experience\n",
      "spotlight\n",
      "warehouse\n",
      "4\n"
     ]
    }
   ],
   "source": [
    "with open(\"words.txt\") as f:\n",
    "    s = f.readlines()\n",
    "print(s)\n",
    "\n",
    "cnt = 0\n",
    "for w in s:\n",
    "    a = w.strip(\"\\n\")     # \\n 을 빼라\n",
    "    if len(a) <= 10:\n",
    "        print(a)\n",
    "        cnt += 1\n",
    "print(cnt)"
   ]
  },
  {
   "cell_type": "code",
   "execution_count": 41,
   "metadata": {},
   "outputs": [
    {
     "name": "stdout",
     "output_type": "stream",
     "text": [
      "aaaaaaaa\n"
     ]
    }
   ],
   "source": [
    "s = \"\\n\\n\\naaaaaaaa\\n\\n\\n\".strip(\"\\n\")\n",
    "print(s)"
   ]
  },
  {
   "cell_type": "markdown",
   "metadata": {},
   "source": [
    "# 회문 판별"
   ]
  },
  {
   "cell_type": "code",
   "execution_count": 46,
   "metadata": {},
   "outputs": [
    {
     "name": "stdout",
     "output_type": "stream",
     "text": [
      "False\n"
     ]
    }
   ],
   "source": [
    "word = \"123  4  321\"\n",
    "is_palindrome = True\n",
    "\n",
    "for i in range(len(word)//2):   ## 회문 판별값을 저장할 변수, 초깃값은 True\n",
    "    if word[i] != word[-1-i]:\n",
    "        is_palindrome = False\n",
    "        break\n",
    "\n",
    "print(is_palindrome)"
   ]
  },
  {
   "cell_type": "code",
   "execution_count": 48,
   "metadata": {},
   "outputs": [
    {
     "name": "stdout",
     "output_type": "stream",
     "text": [
      "123  4  321 123  4  321\n",
      "True\n"
     ]
    }
   ],
   "source": [
    "word = \"123  4  321\"\n",
    "word2 = word[::-1]\n",
    "\n",
    "print(word, word2)\n",
    "print(word == word2)"
   ]
  },
  {
   "cell_type": "code",
   "execution_count": 49,
   "metadata": {},
   "outputs": [
    {
     "name": "stdout",
     "output_type": "stream",
     "text": [
      "level level\n",
      "True\n"
     ]
    }
   ],
   "source": [
    "word = \"level\"\n",
    "word2 = word[::-1]\n",
    "\n",
    "print(word, word2)\n",
    "print(word == word2)"
   ]
  },
  {
   "cell_type": "code",
   "execution_count": 55,
   "metadata": {},
   "outputs": [
    {
     "data": {
      "text/plain": [
       "False"
      ]
     },
     "execution_count": 55,
     "metadata": {},
     "output_type": "execute_result"
    }
   ],
   "source": [
    "word = \"levelaaa\"\n",
    "\n",
    "list(word) == list(reversed(word))\n",
    "\n",
    "word == \"\".join(reversed(word))"
   ]
  },
  {
   "cell_type": "markdown",
   "metadata": {},
   "source": [
    "# N-gram"
   ]
  },
  {
   "cell_type": "code",
   "execution_count": 60,
   "metadata": {},
   "outputs": [
    {
     "name": "stdout",
     "output_type": "stream",
     "text": [
      "He\n",
      "el\n",
      "ll\n",
      "lo\n"
     ]
    }
   ],
   "source": [
    "word = \"Hello\"\n",
    "\n",
    "# N-gram\n",
    "for i in range(len(word)-1):\n",
    "    print(word[i], word[i+1], sep = \"\")"
   ]
  },
  {
   "cell_type": "code",
   "execution_count": 62,
   "metadata": {},
   "outputs": [
    {
     "name": "stdout",
     "output_type": "stream",
     "text": [
      "Hello world\n",
      "world python\n",
      "python R\n"
     ]
    }
   ],
   "source": [
    "word = \"Hello world python R\".split()\n",
    "\n",
    "# N-gram\n",
    "for i in range(len(word)-1):\n",
    "    print(word[i], word[i+1], sep = \" \")"
   ]
  },
  {
   "cell_type": "code",
   "execution_count": 63,
   "metadata": {},
   "outputs": [
    {
     "data": {
      "text/plain": [
       "[(1, 'a'), (2, 'b'), (3, 'c')]"
      ]
     },
     "execution_count": 63,
     "metadata": {},
     "output_type": "execute_result"
    }
   ],
   "source": [
    "list(zip([1,2,3],['a','b','c']))"
   ]
  },
  {
   "cell_type": "code",
   "execution_count": 66,
   "metadata": {},
   "outputs": [
    {
     "data": {
      "text/plain": [
       "[('H', 'e'), ('e', 'l'), ('l', 'l'), ('l', 'o')]"
      ]
     },
     "execution_count": 66,
     "metadata": {},
     "output_type": "execute_result"
    }
   ],
   "source": [
    "word = \"Hello\"\n",
    "\n",
    "list(zip(word, word[1:]))"
   ]
  },
  {
   "cell_type": "code",
   "execution_count": 67,
   "metadata": {},
   "outputs": [
    {
     "data": {
      "text/plain": [
       "[('Hello', 'Python'), ('Python', 'R'), ('R', 'Multi')]"
      ]
     },
     "execution_count": 67,
     "metadata": {},
     "output_type": "execute_result"
    }
   ],
   "source": [
    "word = \"Hello Python R Multi\".split()\n",
    "\n",
    "list(zip(word, word[1:]))"
   ]
  },
  {
   "cell_type": "markdown",
   "metadata": {},
   "source": [
    "# 함수\n",
    "- 기능, 동작\n",
    "- 재사용하기 위해 만든다\n",
    "- 모듈화하기 위해 만든다\n",
    "- 코드들의 묶음\n",
    "- 사용자 정의 함수"
   ]
  },
  {
   "cell_type": "markdown",
   "metadata": {},
   "source": [
    "### 함수 정의"
   ]
  },
  {
   "cell_type": "code",
   "execution_count": 68,
   "metadata": {},
   "outputs": [],
   "source": [
    "def add():\n",
    "    print(\"함수 시작\")\n",
    "    print(\"add 함수입니다.\")\n",
    "    print(\"함수 끝~!\")"
   ]
  },
  {
   "cell_type": "code",
   "execution_count": 70,
   "metadata": {
    "scrolled": true
   },
   "outputs": [],
   "source": [
    "# globals()          ## 모든 내장 함수들 보여줌"
   ]
  },
  {
   "cell_type": "markdown",
   "metadata": {},
   "source": [
    "### 함수 호출"
   ]
  },
  {
   "cell_type": "code",
   "execution_count": 71,
   "metadata": {
    "scrolled": true
   },
   "outputs": [
    {
     "name": "stdout",
     "output_type": "stream",
     "text": [
      "함수 시작\n",
      "add 함수입니다.\n",
      "함수 끝~!\n"
     ]
    }
   ],
   "source": [
    "add()"
   ]
  },
  {
   "cell_type": "code",
   "execution_count": 72,
   "metadata": {},
   "outputs": [
    {
     "name": "stdout",
     "output_type": "stream",
     "text": [
      "함수 시작\n",
      "add 함수입니다.\n",
      "함수 끝~!\n"
     ]
    }
   ],
   "source": [
    "def add():\n",
    "    print(\"함수 시작\")\n",
    "    print(\"add 함수입니다.\")\n",
    "    print(\"함수 끝~!\")\n",
    "add()"
   ]
  },
  {
   "cell_type": "markdown",
   "metadata": {},
   "source": [
    "### 사용자정의함수 정의\n",
    "파라미터, argument, 형식매개변수"
   ]
  },
  {
   "cell_type": "code",
   "execution_count": 79,
   "metadata": {},
   "outputs": [],
   "source": [
    "def add(a, b):\n",
    "    print(\"-----함수 시작-----\")\n",
    "    print(\"add 함수입니다.\", a+b)\n",
    "    print(\"함수 끝~!\")"
   ]
  },
  {
   "cell_type": "code",
   "execution_count": 80,
   "metadata": {},
   "outputs": [
    {
     "name": "stdout",
     "output_type": "stream",
     "text": [
      "-----함수 시작-----\n",
      "add 함수입니다. 30\n",
      "함수 끝~!\n"
     ]
    }
   ],
   "source": [
    "add(10, 20)"
   ]
  },
  {
   "cell_type": "code",
   "execution_count": 82,
   "metadata": {
    "scrolled": false
   },
   "outputs": [
    {
     "name": "stdout",
     "output_type": "stream",
     "text": [
      "-----함수 시작-----\n",
      "add 함수입니다. 30\n",
      "함수 끝~!\n",
      "-----함수 시작-----\n",
      "add 함수입니다. ABCDEF\n",
      "함수 끝~!\n",
      "-----함수 시작-----\n",
      "add 함수입니다. [1, 2, 3, 4, 5, 6]\n",
      "함수 끝~!\n"
     ]
    }
   ],
   "source": [
    "add(10, 20)\n",
    "add(\"ABC\", \"DEF\")\n",
    "add([1,2,3],[4,5,6])"
   ]
  },
  {
   "cell_type": "markdown",
   "metadata": {},
   "source": [
    "### 함수 독스트링\n",
    "함수의 설명을 넣을 수 있다."
   ]
  },
  {
   "cell_type": "code",
   "execution_count": 90,
   "metadata": {},
   "outputs": [],
   "source": [
    "def add(a, b):\n",
    "    '''\n",
    "    이 함수는 두 개의 값을 더한다.\n",
    "    '''\n",
    "    print(\"-----함수 시작-----\")\n",
    "    print(\"add 함수입니다.\", a+b)\n",
    "    print(\"함수 끝~!\")"
   ]
  },
  {
   "cell_type": "code",
   "execution_count": 85,
   "metadata": {},
   "outputs": [
    {
     "data": {
      "text/plain": [
       "'\\n    이 함수는 두 개의 값을 더한다.\\n    '"
      ]
     },
     "execution_count": 85,
     "metadata": {},
     "output_type": "execute_result"
    }
   ],
   "source": [
    "add.__doc__          ## 함수 독스트링 출력하기"
   ]
  },
  {
   "cell_type": "code",
   "execution_count": 86,
   "metadata": {
    "scrolled": true
   },
   "outputs": [
    {
     "name": "stdout",
     "output_type": "stream",
     "text": [
      "Help on function add in module __main__:\n",
      "\n",
      "add(a, b)\n",
      "    이 함수는 두 개의 값을 더한다.\n",
      "\n"
     ]
    }
   ],
   "source": [
    "help(add)"
   ]
  },
  {
   "cell_type": "code",
   "execution_count": 91,
   "metadata": {},
   "outputs": [],
   "source": [
    "def add(a, b):\n",
    "    '''\n",
    "    이 함수는 두 개의 값을 더한다.\n",
    "    '''\n",
    "    print(\"-----함수 시작-----\")\n",
    "    print(\"add 함수입니다.\", a+b)\n",
    "    print(\"함수 끝~!\")\n",
    "    return a, b, a+b, a-b, a*b, a//b, a%b     ## return 은 여러 개 가능"
   ]
  },
  {
   "cell_type": "code",
   "execution_count": 92,
   "metadata": {},
   "outputs": [
    {
     "name": "stdout",
     "output_type": "stream",
     "text": [
      "-----함수 시작-----\n",
      "add 함수입니다. 3\n",
      "함수 끝~!\n",
      "(1, 2, 3, -1, 2, 0, 1)\n"
     ]
    }
   ],
   "source": [
    "result = add(1, 2)\n",
    "\n",
    "print(result)       ## 위에서 리턴을 해줘서 None 이 아닌 리턴 값을 출력해줌"
   ]
  },
  {
   "cell_type": "code",
   "execution_count": 94,
   "metadata": {
    "scrolled": true
   },
   "outputs": [
    {
     "name": "stdout",
     "output_type": "stream",
     "text": [
      "(3, 1) <class 'tuple'> 3 1\n",
      "3\n",
      "1\n"
     ]
    }
   ],
   "source": [
    "a = divmod(10, 3)\n",
    "print(a, type(a), a[0], a[1])\n",
    "\n",
    "a, b = divmod(10, 3)\n",
    "print(a)\n",
    "print(b)"
   ]
  },
  {
   "cell_type": "code",
   "execution_count": 96,
   "metadata": {},
   "outputs": [
    {
     "name": "stdout",
     "output_type": "stream",
     "text": [
      "-----함수 시작-----\n",
      "add 함수입니다. 3\n",
      "함수 끝~!\n",
      "-----함수 시작-----\n",
      "add 함수입니다. 3\n",
      "함수 끝~!\n",
      "(1, 2, 3, -1, 2, 0, 1)\n"
     ]
    }
   ],
   "source": [
    "result = add(1, 2)\n",
    "\n",
    "a, b, c, d, e, f, g = add(1, 2)\n",
    "\n",
    "print(result)       ## 위에서 리턴을 해줘서 None 이 아닌 리턴 값을 출력해줌"
   ]
  },
  {
   "cell_type": "code",
   "execution_count": 100,
   "metadata": {},
   "outputs": [
    {
     "name": "stdout",
     "output_type": "stream",
     "text": [
      "1\n",
      "2\n",
      "1\n",
      "2\n"
     ]
    }
   ],
   "source": [
    "a, b = [1, 2]\n",
    "print(a)\n",
    "print(b)\n",
    "\n",
    "a, b = (1, 2)\n",
    "print(a)\n",
    "print(b)"
   ]
  },
  {
   "cell_type": "code",
   "execution_count": 102,
   "metadata": {},
   "outputs": [],
   "source": [
    "def compute(a, b):\n",
    "    return a+b,a-b"
   ]
  },
  {
   "cell_type": "code",
   "execution_count": 103,
   "metadata": {},
   "outputs": [
    {
     "data": {
      "text/plain": [
       "(30, -10)"
      ]
     },
     "execution_count": 103,
     "metadata": {},
     "output_type": "execute_result"
    }
   ],
   "source": [
    "compute(10, 20)"
   ]
  },
  {
   "cell_type": "code",
   "execution_count": 107,
   "metadata": {},
   "outputs": [
    {
     "name": "stdout",
     "output_type": "stream",
     "text": [
      "(30, -10)\n"
     ]
    }
   ],
   "source": [
    "## packing : 두 개가 왔는데 하나로 받음\n",
    "\n",
    "result = compute(10, 20)\n",
    "\n",
    "print(result)"
   ]
  },
  {
   "cell_type": "code",
   "execution_count": 108,
   "metadata": {},
   "outputs": [
    {
     "name": "stdout",
     "output_type": "stream",
     "text": [
      "30\n",
      "-10\n"
     ]
    }
   ],
   "source": [
    "## unpacking : 두 개가 왔는데 각각 받음\n",
    "\n",
    "result, result2 = compute(10, 20)\n",
    "\n",
    "print(result)\n",
    "print(result2)"
   ]
  },
  {
   "cell_type": "code",
   "execution_count": 106,
   "metadata": {},
   "outputs": [
    {
     "ename": "ValueError",
     "evalue": "not enough values to unpack (expected 3, got 2)",
     "output_type": "error",
     "traceback": [
      "\u001b[1;31m---------------------------------------------------------------------------\u001b[0m",
      "\u001b[1;31mValueError\u001b[0m                                Traceback (most recent call last)",
      "\u001b[1;32m<ipython-input-106-43a6b963ba0d>\u001b[0m in \u001b[0;36m<module>\u001b[1;34m\u001b[0m\n\u001b[1;32m----> 1\u001b[1;33m \u001b[0mresult\u001b[0m\u001b[1;33m,\u001b[0m \u001b[0mresult2\u001b[0m\u001b[1;33m,\u001b[0m \u001b[0mresult3\u001b[0m \u001b[1;33m=\u001b[0m \u001b[0mcompute\u001b[0m\u001b[1;33m(\u001b[0m\u001b[1;36m10\u001b[0m\u001b[1;33m,\u001b[0m \u001b[1;36m20\u001b[0m\u001b[1;33m)\u001b[0m\u001b[1;33m\u001b[0m\u001b[1;33m\u001b[0m\u001b[0m\n\u001b[0m\u001b[0;32m      2\u001b[0m \u001b[1;33m\u001b[0m\u001b[0m\n\u001b[0;32m      3\u001b[0m \u001b[0mprint\u001b[0m\u001b[1;33m(\u001b[0m\u001b[0mresult\u001b[0m\u001b[1;33m)\u001b[0m\u001b[1;33m\u001b[0m\u001b[1;33m\u001b[0m\u001b[0m\n\u001b[0;32m      4\u001b[0m \u001b[0mprint\u001b[0m\u001b[1;33m(\u001b[0m\u001b[0mresult2\u001b[0m\u001b[1;33m)\u001b[0m\u001b[1;33m\u001b[0m\u001b[1;33m\u001b[0m\u001b[0m\n",
      "\u001b[1;31mValueError\u001b[0m: not enough values to unpack (expected 3, got 2)"
     ]
    }
   ],
   "source": [
    "result, result2, result3 = compute(10, 20)   # -> 개수 안맞으면 에러\n",
    "\n",
    "print(result)\n",
    "print(result2)"
   ]
  },
  {
   "cell_type": "code",
   "execution_count": 118,
   "metadata": {},
   "outputs": [],
   "source": [
    "def mul(a, b):\n",
    "    c = a*b\n",
    "    print(\"mul 함수:\" , c)\n",
    "    print(\"mul locals:\", locals())\n",
    "    return c"
   ]
  },
  {
   "cell_type": "code",
   "execution_count": 119,
   "metadata": {},
   "outputs": [],
   "source": [
    "def add(a,b):\n",
    "    c = a+b\n",
    "    d = mul(a,b)\n",
    "    print(\"add 함수:\", c, d)\n",
    "    print(\"add locals:\", locals())\n",
    "    return c, d"
   ]
  },
  {
   "cell_type": "code",
   "execution_count": 123,
   "metadata": {},
   "outputs": [
    {
     "name": "stdout",
     "output_type": "stream",
     "text": [
      "mul 함수: 200\n",
      "mul locals: {'a': 10, 'b': 20, 'c': 200}\n",
      "add 함수: 30 200\n",
      "add locals: {'a': 10, 'b': 20, 'c': 30, 'd': 200}\n"
     ]
    },
    {
     "data": {
      "text/plain": [
       "(30, 200)"
      ]
     },
     "execution_count": 123,
     "metadata": {},
     "output_type": "execute_result"
    }
   ],
   "source": [
    "x = 10\n",
    "y = 20\n",
    "\n",
    "add(x, y)"
   ]
  },
  {
   "cell_type": "code",
   "execution_count": 124,
   "metadata": {},
   "outputs": [],
   "source": [
    "# 연습문제 #\n",
    "def mok_namugi(a, b):\n",
    "    return a//b, a%b"
   ]
  },
  {
   "cell_type": "code",
   "execution_count": 128,
   "metadata": {},
   "outputs": [
    {
     "name": "stdout",
     "output_type": "stream",
     "text": [
      "(3, 1)\n",
      "3\n",
      "1\n"
     ]
    }
   ],
   "source": [
    "# packing\n",
    "a = mok_namugi(10, 3)\n",
    "print(a)\n",
    "\n",
    "# unpacking\n",
    "r1, r2 = mok_namugi(10, 3)\n",
    "print(r1)\n",
    "print(r2)"
   ]
  },
  {
   "cell_type": "code",
   "execution_count": 129,
   "metadata": {},
   "outputs": [
    {
     "name": "stdout",
     "output_type": "stream",
     "text": [
      "10 20 30\n"
     ]
    }
   ],
   "source": [
    "print(10,20,30)"
   ]
  },
  {
   "cell_type": "markdown",
   "metadata": {},
   "source": [
    "### 언패킹 사용"
   ]
  },
  {
   "cell_type": "code",
   "execution_count": 138,
   "metadata": {},
   "outputs": [],
   "source": [
    "def myprint(a, b, c):\n",
    "    print(\"a =\", a)\n",
    "    print(\"b =\", b)\n",
    "    print(\"c =\", c)"
   ]
  },
  {
   "cell_type": "code",
   "execution_count": 139,
   "metadata": {},
   "outputs": [
    {
     "name": "stdout",
     "output_type": "stream",
     "text": [
      "a = 10\n",
      "b = 20\n",
      "c = 30\n"
     ]
    }
   ],
   "source": [
    "myprint(10, 20, 30)"
   ]
  },
  {
   "cell_type": "code",
   "execution_count": 140,
   "metadata": {},
   "outputs": [],
   "source": [
    "# myprint([10, 20, 30])   # 3개의 값을 줘야 하지만 1개만 줘서 에러"
   ]
  },
  {
   "cell_type": "code",
   "execution_count": 141,
   "metadata": {},
   "outputs": [
    {
     "name": "stdout",
     "output_type": "stream",
     "text": [
      "a = [10, 20, 30]\n",
      "b = 40\n",
      "c = 50\n"
     ]
    }
   ],
   "source": [
    "myprint([10,20,30],40,50)"
   ]
  },
  {
   "cell_type": "code",
   "execution_count": 142,
   "metadata": {},
   "outputs": [
    {
     "name": "stdout",
     "output_type": "stream",
     "text": [
      "a = 10\n",
      "b = 20\n",
      "c = 30\n"
     ]
    }
   ],
   "source": [
    "myprint(*[10,20,30])     # 하나의 값을 언패킹하고 싶을 때 별표 사용"
   ]
  },
  {
   "cell_type": "markdown",
   "metadata": {},
   "source": [
    "### 위치 인수????????"
   ]
  },
  {
   "cell_type": "code",
   "execution_count": 160,
   "metadata": {},
   "outputs": [],
   "source": [
    "def personal_info(name, age, address):\n",
    "    print(\"name={}\".format(name))\n",
    "    print(\"age={}\".format(age))\n",
    "    print(\"address={}\".format(address))"
   ]
  },
  {
   "cell_type": "code",
   "execution_count": 177,
   "metadata": {},
   "outputs": [
    {
     "name": "stdout",
     "output_type": "stream",
     "text": [
      "name=홍길동\n",
      "age=20\n",
      "address=seoul\n",
      "-------------------------\n",
      "name=홍길동\n",
      "age=seoul\n",
      "address=20\n"
     ]
    }
   ],
   "source": [
    "personal_info(\"홍길동\", 20,\"seoul\")\n",
    "print(\"-------------------------\")\n",
    "personal_info(\"홍길동\",\"seoul\", 20)"
   ]
  },
  {
   "cell_type": "markdown",
   "metadata": {},
   "source": [
    "### 키워드 인수???????????"
   ]
  },
  {
   "cell_type": "code",
   "execution_count": 178,
   "metadata": {},
   "outputs": [
    {
     "name": "stdout",
     "output_type": "stream",
     "text": [
      "name=홍길동\n",
      "age=20\n",
      "address=seoul\n",
      "-------------------------\n",
      "name=홍길동\n",
      "age=20\n",
      "address=seoul\n"
     ]
    }
   ],
   "source": [
    "personal_info(name = '홍길동', address ='seoul', age = 20)\n",
    "print(\"-------------------------\")\n",
    "personal_info(name = '홍길동', age = 20, address ='seoul')"
   ]
  },
  {
   "cell_type": "code",
   "execution_count": 163,
   "metadata": {},
   "outputs": [
    {
     "name": "stdout",
     "output_type": "stream",
     "text": [
      "1~~~~~~~~2~~~~~~~~3********"
     ]
    }
   ],
   "source": [
    "print(1,2,3, end=\"********\", sep=\"~~~~~~~~\")"
   ]
  },
  {
   "cell_type": "code",
   "execution_count": 164,
   "metadata": {},
   "outputs": [
    {
     "name": "stdout",
     "output_type": "stream",
     "text": [
      "name=홍길동\n",
      "age=30\n",
      "address=서울시 용산구 이촌동\n",
      "name=A\n",
      "age=10\n",
      "address=B\n"
     ]
    }
   ],
   "source": [
    "x = {\"name\" : \"홍길동\", \"age\" : 30, \"address\" : \"서울시 용산구 이촌동\"}\n",
    "\n",
    "personal_info(**x)\n",
    "\n",
    "personal_info(**{\"name\":\"A\", \"age\":10, \"address\":\"B\"})"
   ]
  },
  {
   "cell_type": "code",
   "execution_count": 165,
   "metadata": {},
   "outputs": [],
   "source": [
    "def f(a):\n",
    "    print(a)"
   ]
  },
  {
   "cell_type": "code",
   "execution_count": 166,
   "metadata": {},
   "outputs": [
    {
     "name": "stdout",
     "output_type": "stream",
     "text": [
      "[1, 2, 3]\n"
     ]
    }
   ],
   "source": [
    "f([1,2,3])"
   ]
  },
  {
   "cell_type": "code",
   "execution_count": 168,
   "metadata": {},
   "outputs": [],
   "source": [
    "def f(*a):\n",
    "    print(a)"
   ]
  },
  {
   "cell_type": "code",
   "execution_count": 169,
   "metadata": {
    "scrolled": true
   },
   "outputs": [
    {
     "name": "stdout",
     "output_type": "stream",
     "text": [
      "(1, 2, 3)\n"
     ]
    }
   ],
   "source": [
    "f(1,2,3)"
   ]
  },
  {
   "cell_type": "markdown",
   "metadata": {},
   "source": [
    "### 가변 인자???????????\n",
    ": 0 개 이상"
   ]
  },
  {
   "cell_type": "code",
   "execution_count": 172,
   "metadata": {},
   "outputs": [],
   "source": [
    "def f(b, *a):\n",
    "    print(a)       # a는 0 개 이상\n",
    "    print(b)       # b는 무조건 값을 하나 가져야 함"
   ]
  },
  {
   "cell_type": "code",
   "execution_count": 174,
   "metadata": {},
   "outputs": [
    {
     "name": "stdout",
     "output_type": "stream",
     "text": [
      "()\n",
      "1\n"
     ]
    }
   ],
   "source": [
    "f(1)"
   ]
  },
  {
   "cell_type": "code",
   "execution_count": 173,
   "metadata": {},
   "outputs": [
    {
     "name": "stdout",
     "output_type": "stream",
     "text": [
      "(2, 3)\n",
      "1\n"
     ]
    }
   ],
   "source": [
    "f(1,2,3)"
   ]
  },
  {
   "cell_type": "code",
   "execution_count": 175,
   "metadata": {},
   "outputs": [
    {
     "name": "stdout",
     "output_type": "stream",
     "text": [
      "(2, 3, 4, 5)\n",
      "1\n"
     ]
    }
   ],
   "source": [
    "f(1,2,3,4,5)"
   ]
  },
  {
   "cell_type": "code",
   "execution_count": 183,
   "metadata": {},
   "outputs": [],
   "source": [
    "def test(**kwargs):\n",
    "    print(kwargs)\n",
    "    for k, v in kwargs.items():\n",
    "        print(k, v, sep = \" ---> \")"
   ]
  },
  {
   "cell_type": "code",
   "execution_count": 185,
   "metadata": {},
   "outputs": [
    {
     "name": "stdout",
     "output_type": "stream",
     "text": [
      "{'a': 10, 'b': 20, 'c': 'python'}\n",
      "a ---> 10\n",
      "b ---> 20\n",
      "c ---> python\n",
      "{'a': 10, 'b': 20}\n",
      "a ---> 10\n",
      "b ---> 20\n",
      "{'a': 10}\n",
      "a ---> 10\n"
     ]
    }
   ],
   "source": [
    "test(a = 10, b = 20, c = \"python\")\n",
    "test(a = 10, b = 20)\n",
    "test(a = 10)"
   ]
  },
  {
   "cell_type": "code",
   "execution_count": 187,
   "metadata": {},
   "outputs": [
    {
     "name": "stdout",
     "output_type": "stream",
     "text": [
      "{'name': '홍', 'age': 20}\n",
      "name ---> 홍\n",
      "age ---> 20\n"
     ]
    }
   ],
   "source": [
    "test(**{\"name\":\"홍\", \"age\":20})"
   ]
  },
  {
   "cell_type": "code",
   "execution_count": 191,
   "metadata": {},
   "outputs": [],
   "source": [
    "def personal_info(name, **etc):\n",
    "    print(\"이름은 {}\".format(name))\n",
    "    print(\"나머지는\", etc)"
   ]
  },
  {
   "cell_type": "code",
   "execution_count": 192,
   "metadata": {},
   "outputs": [
    {
     "name": "stdout",
     "output_type": "stream",
     "text": [
      "이름은 홍\n",
      "나머지는 {'a': 10, 'b': 20, 'c': 'pyhon'}\n"
     ]
    }
   ],
   "source": [
    "personal_info(\"홍\", a = 10, b = 20, c = \"pyhon\")"
   ]
  },
  {
   "cell_type": "code",
   "execution_count": 193,
   "metadata": {
    "scrolled": true
   },
   "outputs": [
    {
     "ename": "NameError",
     "evalue": "name 'personal_lnfo' is not defined",
     "output_type": "error",
     "traceback": [
      "\u001b[1;31m---------------------------------------------------------------------------\u001b[0m",
      "\u001b[1;31mNameError\u001b[0m                                 Traceback (most recent call last)",
      "\u001b[1;32m<ipython-input-193-019ad4ec80b4>\u001b[0m in \u001b[0;36m<module>\u001b[1;34m\u001b[0m\n\u001b[0;32m      1\u001b[0m \u001b[0md\u001b[0m \u001b[1;33m=\u001b[0m \u001b[1;33m{\u001b[0m\u001b[1;34m\"a\"\u001b[0m\u001b[1;33m:\u001b[0m\u001b[1;36m10\u001b[0m\u001b[1;33m,\u001b[0m \u001b[1;34m\"b\"\u001b[0m\u001b[1;33m:\u001b[0m\u001b[1;36m20\u001b[0m\u001b[1;33m,\u001b[0m \u001b[1;34m\"c\"\u001b[0m\u001b[1;33m:\u001b[0m\u001b[1;34m\"python\"\u001b[0m\u001b[1;33m}\u001b[0m\u001b[1;33m\u001b[0m\u001b[1;33m\u001b[0m\u001b[0m\n\u001b[1;32m----> 2\u001b[1;33m \u001b[0mpersonal_lnfo\u001b[0m\u001b[1;33m(\u001b[0m\u001b[1;34m\"홍\"\u001b[0m\u001b[1;33m,\u001b[0m \u001b[1;33m**\u001b[0m\u001b[0md\u001b[0m\u001b[1;33m)\u001b[0m\u001b[1;33m\u001b[0m\u001b[1;33m\u001b[0m\u001b[0m\n\u001b[0m",
      "\u001b[1;31mNameError\u001b[0m: name 'personal_lnfo' is not defined"
     ]
    }
   ],
   "source": [
    "d = {\"a\":10, \"b\":20, \"c\":\"python\"}\n",
    "personal_lnfo(\"홍\", **d)"
   ]
  },
  {
   "cell_type": "code",
   "execution_count": 197,
   "metadata": {},
   "outputs": [],
   "source": [
    "# 디폴트를 제거\n",
    "def myprint(a,b=200,c=100):\n",
    "    print(a)\n",
    "    print(b)\n",
    "    print(c)"
   ]
  },
  {
   "cell_type": "code",
   "execution_count": 198,
   "metadata": {
    "scrolled": false
   },
   "outputs": [
    {
     "name": "stdout",
     "output_type": "stream",
     "text": [
      "10\n",
      "20\n",
      "30\n",
      "10\n",
      "20\n",
      "100\n",
      "10\n",
      "200\n",
      "100\n"
     ]
    }
   ],
   "source": [
    "myprint(10, 20, 30)\n",
    "myprint(10, 20)\n",
    "myprint(10)"
   ]
  },
  {
   "cell_type": "markdown",
   "metadata": {},
   "source": [
    "### 재귀호출"
   ]
  },
  {
   "cell_type": "code",
   "execution_count": 204,
   "metadata": {},
   "outputs": [],
   "source": [
    "def factorial(n):\n",
    "    if n == 1:\n",
    "        return 1\n",
    "    return n * factorial(n-1)"
   ]
  },
  {
   "cell_type": "code",
   "execution_count": 205,
   "metadata": {},
   "outputs": [
    {
     "data": {
      "text/plain": [
       "120"
      ]
     },
     "execution_count": 205,
     "metadata": {},
     "output_type": "execute_result"
    }
   ],
   "source": [
    "factorial(5)"
   ]
  },
  {
   "cell_type": "markdown",
   "metadata": {},
   "source": [
    "# 람다"
   ]
  },
  {
   "cell_type": "code",
   "execution_count": 206,
   "metadata": {},
   "outputs": [],
   "source": [
    "def plus_ten(x):\n",
    "    return x + 10"
   ]
  },
  {
   "cell_type": "code",
   "execution_count": 209,
   "metadata": {},
   "outputs": [
    {
     "data": {
      "text/plain": [
       "110"
      ]
     },
     "execution_count": 209,
     "metadata": {},
     "output_type": "execute_result"
    }
   ],
   "source": [
    "plus_ten(1)\n",
    "plus_ten(10)\n",
    "plus_ten(100)"
   ]
  },
  {
   "cell_type": "code",
   "execution_count": 211,
   "metadata": {},
   "outputs": [
    {
     "data": {
      "text/plain": [
       "110"
      ]
     },
     "execution_count": 211,
     "metadata": {},
     "output_type": "execute_result"
    }
   ],
   "source": [
    "a = lambda x : x + 10\n",
    "a(10)\n",
    "a(100)"
   ]
  },
  {
   "cell_type": "code",
   "execution_count": 213,
   "metadata": {},
   "outputs": [
    {
     "data": {
      "text/plain": [
       "12"
      ]
     },
     "execution_count": 213,
     "metadata": {},
     "output_type": "execute_result"
    }
   ],
   "source": [
    "(lambda x : x + 10)(2)"
   ]
  },
  {
   "cell_type": "code",
   "execution_count": 219,
   "metadata": {},
   "outputs": [],
   "source": [
    "alist = [1,2,3,4,5]"
   ]
  },
  {
   "cell_type": "code",
   "execution_count": 214,
   "metadata": {},
   "outputs": [
    {
     "name": "stdout",
     "output_type": "stream",
     "text": [
      "11\n",
      "12\n",
      "13\n",
      "14\n",
      "15\n"
     ]
    }
   ],
   "source": [
    "## 방법1\n",
    "for val in alist:\n",
    "    print(plus_ten(val))"
   ]
  },
  {
   "cell_type": "code",
   "execution_count": 215,
   "metadata": {},
   "outputs": [
    {
     "data": {
      "text/plain": [
       "[11, 12, 13, 14, 15]"
      ]
     },
     "execution_count": 215,
     "metadata": {},
     "output_type": "execute_result"
    }
   ],
   "source": [
    "## 방법2\n",
    "[plus_ten(val) for val in alist]"
   ]
  },
  {
   "cell_type": "code",
   "execution_count": 217,
   "metadata": {},
   "outputs": [
    {
     "data": {
      "text/plain": [
       "[11, 12, 13, 14, 15]"
      ]
     },
     "execution_count": 217,
     "metadata": {},
     "output_type": "execute_result"
    }
   ],
   "source": [
    "## 방법3\n",
    "list(map(plus_ten , alist))"
   ]
  },
  {
   "cell_type": "code",
   "execution_count": 218,
   "metadata": {
    "scrolled": true
   },
   "outputs": [
    {
     "data": {
      "text/plain": [
       "[11, 12, 13, 14, 15]"
      ]
     },
     "execution_count": 218,
     "metadata": {},
     "output_type": "execute_result"
    }
   ],
   "source": [
    "## 방법4\n",
    "list(map(lambda aa:aa+10 , alist))"
   ]
  },
  {
   "cell_type": "markdown",
   "metadata": {},
   "source": [
    "### 람다 표현식과 map"
   ]
  },
  {
   "cell_type": "code",
   "execution_count": 221,
   "metadata": {},
   "outputs": [
    {
     "data": {
      "text/plain": [
       "[11, 12, '3', 14, 15, '6', 17, 18, '9', 20]"
      ]
     },
     "execution_count": 221,
     "metadata": {},
     "output_type": "execute_result"
    }
   ],
   "source": [
    "# 3의 배수는 문자로 나오고 나머지는 10을 더한다.\n",
    "\n",
    "def f(a):\n",
    "    if a%3 == 0:\n",
    "        return str(a)\n",
    "    else:\n",
    "        return a+10\n",
    "\n",
    "alist = list(range(1, 11))\n",
    "list(map(f, alist))"
   ]
  },
  {
   "cell_type": "code",
   "execution_count": 223,
   "metadata": {},
   "outputs": [
    {
     "data": {
      "text/plain": [
       "[11, 12, '3', 14, 15, '6', 17, 18, '9', 20]"
      ]
     },
     "execution_count": 223,
     "metadata": {},
     "output_type": "execute_result"
    }
   ],
   "source": [
    "# lambda + map\n",
    "\n",
    "f2 = lambda a : str(a) if a % 3 == 0 else a + 10\n",
    "list(map(f2, alist))"
   ]
  },
  {
   "cell_type": "code",
   "execution_count": 224,
   "metadata": {
    "scrolled": true
   },
   "outputs": [
    {
     "data": {
      "text/plain": [
       "[11, 12, '3', 14, 15, '6', 17, 18, '9', 20]"
      ]
     },
     "execution_count": 224,
     "metadata": {},
     "output_type": "execute_result"
    }
   ],
   "source": [
    "list(map(lambda a : str(a) if a % 3 == 0 else a + 10, alist))"
   ]
  },
  {
   "cell_type": "code",
   "execution_count": 225,
   "metadata": {
    "scrolled": true
   },
   "outputs": [
    {
     "data": {
      "text/plain": [
       "[1, 2.0, '3', 4.0, 5, '6', 7, 8.0, '9', 10.0]"
      ]
     },
     "execution_count": 225,
     "metadata": {},
     "output_type": "execute_result"
    }
   ],
   "source": [
    "list(map(lambda a : str(a) if a % 3 == 0 else float(a) if a % 2 == 0 else a, alist))"
   ]
  },
  {
   "cell_type": "code",
   "execution_count": 227,
   "metadata": {},
   "outputs": [
    {
     "data": {
      "text/plain": [
       "[7, 9, 11, 13, 15]"
      ]
     },
     "execution_count": 227,
     "metadata": {},
     "output_type": "execute_result"
    }
   ],
   "source": [
    "a = [1,2,3,4,5]\n",
    "b = [6,7,8,9,10]\n",
    "\n",
    "f = lambda x, y : x + y\n",
    "\n",
    "list(map(f, a, b))"
   ]
  },
  {
   "cell_type": "markdown",
   "metadata": {},
   "source": [
    "### 람다 표현식과 filter"
   ]
  },
  {
   "cell_type": "code",
   "execution_count": 228,
   "metadata": {},
   "outputs": [
    {
     "data": {
      "text/plain": [
       "[8, 7, 9]"
      ]
     },
     "execution_count": 228,
     "metadata": {},
     "output_type": "execute_result"
    }
   ],
   "source": [
    "alist = [8, 3, 2, 10, 15, 7, 1, 9, 0, 11]\n",
    "\n",
    "f = lambda x : x > 5 and x < 10\n",
    "\n",
    "list(filter(f, alist))"
   ]
  },
  {
   "cell_type": "markdown",
   "metadata": {},
   "source": [
    "### 람다 표현식과 reduce"
   ]
  },
  {
   "cell_type": "code",
   "execution_count": 229,
   "metadata": {},
   "outputs": [
    {
     "data": {
      "text/plain": [
       "66"
      ]
     },
     "execution_count": 229,
     "metadata": {},
     "output_type": "execute_result"
    }
   ],
   "source": [
    "from functools import reduce\n",
    "\n",
    "f = lambda x, y : x + y \n",
    "\n",
    "reduce(f, alist)"
   ]
  },
  {
   "cell_type": "code",
   "execution_count": 230,
   "metadata": {
    "scrolled": false
   },
   "outputs": [
    {
     "data": {
      "text/plain": [
       "66"
      ]
     },
     "execution_count": 230,
     "metadata": {},
     "output_type": "execute_result"
    }
   ],
   "source": [
    "sum(alist)"
   ]
  },
  {
   "cell_type": "code",
   "execution_count": 242,
   "metadata": {},
   "outputs": [
    {
     "data": {
      "text/plain": [
       "-1"
      ]
     },
     "execution_count": 242,
     "metadata": {},
     "output_type": "execute_result"
    }
   ],
   "source": [
    "'1.png'.index(\"png\")   # -> 인덱스 위치\n",
    "'png'.find(\"png2\")     # -> 0보다 큰 값이 나오면 값이 있다 / -1 이 나오면 값이 없다."
   ]
  },
  {
   "cell_type": "code",
   "execution_count": 233,
   "metadata": {},
   "outputs": [
    {
     "data": {
      "text/plain": [
       "['1.png', '10.jpg', '2.jpg', '3.png']"
      ]
     },
     "execution_count": 233,
     "metadata": {},
     "output_type": "execute_result"
    }
   ],
   "source": [
    "# 연습문제 #\n",
    "# jpg, gif, png 확장자를 가지고 있는 것만 선택\n",
    "\n",
    "files = ['font', '1.png', '10.jpg', '11.gif', '2.jpg', '3.png', 'table.xslx', 'spec.docx']\n",
    " \n",
    "f = lambda a : a.find(\"png\") >= 0 or a.find(\"jpg\") >= 0    # -1 이 나오면 값이 없는 거니까!!\n",
    "    \n",
    "list(filter(f, files))"
   ]
  },
  {
   "cell_type": "markdown",
   "metadata": {},
   "source": [
    "# 지역 변수 / 전역 변수"
   ]
  },
  {
   "cell_type": "code",
   "execution_count": 250,
   "metadata": {},
   "outputs": [],
   "source": [
    "del b"
   ]
  },
  {
   "cell_type": "code",
   "execution_count": 264,
   "metadata": {},
   "outputs": [
    {
     "name": "stdout",
     "output_type": "stream",
     "text": [
      "**********전역(global)**********\n",
      "-----지역(local)-----\n",
      "지역 변수 : 30\n",
      "지역 변수 : 20\n",
      "전역 변수 : 30\n"
     ]
    }
   ],
   "source": [
    "print(\"**********전역(global)**********\")\n",
    "\n",
    "a = 10\n",
    "def outer():\n",
    "    print(\"-----지역(local)-----\")\n",
    "    \n",
    "    b = 20\n",
    "    global a     # a = 30 을 전역 변수로 사용하겠다 라는 뜻!!\n",
    "    a = 30\n",
    "\n",
    "    print(\"지역 변수 : {}\".format(a))\n",
    "    print(\"지역 변수 : {}\".format(b))\n",
    "    \n",
    "outer()\n",
    "# print(\"전역 변수 : {}\".format(b))   ## 지역 변수는 함수를 벗어나면 자동 제거(사용 불가) + 전역의 b는 정의되어 있지 않아 에러!!\n",
    "print(\"전역 변수 : {}\".format(a))"
   ]
  },
  {
   "cell_type": "code",
   "execution_count": 265,
   "metadata": {
    "scrolled": true
   },
   "outputs": [
    {
     "name": "stdout",
     "output_type": "stream",
     "text": [
      "-----지역(local)-----\n",
      "지역 변수 : 30\n",
      "지역 변수 : 20\n"
     ]
    }
   ],
   "source": [
    "outer()"
   ]
  },
  {
   "cell_type": "code",
   "execution_count": 273,
   "metadata": {},
   "outputs": [],
   "source": [
    "del aa"
   ]
  },
  {
   "cell_type": "code",
   "execution_count": 274,
   "metadata": {},
   "outputs": [
    {
     "name": "stdout",
     "output_type": "stream",
     "text": [
      "{'aa': 10}\n"
     ]
    },
    {
     "ename": "NameError",
     "evalue": "name 'aa' is not defined",
     "output_type": "error",
     "traceback": [
      "\u001b[1;31m---------------------------------------------------------------------------\u001b[0m",
      "\u001b[1;31mNameError\u001b[0m                                 Traceback (most recent call last)",
      "\u001b[1;32m<ipython-input-274-4af0b6d962ee>\u001b[0m in \u001b[0;36m<module>\u001b[1;34m\u001b[0m\n\u001b[0;32m      5\u001b[0m \u001b[1;33m\u001b[0m\u001b[0m\n\u001b[0;32m      6\u001b[0m \u001b[0mouter\u001b[0m\u001b[1;33m(\u001b[0m\u001b[1;33m)\u001b[0m\u001b[1;33m\u001b[0m\u001b[1;33m\u001b[0m\u001b[0m\n\u001b[1;32m----> 7\u001b[1;33m \u001b[0mprint\u001b[0m\u001b[1;33m(\u001b[0m\u001b[0maa\u001b[0m\u001b[1;33m)\u001b[0m\u001b[1;33m\u001b[0m\u001b[1;33m\u001b[0m\u001b[0m\n\u001b[0m",
      "\u001b[1;31mNameError\u001b[0m: name 'aa' is not defined"
     ]
    }
   ],
   "source": [
    "def outer():\n",
    "    # global aa\n",
    "    aa = 10\n",
    "    print(locals())\n",
    "    \n",
    "outer()\n",
    "print(aa)"
   ]
  },
  {
   "cell_type": "code",
   "execution_count": 275,
   "metadata": {},
   "outputs": [
    {
     "name": "stdout",
     "output_type": "stream",
     "text": [
      "{}\n",
      "10\n"
     ]
    }
   ],
   "source": [
    "def outer():\n",
    "    global aa\n",
    "    aa = 10\n",
    "    print(locals())\n",
    "    \n",
    "outer()\n",
    "print(aa)"
   ]
  },
  {
   "cell_type": "code",
   "execution_count": 279,
   "metadata": {},
   "outputs": [],
   "source": [
    "def inner():\n",
    "    print(\"global 의 inner 함수\")\n",
    "\n",
    "def outer():\n",
    "    a = 10\n",
    "    def inner():\n",
    "        print(a)"
   ]
  },
  {
   "cell_type": "code",
   "execution_count": 281,
   "metadata": {},
   "outputs": [],
   "source": [
    "outer()"
   ]
  },
  {
   "cell_type": "code",
   "execution_count": 280,
   "metadata": {
    "scrolled": true
   },
   "outputs": [
    {
     "name": "stdout",
     "output_type": "stream",
     "text": [
      "global 의 inner 함수\n"
     ]
    }
   ],
   "source": [
    "inner()"
   ]
  },
  {
   "cell_type": "code",
   "execution_count": 282,
   "metadata": {},
   "outputs": [],
   "source": [
    "del a"
   ]
  },
  {
   "cell_type": "code",
   "execution_count": 306,
   "metadata": {},
   "outputs": [],
   "source": [
    "a = 1000          # global 변수\n",
    "def outer():\n",
    "    global a\n",
    "    a = 10        # local 변수 = 접근 불가\n",
    "    def inner():\n",
    "        global a\n",
    "        a = 20\n",
    "        print(\"inner의 a :\", a)   ## 20\n",
    "    inner()\n",
    "    print(\"outer의 a :\", a)       ## 10"
   ]
  },
  {
   "cell_type": "code",
   "execution_count": 307,
   "metadata": {},
   "outputs": [
    {
     "name": "stdout",
     "output_type": "stream",
     "text": [
      "inner의 a : 20\n",
      "outer의 a : 20\n"
     ]
    }
   ],
   "source": [
    "outer()"
   ]
  },
  {
   "cell_type": "code",
   "execution_count": 308,
   "metadata": {},
   "outputs": [
    {
     "name": "stdout",
     "output_type": "stream",
     "text": [
      "20\n"
     ]
    }
   ],
   "source": [
    "print(a)"
   ]
  },
  {
   "cell_type": "code",
   "execution_count": 309,
   "metadata": {},
   "outputs": [],
   "source": [
    "a = 1000          # global 변수\n",
    "def outer():\n",
    "    \n",
    "    a = 10        # local 변수 = 접근 불가\n",
    "    def inner():\n",
    "        nonlocal a    # 바깥의 a 를 사용하겠다는 뜻\n",
    "        a = 20\n",
    "        print(\"inner의 a :\", a)   ## 20\n",
    "    inner()\n",
    "    print(\"outer의 a :\", a)       ## 10"
   ]
  },
  {
   "cell_type": "code",
   "execution_count": 310,
   "metadata": {},
   "outputs": [
    {
     "name": "stdout",
     "output_type": "stream",
     "text": [
      "inner의 a : 20\n",
      "outer의 a : 20\n"
     ]
    }
   ],
   "source": [
    "outer()"
   ]
  },
  {
   "cell_type": "code",
   "execution_count": 311,
   "metadata": {},
   "outputs": [
    {
     "name": "stdout",
     "output_type": "stream",
     "text": [
      "1000\n"
     ]
    }
   ],
   "source": [
    "print(a)"
   ]
  },
  {
   "cell_type": "markdown",
   "metadata": {},
   "source": [
    "# 클로저"
   ]
  },
  {
   "cell_type": "code",
   "execution_count": 319,
   "metadata": {},
   "outputs": [
    {
     "data": {
      "text/plain": [
       "[108, 103, 102, 110, 115, 107, 101, 109, 100, 111]"
      ]
     },
     "execution_count": 319,
     "metadata": {},
     "output_type": "execute_result"
    }
   ],
   "source": [
    "def f(aa):\n",
    "    return aa + 100\n",
    "\n",
    "list(map(f, alist))"
   ]
  },
  {
   "cell_type": "code",
   "execution_count": 316,
   "metadata": {},
   "outputs": [
    {
     "name": "stdout",
     "output_type": "stream",
     "text": [
      "<function hello at 0x00000233BB947708> <class 'function'>\n",
      "함수입니다.\n"
     ]
    }
   ],
   "source": [
    "def outer(f):\n",
    "    print(f, type(f))\n",
    "    f()         # 함수 호출\n",
    "\n",
    "def hello():\n",
    "    print(\"함수입니다.\")\n",
    "    \n",
    "outer(hello)    # 함수가 파라미터로 전달"
   ]
  },
  {
   "cell_type": "code",
   "execution_count": 324,
   "metadata": {},
   "outputs": [],
   "source": [
    "# 일급함수 : 함수가 파라미터로 전달, 함수가 return 가능\n",
    "\n",
    "# 클로저 : 지역 변수는 함수가 끝나면 제거된다. 그러나 그 지역 변수가 함수를 호출한 영역에서 사용한다면 제거되지 않고 남아있다.\n",
    "\n",
    "def outer():\n",
    "    print('-----outer-----')\n",
    "    a = 10\n",
    "    b = 20\n",
    "    def inner(x):\n",
    "        print('---inner---', a*x+b)\n",
    "        \n",
    "    return inner"
   ]
  },
  {
   "cell_type": "code",
   "execution_count": 325,
   "metadata": {},
   "outputs": [
    {
     "name": "stdout",
     "output_type": "stream",
     "text": [
      "-----outer-----\n",
      "---inner--- 50\n"
     ]
    }
   ],
   "source": [
    "f = outer()\n",
    "f(3)"
   ]
  },
  {
   "cell_type": "code",
   "execution_count": 338,
   "metadata": {},
   "outputs": [],
   "source": [
    "# counter 구현하기 ....... 100, 101, 102, 103, .....\n",
    "# counter 구현하기 ....... 0, 1, 2, 3, .....\n",
    "def outer(x):\n",
    "    base = x\n",
    "    def inner():\n",
    "        nonlocal base    # 바깥의 base 를 사용하겠다는 뜻\n",
    "        base = base + 1 \n",
    "        return base\n",
    "    return inner"
   ]
  },
  {
   "cell_type": "code",
   "execution_count": 339,
   "metadata": {},
   "outputs": [
    {
     "name": "stdout",
     "output_type": "stream",
     "text": [
      "101\n",
      "102\n",
      "103\n",
      "104\n"
     ]
    }
   ],
   "source": [
    "a = outer(100)\n",
    "print(a())\n",
    "print(a())\n",
    "print(a())\n",
    "print(a())"
   ]
  },
  {
   "cell_type": "code",
   "execution_count": 340,
   "metadata": {},
   "outputs": [
    {
     "name": "stdout",
     "output_type": "stream",
     "text": [
      "1\n",
      "2\n",
      "3\n",
      "4\n"
     ]
    }
   ],
   "source": [
    "b = outer(0)\n",
    "print(b())\n",
    "print(b())\n",
    "print(b())\n",
    "print(b())"
   ]
  },
  {
   "cell_type": "code",
   "execution_count": 343,
   "metadata": {},
   "outputs": [
    {
     "name": "stdout",
     "output_type": "stream",
     "text": [
      "1 2 3 4 5 6 7 8 9 10 "
     ]
    }
   ],
   "source": [
    "# 연습 문제 #\n",
    "def counter():\n",
    "    i = 0\n",
    "    def count():\n",
    "        nonlocal i\n",
    "        i += 1\n",
    "        return i\n",
    "    return count\n",
    "    \n",
    "c = counter()\n",
    "for i in range(10):\n",
    "    print(c(), end=' ')"
   ]
  },
  {
   "cell_type": "code",
   "execution_count": 346,
   "metadata": {
    "scrolled": true
   },
   "outputs": [
    {
     "name": "stdout",
     "output_type": "stream",
     "text": [
      "1\n",
      "2\n",
      "3\n",
      "4\n"
     ]
    }
   ],
   "source": [
    "a = counter()\n",
    "print(a())\n",
    "print(a())\n",
    "print(a())\n",
    "print(a())"
   ]
  },
  {
   "cell_type": "markdown",
   "metadata": {},
   "source": [
    "- 함수 ... 내장 함수, 사용자 정의 함수\n",
    "\n",
    "- 재귀함수, 일급함수, 클로저, 익명함수(lambda 표현식을 이용)\n",
    "\n",
    "- 파라미터, 인수, 아규먼트 ..... 고정인수, 가변인수(* , ** : 키워드 org)  "
   ]
  }
 ],
 "metadata": {
  "kernelspec": {
   "display_name": "Python 3",
   "language": "python",
   "name": "python3"
  },
  "language_info": {
   "codemirror_mode": {
    "name": "ipython",
    "version": 3
   },
   "file_extension": ".py",
   "mimetype": "text/x-python",
   "name": "python",
   "nbconvert_exporter": "python",
   "pygments_lexer": "ipython3",
   "version": "3.7.4"
  }
 },
 "nbformat": 4,
 "nbformat_minor": 2
}
