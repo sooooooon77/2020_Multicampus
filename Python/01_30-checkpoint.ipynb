{
 "cells": [
  {
   "cell_type": "markdown",
   "metadata": {},
   "source": [
    "# 클래스와 메서드"
   ]
  },
  {
   "cell_type": "code",
   "execution_count": 18,
   "metadata": {},
   "outputs": [],
   "source": [
    "class person:        # class : object 를 만들기 위한 틀이다.\n",
    "    # 속성, 메서드\n",
    "    \n",
    "    #__init__메서드는 class를 이용해서 object 생성시 자동 호출됩니다.\n",
    "    \n",
    "    def __init__(self, name2, age2):      # 초기화하기\n",
    "        print(\"사람객체가 생성됩니다.\")\n",
    "        self.name = name2\n",
    "        self.age = age2\n",
    "        \n",
    "    def personInfo(self):\n",
    "        print(\"이름은 {}이고 나이는 {}입니다.\".format(self.name, self.age))\n",
    "\n",
    "    def eat(self):\n",
    "        print(\"사람은 먹는다.\")\n",
    "    def greeting(self):\n",
    "        print(\"사람은 인사를 한다.\")\n",
    "    def hello(self):\n",
    "        print(\"hello~~~\")\n",
    "        self.greeting()"
   ]
  },
  {
   "cell_type": "code",
   "execution_count": 23,
   "metadata": {},
   "outputs": [
    {
     "name": "stdout",
     "output_type": "stream",
     "text": [
      "사람객체가 생성됩니다.\n",
      "김길동\n",
      "20\n",
      "이름은 김길동이고 나이는 20입니다.\n"
     ]
    }
   ],
   "source": [
    "kim = person(\"김길동\", 20)   # argument를 두 개 꼭 넣어줘야 한다.\n",
    "\n",
    "print(kim.name)\n",
    "print(kim.age)\n",
    "\n",
    "kim.personInfo()"
   ]
  },
  {
   "cell_type": "code",
   "execution_count": 16,
   "metadata": {},
   "outputs": [],
   "source": [
    "a = int(10)"
   ]
  },
  {
   "cell_type": "code",
   "execution_count": 17,
   "metadata": {},
   "outputs": [
    {
     "name": "stdout",
     "output_type": "stream",
     "text": [
      "hello~~~\n",
      "사람은 인사를 한다.\n"
     ]
    },
    {
     "data": {
      "text/plain": [
       "False"
      ]
     },
     "execution_count": 17,
     "metadata": {},
     "output_type": "execute_result"
    }
   ],
   "source": [
    "kim = person()\n",
    "kim.hello()\n",
    "\n",
    "isinstance(a, person)    # False\n",
    "# isinstance(a, int)     # True"
   ]
  },
  {
   "cell_type": "code",
   "execution_count": 3,
   "metadata": {},
   "outputs": [
    {
     "name": "stdout",
     "output_type": "stream",
     "text": [
      "사람은 먹는다.\n",
      "사람은 먹는다.\n",
      "사람은 인사를 한다.\n",
      "사람은 인사를 한다.\n"
     ]
    }
   ],
   "source": [
    "# person() : instance 생성한다.\n",
    "# kim, lee 는 object 이다.\n",
    "kim = person()\n",
    "lee = person()\n",
    "\n",
    "kim.eat()\n",
    "lee.eat()\n",
    "\n",
    "kim.greeting()\n",
    "lee.greeting()"
   ]
  },
  {
   "cell_type": "code",
   "execution_count": 4,
   "metadata": {},
   "outputs": [
    {
     "name": "stdout",
     "output_type": "stream",
     "text": [
      "<class '__main__.person'>\n"
     ]
    }
   ],
   "source": [
    "print(type(kim))"
   ]
  },
  {
   "cell_type": "code",
   "execution_count": 5,
   "metadata": {},
   "outputs": [
    {
     "name": "stdout",
     "output_type": "stream",
     "text": [
      "<class 'int'>\n"
     ]
    }
   ],
   "source": [
    "a = int(10)\n",
    "print(type(a))"
   ]
  },
  {
   "cell_type": "code",
   "execution_count": 27,
   "metadata": {},
   "outputs": [],
   "source": [
    "# 정의\n",
    "class person:\n",
    "    # 변수(값을 저장), 메서드(기능을 정의)\n",
    "    def __init__(self, name2, age2):      # name2, ag2 는 지역 변수\n",
    "        self.변수 = \"값\"\n",
    "        self.su = 100\n",
    "        self.name = name2\n",
    "        self.age = age2\n",
    "        \n",
    "    def display(aa, deco):\n",
    "        print(\"이름:{}\".format(aa.name))\n",
    "        print(\"나이:{}\".format(aa.age))\n",
    "        print(\"변수:{}\".format(aa.변수))\n",
    "        print(\"su:{}\".format(aa.su))\n",
    "        print(deco*50)"
   ]
  },
  {
   "cell_type": "code",
   "execution_count": 31,
   "metadata": {},
   "outputs": [
    {
     "name": "stdout",
     "output_type": "stream",
     "text": [
      "이름:홍길동\n",
      "나이:20\n",
      "변수:값\n",
      "su:100\n",
      "==================================================\n"
     ]
    },
    {
     "data": {
      "text/plain": [
       "'홍길동'"
      ]
     },
     "execution_count": 31,
     "metadata": {},
     "output_type": "execute_result"
    }
   ],
   "source": [
    "p1 = person(\"홍길동\", 20)\n",
    "p1.display(\"=\")\n",
    "\n",
    "p1.name"
   ]
  },
  {
   "cell_type": "code",
   "execution_count": 32,
   "metadata": {},
   "outputs": [],
   "source": [
    "# 정의\n",
    "class person:\n",
    "    # 변수(값을 저장), 메서드(기능을 정의)\n",
    "    def __init__(self, *args):      # name2, ag2 는 지역 변수\n",
    "        self.변수 = \"값\"\n",
    "        self.su = 100\n",
    "        self.name = args[0]\n",
    "        self.age = args[1]\n",
    "        \n",
    "    def display(aa, deco):\n",
    "c        print(\"이름:{}\".format(aa.name))\n",
    "        print(\"나이:{}\".format(aa.age))\n",
    "        print(\"변수:{}\".format(aa.변수))\n",
    "        print(\"su:{}\".format(aa.su))\n",
    "        print(deco*50)"
   ]
  },
  {
   "cell_type": "code",
   "execution_count": 35,
   "metadata": {
    "scrolled": true
   },
   "outputs": [
    {
     "name": "stdout",
     "output_type": "stream",
     "text": [
      "이름:홍길동\n",
      "나이:20\n",
      "변수:값\n",
      "su:100\n",
      "==================================================\n"
     ]
    }
   ],
   "source": [
    "alist = [\"홍길동\", 20]\n",
    "\n",
    "# p1 = person(alist)     # 파라메터로 하나가 간다 ... arg[1] 에 해당하는 값이 없다  =>  에러\n",
    "p1 = person(*alist)      # alist의 값이 unpacking ... 파라메터가 2개 간다\n",
    "p1.display(\"=\")"
   ]
  },
  {
   "cell_type": "code",
   "execution_count": 44,
   "metadata": {},
   "outputs": [],
   "source": [
    "# 정의\n",
    "class person:\n",
    "    # 변수(값을 저장), 메서드(기능을 정의)\n",
    "    def __init__(self, **kwargs):      # name2, ag2 는 지역 변수\n",
    "        self.변수 = \"값\"\n",
    "        self.su = 100\n",
    "        self.name = kwargs[\"name\"]\n",
    "        self.age = kwargs[\"age\"]\n",
    "        \n",
    "    def display(aa, deco):\n",
    "        print(\"이름:{}\".format(aa.name))\n",
    "        print(\"나이:{}\".format(aa.age))\n",
    "        print(\"변수:{}\".format(aa.변수))\n",
    "        print(\"su:{}\".format(aa.su))\n",
    "        print(deco*50)"
   ]
  },
  {
   "cell_type": "code",
   "execution_count": 45,
   "metadata": {
    "scrolled": false
   },
   "outputs": [
    {
     "name": "stdout",
     "output_type": "stream",
     "text": [
      "이름:홍길동\n",
      "나이:30\n",
      "변수:값\n",
      "su:100\n",
      "==================================================\n"
     ]
    }
   ],
   "source": [
    "#p1 = person(name = \"홍길동\", age = 30) \n",
    "\n",
    "a = {\"name\":\"홍길동\", \"age\":30}\n",
    "p1 = person(**a) \n",
    "p1.display(\"=\")"
   ]
  },
  {
   "cell_type": "code",
   "execution_count": 46,
   "metadata": {},
   "outputs": [
    {
     "data": {
      "text/plain": [
       "'홍길동'"
      ]
     },
     "execution_count": 46,
     "metadata": {},
     "output_type": "execute_result"
    }
   ],
   "source": [
    "p1.name     ## 정보가 뜬다."
   ]
  },
  {
   "cell_type": "code",
   "execution_count": 47,
   "metadata": {},
   "outputs": [],
   "source": [
    "# 정의\n",
    "class person:\n",
    "    # 변수(값을 저장), 메서드(기능을 정의)\n",
    "    \n",
    "    # 정보 은닉을 위해 변수 이름 앞에 __를 붙인다.  ★★★★★★★★★★★★\n",
    "    \n",
    "    def __init__(self, **kwargs):      # name2, ag2 는 지역 변수\n",
    "        self.변수 = \"값\"\n",
    "        self.su = 100\n",
    "        self.__name = kwargs[\"name\"]\n",
    "        self.__age = kwargs[\"age\"]\n",
    "        \n",
    "    def __info(self):\n",
    "        print(\"person 정보입니다.\")\n",
    "        \n",
    "    def display(aa, deco):\n",
    "        aa.__info()\n",
    "        print(\"이름:{}\".format(aa.__name))\n",
    "        print(\"나이:{}\".format(aa.__age))\n",
    "        print(\"변수:{}\".format(aa.변수))\n",
    "        print(\"su:{}\".format(aa.su))\n",
    "        print(deco*50)"
   ]
  },
  {
   "cell_type": "code",
   "execution_count": 48,
   "metadata": {
    "scrolled": true
   },
   "outputs": [
    {
     "name": "stdout",
     "output_type": "stream",
     "text": [
      "person 정보입니다.\n",
      "이름:홍길동\n",
      "나이:30\n",
      "변수:값\n",
      "su:100\n",
      "==================================================\n"
     ]
    }
   ],
   "source": [
    "#p1 = person(name = \"홍길동\", age = 30) \n",
    "\n",
    "a = {\"name\":\"홍길동\", \"age\":30}\n",
    "p1 = person(**a) \n",
    "p1.display(\"=\")"
   ]
  },
  {
   "cell_type": "code",
   "execution_count": 43,
   "metadata": {},
   "outputs": [
    {
     "ename": "AttributeError",
     "evalue": "'person' object has no attribute '__name'",
     "output_type": "error",
     "traceback": [
      "\u001b[1;31m---------------------------------------------------------------------------\u001b[0m",
      "\u001b[1;31mAttributeError\u001b[0m                            Traceback (most recent call last)",
      "\u001b[1;32m<ipython-input-43-b357a526aec6>\u001b[0m in \u001b[0;36m<module>\u001b[1;34m\u001b[0m\n\u001b[1;32m----> 1\u001b[1;33m \u001b[0mp1\u001b[0m\u001b[1;33m.\u001b[0m\u001b[0m__name\u001b[0m\u001b[1;33m\u001b[0m\u001b[1;33m\u001b[0m\u001b[0m\n\u001b[0m",
      "\u001b[1;31mAttributeError\u001b[0m: 'person' object has no attribute '__name'"
     ]
    }
   ],
   "source": [
    "p1.__name      ## 정보 은닉 -> 접근 불가"
   ]
  },
  {
   "cell_type": "code",
   "execution_count": 49,
   "metadata": {
    "scrolled": true
   },
   "outputs": [
    {
     "ename": "AttributeError",
     "evalue": "'person' object has no attribute '__info'",
     "output_type": "error",
     "traceback": [
      "\u001b[1;31m---------------------------------------------------------------------------\u001b[0m",
      "\u001b[1;31mAttributeError\u001b[0m                            Traceback (most recent call last)",
      "\u001b[1;32m<ipython-input-49-4c4dffd264a6>\u001b[0m in \u001b[0;36m<module>\u001b[1;34m\u001b[0m\n\u001b[1;32m----> 1\u001b[1;33m \u001b[0mp1\u001b[0m\u001b[1;33m.\u001b[0m\u001b[0m__info\u001b[0m\u001b[1;33m(\u001b[0m\u001b[1;33m)\u001b[0m\u001b[1;33m\u001b[0m\u001b[1;33m\u001b[0m\u001b[0m\n\u001b[0m",
      "\u001b[1;31mAttributeError\u001b[0m: 'person' object has no attribute '__info'"
     ]
    }
   ],
   "source": [
    "p1.__info()     ## 정보 은닉 -> 접근 불가"
   ]
  },
  {
   "cell_type": "code",
   "execution_count": 66,
   "metadata": {},
   "outputs": [],
   "source": [
    "class person:\n",
    "    \n",
    "    # 공유 변수 ... 객체에 없으면 이것을 사용\n",
    "    # 독립 변수 (??? person 안의 모든 instance가 사용가능한 변수 ???)\n",
    "    \n",
    "    address = \"seoul\"  \n",
    "    bag = []\n",
    "    \n",
    "    def __init__(self, name, age):\n",
    "        self.name = name\n",
    "        self.age = age\n",
    "        \n",
    "    def putbag(self, goods):\n",
    "        self.bag.append(goods)     "
   ]
  },
  {
   "cell_type": "code",
   "execution_count": 72,
   "metadata": {},
   "outputs": [
    {
     "name": "stdout",
     "output_type": "stream",
     "text": [
      "seoul seoul\n",
      "inchun seoul\n"
     ]
    },
    {
     "data": {
      "text/plain": [
       "'seoul'"
      ]
     },
     "execution_count": 72,
     "metadata": {},
     "output_type": "execute_result"
    }
   ],
   "source": [
    "p1 = person(\"aa\", 11)\n",
    "p1 = person(\"bb\", 12)\n",
    "\n",
    "print(p1.address, p2.address)\n",
    "\n",
    "p1.address = \"inchun\"\n",
    "print(p1.address, p2.address)\n",
    "\n",
    "p2.address"
   ]
  },
  {
   "cell_type": "code",
   "execution_count": 67,
   "metadata": {},
   "outputs": [
    {
     "data": {
      "text/plain": [
       "('홍', '김', 'busan', 'inchun')"
      ]
     },
     "execution_count": 67,
     "metadata": {},
     "output_type": "execute_result"
    }
   ],
   "source": [
    "p1 = person(\"홍\", 10)\n",
    "p1.address = \"busan\"\n",
    "\n",
    "p2 = person(\"김\", 20)\n",
    "p2.address = \"inchun\"\n",
    "\n",
    "p1.name, p2.name, p1.address, p2.address"
   ]
  },
  {
   "cell_type": "code",
   "execution_count": 68,
   "metadata": {},
   "outputs": [
    {
     "name": "stdout",
     "output_type": "stream",
     "text": [
      "['마우스']\n",
      "['마우스']\n"
     ]
    }
   ],
   "source": [
    "p1 = person(\"홍\", 10)\n",
    "p2 = person(\"김\", 20)\n",
    "p1.putbag(\"마우스\")\n",
    "\n",
    "print(p1.bag)\n",
    "print(p2.bag)"
   ]
  },
  {
   "cell_type": "code",
   "execution_count": 69,
   "metadata": {},
   "outputs": [
    {
     "data": {
      "text/plain": [
       "['마우스']"
      ]
     },
     "execution_count": 69,
     "metadata": {},
     "output_type": "execute_result"
    }
   ],
   "source": [
    "p3 = person(\"aa\", 11)\n",
    "p3.bag"
   ]
  },
  {
   "cell_type": "code",
   "execution_count": 70,
   "metadata": {},
   "outputs": [
    {
     "data": {
      "text/plain": [
       "'seoul'"
      ]
     },
     "execution_count": 70,
     "metadata": {},
     "output_type": "execute_result"
    }
   ],
   "source": [
    "# del p1\n",
    "# del p2\n",
    "\n",
    "p1.address"
   ]
  },
  {
   "cell_type": "code",
   "execution_count": 71,
   "metadata": {},
   "outputs": [
    {
     "data": {
      "text/plain": [
       "{'__name__': '__main__',\n",
       " '__doc__': 'Automatically created module for IPython interactive environment',\n",
       " '__package__': None,\n",
       " '__loader__': None,\n",
       " '__spec__': None,\n",
       " '__builtin__': <module 'builtins' (built-in)>,\n",
       " '__builtins__': <module 'builtins' (built-in)>,\n",
       " '_ih': ['',\n",
       "  'class person:\\n    # 속성, 메서드\\n    def eat(aa):\\n        print(\"사람은 먹는다.\")\\n    def greeting(bb):\\n        print(\"사람은 인사를 한다.\")',\n",
       "  '# person() : instance 생성한다.\\n# kim, lee 는 object 이다.\\nkim = person()\\nlee = person()\\n\\nkim.eat()\\nlee.eat()',\n",
       "  '# person() : instance 생성한다.\\n# kim, lee 는 object 이다.\\nkim = person()\\nlee = person()\\n\\nkim.eat()\\nlee.eat()\\n\\nkim.greeting()\\nlee.greeting()',\n",
       "  'print(type(kim))',\n",
       "  'a = int(10)\\nprint(type(a))',\n",
       "  'kim = person()\\nkim.hello()',\n",
       "  'class person:\\n    # 속성, 메서드\\n    def eat(aa):\\n        print(\"사람은 먹는다.\")\\n    def greeting(bb):\\n        print(\"사람은 인사를 한다.\")\\n    def hello(aa):\\n        print(\"hello~~~\")',\n",
       "  'kim = person()\\nkim.hello()    ',\n",
       "  'class person:\\n    # 속성, 메서드\\n    def eat(aa):\\n        print(\"사람은 먹는다.\")\\n    def greeting(bb):\\n        print(\"사람은 인사를 한다.\")\\n    def hello(aa):\\n        print(\"hello~~~\")\\n        aa.greeting()',\n",
       "  'kim = person()\\nkim.hello()    ',\n",
       "  'class person:\\n    # 속성, 메서드\\n    def eat(self):\\n        print(\"사람은 먹는다.\")\\n    def greeting(self):\\n        print(\"사람은 인사를 한다.\")\\n    def hello(self):\\n        print(\"hello~~~\")\\n        self.greeting()',\n",
       "  'kim = person()\\nkim.hello()    ',\n",
       "  'kim = person()\\nkim.hello()\\n\\nisinstance(a, person)',\n",
       "  'kim = person()\\nkim.hello()\\n\\nisinstance(a, person)\\nisinstance(a, int)',\n",
       "  'kim = person()\\nkim.hello()\\n\\nisinstance(a, person)\\n# isinstance(a, int)',\n",
       "  'a = int(10)',\n",
       "  'kim = person()\\nkim.hello()\\n\\nisinstance(a, person)\\n# isinstance(a, int)',\n",
       "  'class person:\\n    # 속성, 메서드\\n    \\n    #__init__메서드는 class를 이용해서 object 생성시 자동 호출됩니다.\\n    \\n    def __init__(self, name2, age2):\\n        print(\"사람객체가 생성됩니다.\")\\n        self.name = name2\\n        self.age = age2\\n        \\n    def personInfo(self):\\n        print(\"이름은 {}이고 나이는 {}입니다.\".format(self.name, self.age))\\n\\n    def eat(self):\\n        print(\"사람은 먹는다.\")\\n    def greeting(self):\\n        print(\"사람은 인사를 한다.\")\\n    def hello(self):\\n        print(\"hello~~~\")\\n        self.greeting()',\n",
       "  'kim = person()',\n",
       "  'kim = person(\"김길동\", 20)',\n",
       "  'kim = person(\"김길동\", 20)   # argument를 두 개 꼭 넣어줘야 한다.\\n\\nprint(kim.name)',\n",
       "  'kim = person(\"김길동\", 20)   # argument를 두 개 꼭 넣어줘야 한다.\\n\\nprint(kim.name)\\nprint(kim.age)',\n",
       "  'kim = person(\"김길동\", 20)   # argument를 두 개 꼭 넣어줘야 한다.\\n\\nprint(kim.name)\\nprint(kim.age)\\n\\nkim.personInfo()',\n",
       "  '# 정의\\nclass person:\\n    # 변수(값을 저장), 메서드(기능을 정의)\\n    def __init__(self, name2, age2):      # name2, ag2 는 지역 변수\\n        self.변수 = \"값\"\\n        self.su = 100\\n        self.name = name2\\n        self.age = age2\\n        \\n    def display(aa):\\n        print(\"이름:{}\".format(aa.name))\\n        print(\"나이:{}\".format(aa.age))\\n        print(\"변수:{}\".format(aa.변수))\\n        print(\"su:{}\".format(aa.su))\\n        print(\"-\"*50)',\n",
       "  'p1 = person(\"홍길동\", 20)\\np1.display()',\n",
       "  'p1 = person(\"홍길동\", 20)\\np1.display(\"*\")',\n",
       "  '# 정의\\nclass person:\\n    # 변수(값을 저장), 메서드(기능을 정의)\\n    def __init__(self, name2, age2):      # name2, ag2 는 지역 변수\\n        self.변수 = \"값\"\\n        self.su = 100\\n        self.name = name2\\n        self.age = age2\\n        \\n    def display(aa, deco):\\n        print(\"이름:{}\".format(aa.name))\\n        print(\"나이:{}\".format(aa.age))\\n        print(\"변수:{}\".format(aa.변수))\\n        print(\"su:{}\".format(aa.su))\\n        print(deco*50)',\n",
       "  'p1 = person(\"홍길동\", 20)\\np1.display(\"*\")',\n",
       "  'p1 = person(\"홍길동\", 20)\\np1.display(\"^\")',\n",
       "  'p1 = person(\"홍길동\", 20)\\np1.display(\"^\")\\n\\np1.name',\n",
       "  'p1 = person(\"홍길동\", 20)\\np1.display(\"=\")\\n\\np1.name',\n",
       "  '# 정의\\nclass person:\\n    # 변수(값을 저장), 메서드(기능을 정의)\\n    def __init__(self, *args):      # name2, ag2 는 지역 변수\\n        self.변수 = \"값\"\\n        self.su = 100\\n        self.name = args[0]\\n        self.age = args[1]\\n        \\n    def display(aa, deco):\\n        print(\"이름:{}\".format(aa.name))\\n        print(\"나이:{}\".format(aa.age))\\n        print(\"변수:{}\".format(aa.변수))\\n        print(\"su:{}\".format(aa.su))\\n        print(deco*50)',\n",
       "  'p1 = person(\"홍길동\", 20)\\np1.display(\"*\")',\n",
       "  'alist = [\"홍길동\", 20]\\n# p1 = person(\"홍길동\", 20)\\np1 = person(*alist)\\np1.display(\"+\")',\n",
       "  'alist = [\"홍길동\", 20]\\n\\n# p1 = person(alist)     # 파라메터로 하나가 간다 ... arg[1] 에 해당하는 값이 없다  =>  에러\\np1 = person(*alist)      # alist의 값이 unpacking ... 파라메터가 2개 간다\\np1.display(\"=\")',\n",
       "  'p1 = person(name = \"홍길동\", age = 30) \\np1 = person()      # alist의 값이 unpacking ... 파라메터가 2개 간다\\np1.display(\"=\")',\n",
       "  'p1 = person(name = \"홍길동\", age = 30) \\n#p1 = person()      # alist의 값이 unpacking ... 파라메터가 2개 간다\\np1.display(\"=\")',\n",
       "  '#p1 = person(name = \"홍길동\", age = 30) \\n\\na = {\"name\":\"홍길동\", \"age\":30}\\np1 = person(**a) \\np1.display(\"=\")',\n",
       "  '# 정의\\nclass person:\\n    # 변수(값을 저장), 메서드(기능을 정의)\\n    def __init__(self, **kwargs):      # name2, ag2 는 지역 변수\\n        self.변수 = \"값\"\\n        self.su = 100\\n        self.name = kwargs[\"name\"]\\n        self.age = kwargs[\"age\"]\\n        \\n    def display(aa, deco):\\n        print(\"이름:{}\".format(aa.name))\\n        print(\"나이:{}\".format(aa.age))\\n        print(\"변수:{}\".format(aa.변수))\\n        print(\"su:{}\".format(aa.su))\\n        print(deco*50)',\n",
       "  '#p1 = person(name = \"홍길동\", age = 30) \\n\\na = {\"name\":\"홍길동\", \"age\":30}\\np1 = person(**a) \\np1.display(\"=\")',\n",
       "  '# 정의\\nclass person:\\n    # 변수(값을 저장), 메서드(기능을 정의)\\n    def __init__(self, **kwargs):      # name2, ag2 는 지역 변수\\n        self.변수 = \"값\"\\n        self.su = 100\\n        self.__name = kwargs[\"name\"]\\n        self.__age = kwargs[\"age\"]\\n        \\n    def display(aa, deco):\\n        print(\"이름:{}\".format(aa.__name))\\n        print(\"나이:{}\".format(aa.__age))\\n        print(\"변수:{}\".format(aa.변수))\\n        print(\"su:{}\".format(aa.su))\\n        print(deco*50)',\n",
       "  '#p1 = person(name = \"홍길동\", age = 30) \\n\\na = {\"name\":\"홍길동\", \"age\":30}\\np1 = person(**a) \\np1.display(\"=\")',\n",
       "  'p1.__name',\n",
       "  '# 정의\\nclass person:\\n    # 변수(값을 저장), 메서드(기능을 정의)\\n    def __init__(self, **kwargs):      # name2, ag2 는 지역 변수\\n        self.변수 = \"값\"\\n        self.su = 100\\n        self.name = kwargs[\"name\"]\\n        self.age = kwargs[\"age\"]\\n        \\n    def display(aa, deco):\\n        print(\"이름:{}\".format(aa.name))\\n        print(\"나이:{}\".format(aa.age))\\n        print(\"변수:{}\".format(aa.변수))\\n        print(\"su:{}\".format(aa.su))\\n        print(deco*50)',\n",
       "  '#p1 = person(name = \"홍길동\", age = 30) \\n\\na = {\"name\":\"홍길동\", \"age\":30}\\np1 = person(**a) \\np1.display(\"=\")',\n",
       "  'p1.name',\n",
       "  '# 정의\\nclass person:\\n    # 변수(값을 저장), 메서드(기능을 정의)\\n    \\n    # 정보 은닉을 위해 변수 이름 앞에 __를 붙인다.\\n    \\n    def __init__(self, **kwargs):      # name2, ag2 는 지역 변수\\n        self.변수 = \"값\"\\n        self.su = 100\\n        self.__name = kwargs[\"name\"]\\n        self.__age = kwargs[\"age\"]\\n        \\n    def __info(self):\\n        print(\"person 정보입니다.\")\\n        \\n    def display(aa, deco):\\n        aa.__info()\\n        print(\"이름:{}\".format(aa.__name))\\n        print(\"나이:{}\".format(aa.__age))\\n        print(\"변수:{}\".format(aa.변수))\\n        print(\"su:{}\".format(aa.su))\\n        print(deco*50)',\n",
       "  '#p1 = person(name = \"홍길동\", age = 30) \\n\\na = {\"name\":\"홍길동\", \"age\":30}\\np1 = person(**a) \\np1.display(\"=\")',\n",
       "  'p1.__info()',\n",
       "  'class person:\\n    \\n    # 공유 변수 (person 안의 모든 instance가 사용가능한 변수)\\n    address = \"seoul\"  \\n    \\n    def __init__(self, name, age):\\n        self.name = name\\n        self.age = age\\n        ',\n",
       "  'p1 = person(\"홍\", 10)\\np2 = person(\"김\", 20)\\n\\np1.name, p2.name, p1.address, p2.address',\n",
       "  'p1 = person(\"홍\", 10)\\np1.address = \"busan\"\\n\\np2 = person(\"김\", 20)\\np2.address = \"inchun\"\\n\\np1.name, p2.name, p1.address, p2.address',\n",
       "  'class person:\\n    \\n    # 독립 변수 (??? person 안의 모든 instance가 사용가능한 변수 ???)\\n    address = \"seoul\"  \\n    bag = []\\n    \\n    def __init__(self, name, age):\\n        self.name = name\\n        self.age = age\\n        \\n    def putbag(self, goods):\\n        self.bag.append(goods\\n                       )\\n        ',\n",
       "  'p1 = person(\"홍\", 10)\\np1.address = \"busan\"\\n\\np2 = person(\"김\", 20)\\np2.address = \"inchun\"\\n\\np1.name, p2.name, p1.address, p2.address',\n",
       "  'p1 = person(\"홍\", 10)\\np2 = person(\"김\", 20)\\np1.putbag(\"마우스\")\\n\\np1.bag\\np2.bag',\n",
       "  'p1 = person(\"홍\", 10)\\np2 = person(\"김\", 20)\\np1.putbag(\"마우스\")\\n\\np1.bag\\np2.bag',\n",
       "  'p1 = person(\"홍\", 10)\\np2 = person(\"김\", 20)\\np1.putbag(\"마우스\")\\n\\np1.bag\\np2.bag',\n",
       "  'del p1\\n#del p2',\n",
       "  'del p1\\ndel p2',\n",
       "  '#del p1\\ndel p2',\n",
       "  'p1 = person(\"홍\", 10)\\np2 = person(\"김\", 20)\\np1.putbag(\"마우스\")\\n\\np1.bag\\np2.bag',\n",
       "  '# del p1\\n# del p2\\n\\np1.address',\n",
       "  'globals()',\n",
       "  'p1 = person(\"홍\", 10)\\np2 = person(\"김\", 20)\\np1.putbag(\"마우스\")\\n\\np1.bag\\np2.bag',\n",
       "  'p3 = person(\"aa\", 11)\\np3.bag',\n",
       "  'class person:\\n    \\n    # 독립 변수 (??? person 안의 모든 instance가 사용가능한 변수 ???)\\n    address = \"seoul\"  \\n    bag = []\\n    \\n    def __init__(self, name, age):\\n        self.name = name\\n        self.age = age\\n        \\n    def putbag(self, goods):\\n        self.bag.append(goods)     ',\n",
       "  'p1 = person(\"홍\", 10)\\np1.address = \"busan\"\\n\\np2 = person(\"김\", 20)\\np2.address = \"inchun\"\\n\\np1.name, p2.name, p1.address, p2.address',\n",
       "  'p1 = person(\"홍\", 10)\\np2 = person(\"김\", 20)\\np1.putbag(\"마우스\")\\n\\nprint(p1.bag)\\nprint(p2.bag)',\n",
       "  'p3 = person(\"aa\", 11)\\np3.bag',\n",
       "  '# del p1\\n# del p2\\n\\np1.address',\n",
       "  'globals()'],\n",
       " '_oh': {13: False,\n",
       "  14: True,\n",
       "  15: False,\n",
       "  17: False,\n",
       "  30: '홍길동',\n",
       "  31: '홍길동',\n",
       "  46: '홍길동',\n",
       "  51: ('홍', '김', 'seoul', 'seoul'),\n",
       "  52: ('홍', '김', 'busan', 'inchun'),\n",
       "  54: ('홍', '김', 'busan', 'inchun'),\n",
       "  55: ['마우스', '마우스', '마우스', '마우스', '마우스'],\n",
       "  56: ['마우스', '마우스', '마우스', '마우스', '마우스'],\n",
       "  57: ['마우스', '마우스', '마우스', '마우스', '마우스'],\n",
       "  61: ['마우스', '마우스', '마우스', '마우스', '마우스'],\n",
       "  62: 'seoul',\n",
       "  63: {...},\n",
       "  64: ['마우스', '마우스', '마우스', '마우스', '마우스'],\n",
       "  65: ['마우스', '마우스', '마우스', '마우스', '마우스'],\n",
       "  67: ('홍', '김', 'busan', 'inchun'),\n",
       "  69: ['마우스'],\n",
       "  70: 'seoul'},\n",
       " '_dh': ['c:\\\\dev_python'],\n",
       " 'In': ['',\n",
       "  'class person:\\n    # 속성, 메서드\\n    def eat(aa):\\n        print(\"사람은 먹는다.\")\\n    def greeting(bb):\\n        print(\"사람은 인사를 한다.\")',\n",
       "  '# person() : instance 생성한다.\\n# kim, lee 는 object 이다.\\nkim = person()\\nlee = person()\\n\\nkim.eat()\\nlee.eat()',\n",
       "  '# person() : instance 생성한다.\\n# kim, lee 는 object 이다.\\nkim = person()\\nlee = person()\\n\\nkim.eat()\\nlee.eat()\\n\\nkim.greeting()\\nlee.greeting()',\n",
       "  'print(type(kim))',\n",
       "  'a = int(10)\\nprint(type(a))',\n",
       "  'kim = person()\\nkim.hello()',\n",
       "  'class person:\\n    # 속성, 메서드\\n    def eat(aa):\\n        print(\"사람은 먹는다.\")\\n    def greeting(bb):\\n        print(\"사람은 인사를 한다.\")\\n    def hello(aa):\\n        print(\"hello~~~\")',\n",
       "  'kim = person()\\nkim.hello()    ',\n",
       "  'class person:\\n    # 속성, 메서드\\n    def eat(aa):\\n        print(\"사람은 먹는다.\")\\n    def greeting(bb):\\n        print(\"사람은 인사를 한다.\")\\n    def hello(aa):\\n        print(\"hello~~~\")\\n        aa.greeting()',\n",
       "  'kim = person()\\nkim.hello()    ',\n",
       "  'class person:\\n    # 속성, 메서드\\n    def eat(self):\\n        print(\"사람은 먹는다.\")\\n    def greeting(self):\\n        print(\"사람은 인사를 한다.\")\\n    def hello(self):\\n        print(\"hello~~~\")\\n        self.greeting()',\n",
       "  'kim = person()\\nkim.hello()    ',\n",
       "  'kim = person()\\nkim.hello()\\n\\nisinstance(a, person)',\n",
       "  'kim = person()\\nkim.hello()\\n\\nisinstance(a, person)\\nisinstance(a, int)',\n",
       "  'kim = person()\\nkim.hello()\\n\\nisinstance(a, person)\\n# isinstance(a, int)',\n",
       "  'a = int(10)',\n",
       "  'kim = person()\\nkim.hello()\\n\\nisinstance(a, person)\\n# isinstance(a, int)',\n",
       "  'class person:\\n    # 속성, 메서드\\n    \\n    #__init__메서드는 class를 이용해서 object 생성시 자동 호출됩니다.\\n    \\n    def __init__(self, name2, age2):\\n        print(\"사람객체가 생성됩니다.\")\\n        self.name = name2\\n        self.age = age2\\n        \\n    def personInfo(self):\\n        print(\"이름은 {}이고 나이는 {}입니다.\".format(self.name, self.age))\\n\\n    def eat(self):\\n        print(\"사람은 먹는다.\")\\n    def greeting(self):\\n        print(\"사람은 인사를 한다.\")\\n    def hello(self):\\n        print(\"hello~~~\")\\n        self.greeting()',\n",
       "  'kim = person()',\n",
       "  'kim = person(\"김길동\", 20)',\n",
       "  'kim = person(\"김길동\", 20)   # argument를 두 개 꼭 넣어줘야 한다.\\n\\nprint(kim.name)',\n",
       "  'kim = person(\"김길동\", 20)   # argument를 두 개 꼭 넣어줘야 한다.\\n\\nprint(kim.name)\\nprint(kim.age)',\n",
       "  'kim = person(\"김길동\", 20)   # argument를 두 개 꼭 넣어줘야 한다.\\n\\nprint(kim.name)\\nprint(kim.age)\\n\\nkim.personInfo()',\n",
       "  '# 정의\\nclass person:\\n    # 변수(값을 저장), 메서드(기능을 정의)\\n    def __init__(self, name2, age2):      # name2, ag2 는 지역 변수\\n        self.변수 = \"값\"\\n        self.su = 100\\n        self.name = name2\\n        self.age = age2\\n        \\n    def display(aa):\\n        print(\"이름:{}\".format(aa.name))\\n        print(\"나이:{}\".format(aa.age))\\n        print(\"변수:{}\".format(aa.변수))\\n        print(\"su:{}\".format(aa.su))\\n        print(\"-\"*50)',\n",
       "  'p1 = person(\"홍길동\", 20)\\np1.display()',\n",
       "  'p1 = person(\"홍길동\", 20)\\np1.display(\"*\")',\n",
       "  '# 정의\\nclass person:\\n    # 변수(값을 저장), 메서드(기능을 정의)\\n    def __init__(self, name2, age2):      # name2, ag2 는 지역 변수\\n        self.변수 = \"값\"\\n        self.su = 100\\n        self.name = name2\\n        self.age = age2\\n        \\n    def display(aa, deco):\\n        print(\"이름:{}\".format(aa.name))\\n        print(\"나이:{}\".format(aa.age))\\n        print(\"변수:{}\".format(aa.변수))\\n        print(\"su:{}\".format(aa.su))\\n        print(deco*50)',\n",
       "  'p1 = person(\"홍길동\", 20)\\np1.display(\"*\")',\n",
       "  'p1 = person(\"홍길동\", 20)\\np1.display(\"^\")',\n",
       "  'p1 = person(\"홍길동\", 20)\\np1.display(\"^\")\\n\\np1.name',\n",
       "  'p1 = person(\"홍길동\", 20)\\np1.display(\"=\")\\n\\np1.name',\n",
       "  '# 정의\\nclass person:\\n    # 변수(값을 저장), 메서드(기능을 정의)\\n    def __init__(self, *args):      # name2, ag2 는 지역 변수\\n        self.변수 = \"값\"\\n        self.su = 100\\n        self.name = args[0]\\n        self.age = args[1]\\n        \\n    def display(aa, deco):\\n        print(\"이름:{}\".format(aa.name))\\n        print(\"나이:{}\".format(aa.age))\\n        print(\"변수:{}\".format(aa.변수))\\n        print(\"su:{}\".format(aa.su))\\n        print(deco*50)',\n",
       "  'p1 = person(\"홍길동\", 20)\\np1.display(\"*\")',\n",
       "  'alist = [\"홍길동\", 20]\\n# p1 = person(\"홍길동\", 20)\\np1 = person(*alist)\\np1.display(\"+\")',\n",
       "  'alist = [\"홍길동\", 20]\\n\\n# p1 = person(alist)     # 파라메터로 하나가 간다 ... arg[1] 에 해당하는 값이 없다  =>  에러\\np1 = person(*alist)      # alist의 값이 unpacking ... 파라메터가 2개 간다\\np1.display(\"=\")',\n",
       "  'p1 = person(name = \"홍길동\", age = 30) \\np1 = person()      # alist의 값이 unpacking ... 파라메터가 2개 간다\\np1.display(\"=\")',\n",
       "  'p1 = person(name = \"홍길동\", age = 30) \\n#p1 = person()      # alist의 값이 unpacking ... 파라메터가 2개 간다\\np1.display(\"=\")',\n",
       "  '#p1 = person(name = \"홍길동\", age = 30) \\n\\na = {\"name\":\"홍길동\", \"age\":30}\\np1 = person(**a) \\np1.display(\"=\")',\n",
       "  '# 정의\\nclass person:\\n    # 변수(값을 저장), 메서드(기능을 정의)\\n    def __init__(self, **kwargs):      # name2, ag2 는 지역 변수\\n        self.변수 = \"값\"\\n        self.su = 100\\n        self.name = kwargs[\"name\"]\\n        self.age = kwargs[\"age\"]\\n        \\n    def display(aa, deco):\\n        print(\"이름:{}\".format(aa.name))\\n        print(\"나이:{}\".format(aa.age))\\n        print(\"변수:{}\".format(aa.변수))\\n        print(\"su:{}\".format(aa.su))\\n        print(deco*50)',\n",
       "  '#p1 = person(name = \"홍길동\", age = 30) \\n\\na = {\"name\":\"홍길동\", \"age\":30}\\np1 = person(**a) \\np1.display(\"=\")',\n",
       "  '# 정의\\nclass person:\\n    # 변수(값을 저장), 메서드(기능을 정의)\\n    def __init__(self, **kwargs):      # name2, ag2 는 지역 변수\\n        self.변수 = \"값\"\\n        self.su = 100\\n        self.__name = kwargs[\"name\"]\\n        self.__age = kwargs[\"age\"]\\n        \\n    def display(aa, deco):\\n        print(\"이름:{}\".format(aa.__name))\\n        print(\"나이:{}\".format(aa.__age))\\n        print(\"변수:{}\".format(aa.변수))\\n        print(\"su:{}\".format(aa.su))\\n        print(deco*50)',\n",
       "  '#p1 = person(name = \"홍길동\", age = 30) \\n\\na = {\"name\":\"홍길동\", \"age\":30}\\np1 = person(**a) \\np1.display(\"=\")',\n",
       "  'p1.__name',\n",
       "  '# 정의\\nclass person:\\n    # 변수(값을 저장), 메서드(기능을 정의)\\n    def __init__(self, **kwargs):      # name2, ag2 는 지역 변수\\n        self.변수 = \"값\"\\n        self.su = 100\\n        self.name = kwargs[\"name\"]\\n        self.age = kwargs[\"age\"]\\n        \\n    def display(aa, deco):\\n        print(\"이름:{}\".format(aa.name))\\n        print(\"나이:{}\".format(aa.age))\\n        print(\"변수:{}\".format(aa.변수))\\n        print(\"su:{}\".format(aa.su))\\n        print(deco*50)',\n",
       "  '#p1 = person(name = \"홍길동\", age = 30) \\n\\na = {\"name\":\"홍길동\", \"age\":30}\\np1 = person(**a) \\np1.display(\"=\")',\n",
       "  'p1.name',\n",
       "  '# 정의\\nclass person:\\n    # 변수(값을 저장), 메서드(기능을 정의)\\n    \\n    # 정보 은닉을 위해 변수 이름 앞에 __를 붙인다.\\n    \\n    def __init__(self, **kwargs):      # name2, ag2 는 지역 변수\\n        self.변수 = \"값\"\\n        self.su = 100\\n        self.__name = kwargs[\"name\"]\\n        self.__age = kwargs[\"age\"]\\n        \\n    def __info(self):\\n        print(\"person 정보입니다.\")\\n        \\n    def display(aa, deco):\\n        aa.__info()\\n        print(\"이름:{}\".format(aa.__name))\\n        print(\"나이:{}\".format(aa.__age))\\n        print(\"변수:{}\".format(aa.변수))\\n        print(\"su:{}\".format(aa.su))\\n        print(deco*50)',\n",
       "  '#p1 = person(name = \"홍길동\", age = 30) \\n\\na = {\"name\":\"홍길동\", \"age\":30}\\np1 = person(**a) \\np1.display(\"=\")',\n",
       "  'p1.__info()',\n",
       "  'class person:\\n    \\n    # 공유 변수 (person 안의 모든 instance가 사용가능한 변수)\\n    address = \"seoul\"  \\n    \\n    def __init__(self, name, age):\\n        self.name = name\\n        self.age = age\\n        ',\n",
       "  'p1 = person(\"홍\", 10)\\np2 = person(\"김\", 20)\\n\\np1.name, p2.name, p1.address, p2.address',\n",
       "  'p1 = person(\"홍\", 10)\\np1.address = \"busan\"\\n\\np2 = person(\"김\", 20)\\np2.address = \"inchun\"\\n\\np1.name, p2.name, p1.address, p2.address',\n",
       "  'class person:\\n    \\n    # 독립 변수 (??? person 안의 모든 instance가 사용가능한 변수 ???)\\n    address = \"seoul\"  \\n    bag = []\\n    \\n    def __init__(self, name, age):\\n        self.name = name\\n        self.age = age\\n        \\n    def putbag(self, goods):\\n        self.bag.append(goods\\n                       )\\n        ',\n",
       "  'p1 = person(\"홍\", 10)\\np1.address = \"busan\"\\n\\np2 = person(\"김\", 20)\\np2.address = \"inchun\"\\n\\np1.name, p2.name, p1.address, p2.address',\n",
       "  'p1 = person(\"홍\", 10)\\np2 = person(\"김\", 20)\\np1.putbag(\"마우스\")\\n\\np1.bag\\np2.bag',\n",
       "  'p1 = person(\"홍\", 10)\\np2 = person(\"김\", 20)\\np1.putbag(\"마우스\")\\n\\np1.bag\\np2.bag',\n",
       "  'p1 = person(\"홍\", 10)\\np2 = person(\"김\", 20)\\np1.putbag(\"마우스\")\\n\\np1.bag\\np2.bag',\n",
       "  'del p1\\n#del p2',\n",
       "  'del p1\\ndel p2',\n",
       "  '#del p1\\ndel p2',\n",
       "  'p1 = person(\"홍\", 10)\\np2 = person(\"김\", 20)\\np1.putbag(\"마우스\")\\n\\np1.bag\\np2.bag',\n",
       "  '# del p1\\n# del p2\\n\\np1.address',\n",
       "  'globals()',\n",
       "  'p1 = person(\"홍\", 10)\\np2 = person(\"김\", 20)\\np1.putbag(\"마우스\")\\n\\np1.bag\\np2.bag',\n",
       "  'p3 = person(\"aa\", 11)\\np3.bag',\n",
       "  'class person:\\n    \\n    # 독립 변수 (??? person 안의 모든 instance가 사용가능한 변수 ???)\\n    address = \"seoul\"  \\n    bag = []\\n    \\n    def __init__(self, name, age):\\n        self.name = name\\n        self.age = age\\n        \\n    def putbag(self, goods):\\n        self.bag.append(goods)     ',\n",
       "  'p1 = person(\"홍\", 10)\\np1.address = \"busan\"\\n\\np2 = person(\"김\", 20)\\np2.address = \"inchun\"\\n\\np1.name, p2.name, p1.address, p2.address',\n",
       "  'p1 = person(\"홍\", 10)\\np2 = person(\"김\", 20)\\np1.putbag(\"마우스\")\\n\\nprint(p1.bag)\\nprint(p2.bag)',\n",
       "  'p3 = person(\"aa\", 11)\\np3.bag',\n",
       "  '# del p1\\n# del p2\\n\\np1.address',\n",
       "  'globals()'],\n",
       " 'Out': {13: False,\n",
       "  14: True,\n",
       "  15: False,\n",
       "  17: False,\n",
       "  30: '홍길동',\n",
       "  31: '홍길동',\n",
       "  46: '홍길동',\n",
       "  51: ('홍', '김', 'seoul', 'seoul'),\n",
       "  52: ('홍', '김', 'busan', 'inchun'),\n",
       "  54: ('홍', '김', 'busan', 'inchun'),\n",
       "  55: ['마우스', '마우스', '마우스', '마우스', '마우스'],\n",
       "  56: ['마우스', '마우스', '마우스', '마우스', '마우스'],\n",
       "  57: ['마우스', '마우스', '마우스', '마우스', '마우스'],\n",
       "  61: ['마우스', '마우스', '마우스', '마우스', '마우스'],\n",
       "  62: 'seoul',\n",
       "  63: {...},\n",
       "  64: ['마우스', '마우스', '마우스', '마우스', '마우스'],\n",
       "  65: ['마우스', '마우스', '마우스', '마우스', '마우스'],\n",
       "  67: ('홍', '김', 'busan', 'inchun'),\n",
       "  69: ['마우스'],\n",
       "  70: 'seoul'},\n",
       " 'get_ipython': <bound method InteractiveShell.get_ipython of <ipykernel.zmqshell.ZMQInteractiveShell object at 0x000001B4539A6EC8>>,\n",
       " 'exit': <IPython.core.autocall.ZMQExitAutocall at 0x1b454347708>,\n",
       " 'quit': <IPython.core.autocall.ZMQExitAutocall at 0x1b454347708>,\n",
       " '_': 'seoul',\n",
       " '__': ['마우스'],\n",
       " '___': ('홍', '김', 'busan', 'inchun'),\n",
       " '_i': '# del p1\\n# del p2\\n\\np1.address',\n",
       " '_ii': 'p3 = person(\"aa\", 11)\\np3.bag',\n",
       " '_iii': 'p1 = person(\"홍\", 10)\\np2 = person(\"김\", 20)\\np1.putbag(\"마우스\")\\n\\nprint(p1.bag)\\nprint(p2.bag)',\n",
       " '_i1': 'class person:\\n    # 속성, 메서드\\n    def eat(aa):\\n        print(\"사람은 먹는다.\")\\n    def greeting(bb):\\n        print(\"사람은 인사를 한다.\")',\n",
       " 'person': __main__.person,\n",
       " '_i2': '# person() : instance 생성한다.\\n# kim, lee 는 object 이다.\\nkim = person()\\nlee = person()\\n\\nkim.eat()\\nlee.eat()',\n",
       " 'kim': <__main__.person at 0x1b45451c048>,\n",
       " 'lee': <__main__.person at 0x1b454473648>,\n",
       " '_i3': '# person() : instance 생성한다.\\n# kim, lee 는 object 이다.\\nkim = person()\\nlee = person()\\n\\nkim.eat()\\nlee.eat()\\n\\nkim.greeting()\\nlee.greeting()',\n",
       " '_i4': 'print(type(kim))',\n",
       " '_i5': 'a = int(10)\\nprint(type(a))',\n",
       " 'a': {'name': '홍길동', 'age': 30},\n",
       " '_i6': 'kim = person()\\nkim.hello()',\n",
       " '_i7': 'class person:\\n    # 속성, 메서드\\n    def eat(aa):\\n        print(\"사람은 먹는다.\")\\n    def greeting(bb):\\n        print(\"사람은 인사를 한다.\")\\n    def hello(aa):\\n        print(\"hello~~~\")',\n",
       " '_i8': 'kim = person()\\nkim.hello()    ',\n",
       " '_i9': 'class person:\\n    # 속성, 메서드\\n    def eat(aa):\\n        print(\"사람은 먹는다.\")\\n    def greeting(bb):\\n        print(\"사람은 인사를 한다.\")\\n    def hello(aa):\\n        print(\"hello~~~\")\\n        aa.greeting()',\n",
       " '_i10': 'kim = person()\\nkim.hello()    ',\n",
       " '_i11': 'class person:\\n    # 속성, 메서드\\n    def eat(self):\\n        print(\"사람은 먹는다.\")\\n    def greeting(self):\\n        print(\"사람은 인사를 한다.\")\\n    def hello(self):\\n        print(\"hello~~~\")\\n        self.greeting()',\n",
       " '_i12': 'kim = person()\\nkim.hello()    ',\n",
       " '_i13': 'kim = person()\\nkim.hello()\\n\\nisinstance(a, person)',\n",
       " '_13': False,\n",
       " '_i14': 'kim = person()\\nkim.hello()\\n\\nisinstance(a, person)\\nisinstance(a, int)',\n",
       " '_14': True,\n",
       " '_i15': 'kim = person()\\nkim.hello()\\n\\nisinstance(a, person)\\n# isinstance(a, int)',\n",
       " '_15': False,\n",
       " '_i16': 'a = int(10)',\n",
       " '_i17': 'kim = person()\\nkim.hello()\\n\\nisinstance(a, person)\\n# isinstance(a, int)',\n",
       " '_17': False,\n",
       " '_i18': 'class person:\\n    # 속성, 메서드\\n    \\n    #__init__메서드는 class를 이용해서 object 생성시 자동 호출됩니다.\\n    \\n    def __init__(self, name2, age2):\\n        print(\"사람객체가 생성됩니다.\")\\n        self.name = name2\\n        self.age = age2\\n        \\n    def personInfo(self):\\n        print(\"이름은 {}이고 나이는 {}입니다.\".format(self.name, self.age))\\n\\n    def eat(self):\\n        print(\"사람은 먹는다.\")\\n    def greeting(self):\\n        print(\"사람은 인사를 한다.\")\\n    def hello(self):\\n        print(\"hello~~~\")\\n        self.greeting()',\n",
       " '_i19': 'kim = person()',\n",
       " '_i20': 'kim = person(\"김길동\", 20)',\n",
       " '_i21': 'kim = person(\"김길동\", 20)   # argument를 두 개 꼭 넣어줘야 한다.\\n\\nprint(kim.name)',\n",
       " '_i22': 'kim = person(\"김길동\", 20)   # argument를 두 개 꼭 넣어줘야 한다.\\n\\nprint(kim.name)\\nprint(kim.age)',\n",
       " '_i23': 'kim = person(\"김길동\", 20)   # argument를 두 개 꼭 넣어줘야 한다.\\n\\nprint(kim.name)\\nprint(kim.age)\\n\\nkim.personInfo()',\n",
       " '_i24': '# 정의\\nclass person:\\n    # 변수(값을 저장), 메서드(기능을 정의)\\n    def __init__(self, name2, age2):      # name2, ag2 는 지역 변수\\n        self.변수 = \"값\"\\n        self.su = 100\\n        self.name = name2\\n        self.age = age2\\n        \\n    def display(aa):\\n        print(\"이름:{}\".format(aa.name))\\n        print(\"나이:{}\".format(aa.age))\\n        print(\"변수:{}\".format(aa.변수))\\n        print(\"su:{}\".format(aa.su))\\n        print(\"-\"*50)',\n",
       " '_i25': 'p1 = person(\"홍길동\", 20)\\np1.display()',\n",
       " '_i26': 'p1 = person(\"홍길동\", 20)\\np1.display(\"*\")',\n",
       " '_i27': '# 정의\\nclass person:\\n    # 변수(값을 저장), 메서드(기능을 정의)\\n    def __init__(self, name2, age2):      # name2, ag2 는 지역 변수\\n        self.변수 = \"값\"\\n        self.su = 100\\n        self.name = name2\\n        self.age = age2\\n        \\n    def display(aa, deco):\\n        print(\"이름:{}\".format(aa.name))\\n        print(\"나이:{}\".format(aa.age))\\n        print(\"변수:{}\".format(aa.변수))\\n        print(\"su:{}\".format(aa.su))\\n        print(deco*50)',\n",
       " '_i28': 'p1 = person(\"홍길동\", 20)\\np1.display(\"*\")',\n",
       " '_i29': 'p1 = person(\"홍길동\", 20)\\np1.display(\"^\")',\n",
       " '_i30': 'p1 = person(\"홍길동\", 20)\\np1.display(\"^\")\\n\\np1.name',\n",
       " '_30': '홍길동',\n",
       " '_i31': 'p1 = person(\"홍길동\", 20)\\np1.display(\"=\")\\n\\np1.name',\n",
       " '_31': '홍길동',\n",
       " '_i32': '# 정의\\nclass person:\\n    # 변수(값을 저장), 메서드(기능을 정의)\\n    def __init__(self, *args):      # name2, ag2 는 지역 변수\\n        self.변수 = \"값\"\\n        self.su = 100\\n        self.name = args[0]\\n        self.age = args[1]\\n        \\n    def display(aa, deco):\\n        print(\"이름:{}\".format(aa.name))\\n        print(\"나이:{}\".format(aa.age))\\n        print(\"변수:{}\".format(aa.변수))\\n        print(\"su:{}\".format(aa.su))\\n        print(deco*50)',\n",
       " '_i33': 'p1 = person(\"홍길동\", 20)\\np1.display(\"*\")',\n",
       " '_i34': 'alist = [\"홍길동\", 20]\\n# p1 = person(\"홍길동\", 20)\\np1 = person(*alist)\\np1.display(\"+\")',\n",
       " 'alist': ['홍길동', 20],\n",
       " '_i35': 'alist = [\"홍길동\", 20]\\n\\n# p1 = person(alist)     # 파라메터로 하나가 간다 ... arg[1] 에 해당하는 값이 없다  =>  에러\\np1 = person(*alist)      # alist의 값이 unpacking ... 파라메터가 2개 간다\\np1.display(\"=\")',\n",
       " '_i36': 'p1 = person(name = \"홍길동\", age = 30) \\np1 = person()      # alist의 값이 unpacking ... 파라메터가 2개 간다\\np1.display(\"=\")',\n",
       " '_i37': 'p1 = person(name = \"홍길동\", age = 30) \\n#p1 = person()      # alist의 값이 unpacking ... 파라메터가 2개 간다\\np1.display(\"=\")',\n",
       " '_i38': '#p1 = person(name = \"홍길동\", age = 30) \\n\\na = {\"name\":\"홍길동\", \"age\":30}\\np1 = person(**a) \\np1.display(\"=\")',\n",
       " '_i39': '# 정의\\nclass person:\\n    # 변수(값을 저장), 메서드(기능을 정의)\\n    def __init__(self, **kwargs):      # name2, ag2 는 지역 변수\\n        self.변수 = \"값\"\\n        self.su = 100\\n        self.name = kwargs[\"name\"]\\n        self.age = kwargs[\"age\"]\\n        \\n    def display(aa, deco):\\n        print(\"이름:{}\".format(aa.name))\\n        print(\"나이:{}\".format(aa.age))\\n        print(\"변수:{}\".format(aa.변수))\\n        print(\"su:{}\".format(aa.su))\\n        print(deco*50)',\n",
       " '_i40': '#p1 = person(name = \"홍길동\", age = 30) \\n\\na = {\"name\":\"홍길동\", \"age\":30}\\np1 = person(**a) \\np1.display(\"=\")',\n",
       " '_i41': '# 정의\\nclass person:\\n    # 변수(값을 저장), 메서드(기능을 정의)\\n    def __init__(self, **kwargs):      # name2, ag2 는 지역 변수\\n        self.변수 = \"값\"\\n        self.su = 100\\n        self.__name = kwargs[\"name\"]\\n        self.__age = kwargs[\"age\"]\\n        \\n    def display(aa, deco):\\n        print(\"이름:{}\".format(aa.__name))\\n        print(\"나이:{}\".format(aa.__age))\\n        print(\"변수:{}\".format(aa.변수))\\n        print(\"su:{}\".format(aa.su))\\n        print(deco*50)',\n",
       " '_i42': '#p1 = person(name = \"홍길동\", age = 30) \\n\\na = {\"name\":\"홍길동\", \"age\":30}\\np1 = person(**a) \\np1.display(\"=\")',\n",
       " '_i43': 'p1.__name',\n",
       " '_i44': '# 정의\\nclass person:\\n    # 변수(값을 저장), 메서드(기능을 정의)\\n    def __init__(self, **kwargs):      # name2, ag2 는 지역 변수\\n        self.변수 = \"값\"\\n        self.su = 100\\n        self.name = kwargs[\"name\"]\\n        self.age = kwargs[\"age\"]\\n        \\n    def display(aa, deco):\\n        print(\"이름:{}\".format(aa.name))\\n        print(\"나이:{}\".format(aa.age))\\n        print(\"변수:{}\".format(aa.변수))\\n        print(\"su:{}\".format(aa.su))\\n        print(deco*50)',\n",
       " '_i45': '#p1 = person(name = \"홍길동\", age = 30) \\n\\na = {\"name\":\"홍길동\", \"age\":30}\\np1 = person(**a) \\np1.display(\"=\")',\n",
       " '_i46': 'p1.name',\n",
       " '_46': '홍길동',\n",
       " '_i47': '# 정의\\nclass person:\\n    # 변수(값을 저장), 메서드(기능을 정의)\\n    \\n    # 정보 은닉을 위해 변수 이름 앞에 __를 붙인다.\\n    \\n    def __init__(self, **kwargs):      # name2, ag2 는 지역 변수\\n        self.변수 = \"값\"\\n        self.su = 100\\n        self.__name = kwargs[\"name\"]\\n        self.__age = kwargs[\"age\"]\\n        \\n    def __info(self):\\n        print(\"person 정보입니다.\")\\n        \\n    def display(aa, deco):\\n        aa.__info()\\n        print(\"이름:{}\".format(aa.__name))\\n        print(\"나이:{}\".format(aa.__age))\\n        print(\"변수:{}\".format(aa.변수))\\n        print(\"su:{}\".format(aa.su))\\n        print(deco*50)',\n",
       " '_i48': '#p1 = person(name = \"홍길동\", age = 30) \\n\\na = {\"name\":\"홍길동\", \"age\":30}\\np1 = person(**a) \\np1.display(\"=\")',\n",
       " '_i49': 'p1.__info()',\n",
       " '_i50': 'class person:\\n    \\n    # 공유 변수 (person 안의 모든 instance가 사용가능한 변수)\\n    address = \"seoul\"  \\n    \\n    def __init__(self, name, age):\\n        self.name = name\\n        self.age = age\\n        ',\n",
       " '_i51': 'p1 = person(\"홍\", 10)\\np2 = person(\"김\", 20)\\n\\np1.name, p2.name, p1.address, p2.address',\n",
       " '_51': ('홍', '김', 'seoul', 'seoul'),\n",
       " '_i52': 'p1 = person(\"홍\", 10)\\np1.address = \"busan\"\\n\\np2 = person(\"김\", 20)\\np2.address = \"inchun\"\\n\\np1.name, p2.name, p1.address, p2.address',\n",
       " '_52': ('홍', '김', 'busan', 'inchun'),\n",
       " '_i53': 'class person:\\n    \\n    # 독립 변수 (??? person 안의 모든 instance가 사용가능한 변수 ???)\\n    address = \"seoul\"  \\n    bag = []\\n    \\n    def __init__(self, name, age):\\n        self.name = name\\n        self.age = age\\n        \\n    def putbag(self, goods):\\n        self.bag.append(goods\\n                       )\\n        ',\n",
       " '_i54': 'p1 = person(\"홍\", 10)\\np1.address = \"busan\"\\n\\np2 = person(\"김\", 20)\\np2.address = \"inchun\"\\n\\np1.name, p2.name, p1.address, p2.address',\n",
       " '_54': ('홍', '김', 'busan', 'inchun'),\n",
       " '_i55': 'p1 = person(\"홍\", 10)\\np2 = person(\"김\", 20)\\np1.putbag(\"마우스\")\\n\\np1.bag\\np2.bag',\n",
       " '_55': ['마우스', '마우스', '마우스', '마우스', '마우스'],\n",
       " '_i56': 'p1 = person(\"홍\", 10)\\np2 = person(\"김\", 20)\\np1.putbag(\"마우스\")\\n\\np1.bag\\np2.bag',\n",
       " '_56': ['마우스', '마우스', '마우스', '마우스', '마우스'],\n",
       " '_i57': 'p1 = person(\"홍\", 10)\\np2 = person(\"김\", 20)\\np1.putbag(\"마우스\")\\n\\np1.bag\\np2.bag',\n",
       " '_57': ['마우스', '마우스', '마우스', '마우스', '마우스'],\n",
       " '_i58': 'del p1\\n#del p2',\n",
       " '_i59': 'del p1\\ndel p2',\n",
       " '_i60': '#del p1\\ndel p2',\n",
       " '_i61': 'p1 = person(\"홍\", 10)\\np2 = person(\"김\", 20)\\np1.putbag(\"마우스\")\\n\\np1.bag\\np2.bag',\n",
       " 'p1': <__main__.person at 0x1b45451a608>,\n",
       " 'p2': <__main__.person at 0x1b45451ad88>,\n",
       " '_61': ['마우스', '마우스', '마우스', '마우스', '마우스'],\n",
       " '_i62': '# del p1\\n# del p2\\n\\np1.address',\n",
       " '_62': 'seoul',\n",
       " '_i63': 'globals()',\n",
       " '_63': {...},\n",
       " '_i64': 'p1 = person(\"홍\", 10)\\np2 = person(\"김\", 20)\\np1.putbag(\"마우스\")\\n\\np1.bag\\np2.bag',\n",
       " '_64': ['마우스', '마우스', '마우스', '마우스', '마우스'],\n",
       " '_i65': 'p3 = person(\"aa\", 11)\\np3.bag',\n",
       " 'p3': <__main__.person at 0x1b45451a508>,\n",
       " '_65': ['마우스', '마우스', '마우스', '마우스', '마우스'],\n",
       " '_i66': 'class person:\\n    \\n    # 독립 변수 (??? person 안의 모든 instance가 사용가능한 변수 ???)\\n    address = \"seoul\"  \\n    bag = []\\n    \\n    def __init__(self, name, age):\\n        self.name = name\\n        self.age = age\\n        \\n    def putbag(self, goods):\\n        self.bag.append(goods)     ',\n",
       " '_i67': 'p1 = person(\"홍\", 10)\\np1.address = \"busan\"\\n\\np2 = person(\"김\", 20)\\np2.address = \"inchun\"\\n\\np1.name, p2.name, p1.address, p2.address',\n",
       " '_67': ('홍', '김', 'busan', 'inchun'),\n",
       " '_i68': 'p1 = person(\"홍\", 10)\\np2 = person(\"김\", 20)\\np1.putbag(\"마우스\")\\n\\nprint(p1.bag)\\nprint(p2.bag)',\n",
       " '_i69': 'p3 = person(\"aa\", 11)\\np3.bag',\n",
       " '_69': ['마우스'],\n",
       " '_i70': '# del p1\\n# del p2\\n\\np1.address',\n",
       " '_70': 'seoul',\n",
       " '_i71': 'globals()'}"
      ]
     },
     "execution_count": 71,
     "metadata": {},
     "output_type": "execute_result"
    }
   ],
   "source": [
    "globals()"
   ]
  },
  {
   "cell_type": "code",
   "execution_count": 84,
   "metadata": {},
   "outputs": [],
   "source": [
    "# 정적 함수 : @staticmethod\n",
    "class calc:\n",
    "    \n",
    "    # class 를 이용해서 만든 독립된 객체들의 특징을 정의한다.\n",
    "   \n",
    "    # 인스턴스 메서드\n",
    "    def __init__(self, color):\n",
    "        self.colr = color\n",
    "    \n",
    "    # 정적 메서드 ... class\n",
    "    @staticmethod\n",
    "    def add(a, b):\n",
    "        return a + b\n",
    "    \n",
    "    @staticmethod\n",
    "    def mul(a, b):\n",
    "        return a * b"
   ]
  },
  {
   "cell_type": "code",
   "execution_count": 85,
   "metadata": {},
   "outputs": [
    {
     "data": {
      "text/plain": [
       "30"
      ]
     },
     "execution_count": 85,
     "metadata": {},
     "output_type": "execute_result"
    }
   ],
   "source": [
    "c1 = calc(\"red\")\n",
    "c2 = calc(\"blue\")\n",
    "\n",
    "c1.add(10, 20)\n",
    "c2.add(10, 20)\n",
    "calc.add(10, 20)    # 더 바람직한 표현"
   ]
  },
  {
   "cell_type": "code",
   "execution_count": 88,
   "metadata": {},
   "outputs": [
    {
     "name": "stdout",
     "output_type": "stream",
     "text": [
      "HELLO\n",
      "Hello <class 'str'>\n",
      "{1, 2, 3, 4} <class 'set'>\n"
     ]
    }
   ],
   "source": [
    "s = str(\"Hello\")\n",
    "\n",
    "# instance 메서드\n",
    "print(s.upper())\n",
    "\n",
    "print(s, type(s))\n",
    "\n",
    "a = {1,2,3,4}\n",
    "print(a, type(a))\n",
    "\n",
    "# instance 메서드\n",
    "a.update({99})\n",
    "print(a)\n",
    "\n",
    "# class 메서드\n",
    "# a = a.union({88})\n",
    "a = set.union(a, {88})    # 더 바람직한 표현\n",
    "print(a)"
   ]
  },
  {
   "cell_type": "code",
   "execution_count": 89,
   "metadata": {},
   "outputs": [],
   "source": [
    "class person:\n",
    "    \n",
    "    # instance 들의 공유 수, instance 가 변수를 수정하면 공유 변수 복사, instance 변수\n",
    "    count = 0\n",
    "   \n",
    "    # 인스턴스 메서드\n",
    "    def __init__(self, name2):\n",
    "        \n",
    "        # 인스턴스 변수\n",
    "        self.name = name2\n",
    "        person.count += 1\n",
    "        print(\"person 이 생성됩니다.\")\n",
    "    \n",
    "    # 인스턴스 메서드\n",
    "    def info(self):\n",
    "        print(\"instance method 입니다.\")\n",
    "    \n",
    "    # 정적 메서드 ... class\n",
    "    @staticmethod\n",
    "    def display():\n",
    "        print(\"staticemethod 입니다.\" ,person.count)\n",
    "    \n",
    "    @classmethod\n",
    "    def getcount(cls):\n",
    "        print(\"classmethod 입니다.\" ,person.count)"
   ]
  },
  {
   "cell_type": "code",
   "execution_count": 92,
   "metadata": {},
   "outputs": [
    {
     "name": "stdout",
     "output_type": "stream",
     "text": [
      "person 이 생성됩니다.\n",
      "person 이 생성됩니다.\n",
      "person 이 생성됩니다.\n",
      "instance method 입니다.\n",
      "staticemethod 입니다. 6\n",
      "staticemethod 입니다. 6\n",
      "classmethod 입니다. 6\n"
     ]
    }
   ],
   "source": [
    "p1 = person(\"kim\")\n",
    "p2 = person(\"kim2\")\n",
    "p3 = person(\"kim2\")\n",
    "p1.info()\n",
    "p1.display()         # 비추\n",
    "person.display()     # 더 바람직한 표현\n",
    "person.getcount()"
   ]
  },
  {
   "cell_type": "markdown",
   "metadata": {},
   "source": [
    "# 클래스 상속"
   ]
  },
  {
   "cell_type": "markdown",
   "metadata": {},
   "source": [
    "class person(object):\n",
    "    \n",
    "    def __init__(self):"
   ]
  },
  {
   "cell_type": "code",
   "execution_count": 93,
   "metadata": {},
   "outputs": [
    {
     "data": {
      "text/plain": [
       "[__main__.person, object]"
      ]
     },
     "execution_count": 93,
     "metadata": {},
     "output_type": "execute_result"
    }
   ],
   "source": [
    "person.mro()"
   ]
  },
  {
   "cell_type": "code",
   "execution_count": 110,
   "metadata": {},
   "outputs": [],
   "source": [
    "class person:\n",
    "    def __init__(self):\n",
    "        print(\"person init~~\")\n",
    "        self.hello = \"부모에서 setting\"\n",
    "    \n",
    "    def greeting(self):\n",
    "        print(\"인사합니다.\")\n",
    "        \n",
    "# 상속\n",
    "class student(person):\n",
    "    \n",
    "    # override (덮어쓰기, 재정의)  ... 상위의 메서드가 호출되지 않는다.\n",
    "    def __init__(self):\n",
    "        super().__init__()     ## super() 은 상위(person) 를 뜻함\n",
    "        print(\"student init~~\")\n",
    "        self.school = \"자식에서 setting\"\n",
    "    \n",
    "    def study(self):\n",
    "        print(\"공부합니다.\")"
   ]
  },
  {
   "cell_type": "code",
   "execution_count": 111,
   "metadata": {},
   "outputs": [
    {
     "name": "stdout",
     "output_type": "stream",
     "text": [
      "person init~~\n",
      "student init~~\n",
      "인사합니다.\n",
      "공부합니다.\n"
     ]
    }
   ],
   "source": [
    "s1 = student()\n",
    "s1.greeting()\n",
    "s1.study()"
   ]
  },
  {
   "cell_type": "code",
   "execution_count": 113,
   "metadata": {},
   "outputs": [
    {
     "name": "stdout",
     "output_type": "stream",
     "text": [
      "person init~~\n",
      "student init~~\n",
      "부모에서 setting\n",
      "자식에서 setting\n"
     ]
    }
   ],
   "source": [
    "s1 = student()\n",
    "print(s1.hello)\n",
    "print(s1.school)"
   ]
  },
  {
   "cell_type": "code",
   "execution_count": 116,
   "metadata": {
    "scrolled": true
   },
   "outputs": [
    {
     "data": {
      "text/plain": [
       "[__main__.student, __main__.person, object]"
      ]
     },
     "execution_count": 116,
     "metadata": {},
     "output_type": "execute_result"
    }
   ],
   "source": [
    "student.mro()"
   ]
  },
  {
   "cell_type": "code",
   "execution_count": 115,
   "metadata": {},
   "outputs": [
    {
     "ename": "TypeError",
     "evalue": "issubclass() arg 1 must be a class",
     "output_type": "error",
     "traceback": [
      "\u001b[1;31m---------------------------------------------------------------------------\u001b[0m",
      "\u001b[1;31mTypeError\u001b[0m                                 Traceback (most recent call last)",
      "\u001b[1;32m<ipython-input-115-076e300683b9>\u001b[0m in \u001b[0;36m<module>\u001b[1;34m\u001b[0m\n\u001b[0;32m      1\u001b[0m \u001b[1;31m#issubclass(student, person)\u001b[0m\u001b[1;33m\u001b[0m\u001b[1;33m\u001b[0m\u001b[1;33m\u001b[0m\u001b[0m\n\u001b[1;32m----> 2\u001b[1;33m \u001b[0missubclass\u001b[0m\u001b[1;33m(\u001b[0m\u001b[0ms1\u001b[0m\u001b[1;33m,\u001b[0m \u001b[0mstudent\u001b[0m\u001b[1;33m)\u001b[0m\u001b[1;33m\u001b[0m\u001b[1;33m\u001b[0m\u001b[0m\n\u001b[0m\u001b[0;32m      3\u001b[0m \u001b[1;31m#issubclass(s1, person)\u001b[0m\u001b[1;33m\u001b[0m\u001b[1;33m\u001b[0m\u001b[1;33m\u001b[0m\u001b[0m\n\u001b[0;32m      4\u001b[0m \u001b[1;31m#issubclass(s1, object)\u001b[0m\u001b[1;33m\u001b[0m\u001b[1;33m\u001b[0m\u001b[1;33m\u001b[0m\u001b[0m\n",
      "\u001b[1;31mTypeError\u001b[0m: issubclass() arg 1 must be a class"
     ]
    }
   ],
   "source": [
    "issubclass(student, person)\n",
    "issubclass(s1, student)\n",
    "issubclass(s1, person)\n",
    "issubclass(s1, object)"
   ]
  },
  {
   "cell_type": "code",
   "execution_count": 128,
   "metadata": {},
   "outputs": [],
   "source": [
    "class Person:\n",
    "    def __init__(self, name, age):\n",
    "        print(\"person init\")\n",
    "        self.name = name\n",
    "        self.age = age\n",
    "        \n",
    "    def greeting(self):\n",
    "        print('{}님 안녕하세요.'.format(self.name))\n",
    "\n",
    "class Student(Person):\n",
    "    def __init__(self, name, age, major):\n",
    "        super().__init__(name, age)\n",
    "        self.major = major\n",
    "        \n",
    "        print(\"student init\")\n",
    "    \n",
    "    # 덮어쓰기 (override)\n",
    "    def greeting(self):\n",
    "        super().greeting()      # 상위(부모)메서드 호출\n",
    "        print('안녕하세요. 저는 파이썬 코딩 도장 학생입니다.', self.major)"
   ]
  },
  {
   "cell_type": "code",
   "execution_count": 129,
   "metadata": {},
   "outputs": [
    {
     "name": "stdout",
     "output_type": "stream",
     "text": [
      "person init\n",
      "student init\n",
      "임예나님 안녕하세요.\n",
      "안녕하세요. 저는 파이썬 코딩 도장 학생입니다. 통계\n"
     ]
    }
   ],
   "source": [
    "s1 = Student(\"임예나\", 20, \"통계\")\n",
    "s1.greeting()"
   ]
  },
  {
   "cell_type": "code",
   "execution_count": 140,
   "metadata": {},
   "outputs": [],
   "source": [
    "class Person:\n",
    "    def greeting(self):\n",
    "        print('안녕하세요.')\n",
    "\n",
    "class University:\n",
    "    def greeting(self):\n",
    "        print('안녕하세요. University')\n",
    "        \n",
    "    def manage_credit(self):\n",
    "        print('학점 관리')\n",
    "    def study(self):\n",
    "        print('공부하기 University')\n",
    "\n",
    "class Undergraduate(Person, University):\n",
    "    def study(self):\n",
    "        print('공부하기')"
   ]
  },
  {
   "cell_type": "code",
   "execution_count": 141,
   "metadata": {},
   "outputs": [
    {
     "data": {
      "text/plain": [
       "[__main__.Undergraduate, __main__.Person, __main__.University, object]"
      ]
     },
     "execution_count": 141,
     "metadata": {},
     "output_type": "execute_result"
    }
   ],
   "source": [
    "Undergraduate.mro()"
   ]
  },
  {
   "cell_type": "code",
   "execution_count": 142,
   "metadata": {},
   "outputs": [
    {
     "name": "stdout",
     "output_type": "stream",
     "text": [
      "공부하기\n",
      "학점 관리\n",
      "안녕하세요.\n"
     ]
    }
   ],
   "source": [
    "a = Undergraduate()\n",
    "a.study()\n",
    "a.manage_credit()\n",
    "a.greeting()"
   ]
  },
  {
   "cell_type": "code",
   "execution_count": 143,
   "metadata": {},
   "outputs": [],
   "source": [
    "# 추상 클래스 사용하기 : 정의는 있고(틀만 있고) 구현은 없다.\n",
    "# 추상 클래스를 상속받은 자식이 ★반드시★ 구현을 한다."
   ]
  },
  {
   "cell_type": "code",
   "execution_count": null,
   "metadata": {},
   "outputs": [],
   "source": [
    "from abc import *\n",
    " \n",
    "class StudentBase(metaclass=ABCMeta):\n",
    "    @abstractmethod\n",
    "    def study(self):\n",
    "        pass\n",
    " \n",
    "    @abstractmethod\n",
    "    def go_to_school(self):\n",
    "        pass\n",
    "\n",
    "class Student(StudentBase):\n",
    "    def study(self):\n",
    "        print('공부하기')\n",
    "    \n",
    "    def go_to_school(self):\n",
    "        print(\"학교에 갑니다.\")"
   ]
  },
  {
   "cell_type": "code",
   "execution_count": 145,
   "metadata": {},
   "outputs": [
    {
     "ename": "TypeError",
     "evalue": "__init__() missing 3 required positional arguments: 'name', 'age', and 'major'",
     "output_type": "error",
     "traceback": [
      "\u001b[1;31m---------------------------------------------------------------------------\u001b[0m",
      "\u001b[1;31mTypeError\u001b[0m                                 Traceback (most recent call last)",
      "\u001b[1;32m<ipython-input-145-628f1e3a7a07>\u001b[0m in \u001b[0;36m<module>\u001b[1;34m\u001b[0m\n\u001b[1;32m----> 1\u001b[1;33m \u001b[0ma\u001b[0m \u001b[1;33m=\u001b[0m \u001b[0mStudent\u001b[0m\u001b[1;33m(\u001b[0m\u001b[1;33m)\u001b[0m\u001b[1;33m\u001b[0m\u001b[1;33m\u001b[0m\u001b[0m\n\u001b[0m",
      "\u001b[1;31mTypeError\u001b[0m: __init__() missing 3 required positional arguments: 'name', 'age', and 'major'"
     ]
    }
   ],
   "source": [
    "a = Student()"
   ]
  },
  {
   "cell_type": "markdown",
   "metadata": {},
   "source": [
    "# 예외 처리\n",
    "프로그램 실행시 중단되지 않고 정상 종료하도록 하기 위해"
   ]
  },
  {
   "cell_type": "code",
   "execution_count": 162,
   "metadata": {},
   "outputs": [
    {
     "name": "stdout",
     "output_type": "stream",
     "text": [
      "피젯수(나누어지는 수), 젯수(나누는 수)를 입력 >> 0,0\n",
      "ZeroDivisionError 0으로 나눌 수 없음 예외 발생\n",
      "반드시 수행한다.\n",
      "프로그램 종료\n"
     ]
    }
   ],
   "source": [
    "a = [10, 20, 30]\n",
    "index, b = map(int, input(\"피젯수(나누어지는 수), 젯수(나누는 수)를 입력 >> \").split(\",\"))\n",
    "\n",
    "try:\n",
    "    # 예외 발생 가능성이 있는 문장들\n",
    "    c = a[index] / b\n",
    "    print(c)\n",
    "    \n",
    "except TypeError:              ## ex) 위에서 map, int 함수 안주었을 때\n",
    "    print(\"TypeError 예외 발생했을 때 수행한다.\")\n",
    "    \n",
    "except ZeroDivisionError:      ## ex) 0, 0\n",
    "    print(\"ZeroDivisionError 0으로 나눌 수 없음 예외 발생\")\n",
    "    \n",
    "#except IndexError:             ## ex) 5, 2\n",
    "#    print(\"IndexError 예외 발생\")\n",
    "    \n",
    "except Exception as aa:\n",
    "    print(\"기타 예외\", aa)   # 어디가 오류인지 알려줌\n",
    "    \n",
    "else:                            # 예외가 발생하지 않았을 때 실행할 코드\n",
    "    print(\"예외 발생 없음\")\n",
    "    \n",
    "finally:                        # 예외 발생 여부와 상관없이 항상 실행할 코드\n",
    "    print(\"반드시 수행한다.\")\n",
    "    \n",
    "\n",
    "print(\"프로그램 종료\")"
   ]
  },
  {
   "cell_type": "code",
   "execution_count": 163,
   "metadata": {},
   "outputs": [
    {
     "name": "stdout",
     "output_type": "stream",
     "text": [
      "a는 10보다 작아야한다.\n"
     ]
    }
   ],
   "source": [
    "a = 10\n",
    "\n",
    "if a >= 10:\n",
    "    print(\"a는 10보다 작아야한다.\")"
   ]
  },
  {
   "cell_type": "code",
   "execution_count": 164,
   "metadata": {},
   "outputs": [
    {
     "name": "stdout",
     "output_type": "stream",
     "text": [
      "3의 배수를 입력하세요: 4\n",
      "예외가 발생했습니다. 3의 배수가 아닙니다.\n"
     ]
    }
   ],
   "source": [
    "try:\n",
    "    x = int(input('3의 배수를 입력하세요: '))\n",
    "    if x % 3 != 0:                                 # x가 3의 배수가 아니면\n",
    "        raise Exception('3의 배수가 아닙니다.')    # 예외를 발생시킴\n",
    "    print(x)\n",
    "except Exception as e:                             # 예외가 발생했을 때 실행됨\n",
    "    print('예외가 발생했습니다.', e)"
   ]
  },
  {
   "cell_type": "code",
   "execution_count": 165,
   "metadata": {},
   "outputs": [
    {
     "name": "stdout",
     "output_type": "stream",
     "text": [
      "3의 배수를 입력하세요: 5\n",
      "예외가 발생했습니다. 3의 배수가 아닙니다.\n"
     ]
    }
   ],
   "source": [
    "try:\n",
    "    x = int(input('3의 배수를 입력하세요: '))\n",
    "    if x % 3 != 0:                                 # x가 3의 배수가 아니면\n",
    "        raise ArithmeticError('3의 배수가 아닙니다.')    # 예외를 발생시킴\n",
    "    print(x)\n",
    "except Exception as e:                             # 예외가 발생했을 때 실행됨\n",
    "    print('예외가 발생했습니다.', e)"
   ]
  },
  {
   "cell_type": "code",
   "execution_count": 166,
   "metadata": {},
   "outputs": [],
   "source": [
    "class NotThreeMultipleError(Exception):    # Exception을 상속받아서 새로운 예외를 만듦\n",
    "    def __init__(self):\n",
    "        super().__init__('3의 배수가 아닙니다.')"
   ]
  },
  {
   "cell_type": "code",
   "execution_count": 167,
   "metadata": {},
   "outputs": [
    {
     "name": "stdout",
     "output_type": "stream",
     "text": [
      "3의 배수를 입력하세요: 7\n",
      "예외가 발생했습니다. __init__() takes 1 positional argument but 2 were given\n"
     ]
    }
   ],
   "source": [
    "try:\n",
    "    x = int(input('3의 배수를 입력하세요: '))\n",
    "    if x % 3 != 0:                                 # x가 3의 배수가 아니면\n",
    "        raise NotThreeMultipleError('3의 배수가 아닙니다.')    # 예외를 발생시킴\n",
    "    print(x)\n",
    "except Exception as e:                             # 예외가 발생했을 때 실행됨\n",
    "    print('예외가 발생했습니다.', e)"
   ]
  },
  {
   "cell_type": "markdown",
   "metadata": {},
   "source": [
    "# 이터레이터\n",
    "값을 차례대로 꺼낼 수 있는 객체(object)"
   ]
  },
  {
   "cell_type": "code",
   "execution_count": 171,
   "metadata": {},
   "outputs": [],
   "source": [
    "# 반복 가능한 객체(iterable)\n",
    "# 요소가 여러 개 들어 있고, 한 번에 하나씩 꺼낼 수 있는 객체"
   ]
  },
  {
   "cell_type": "code",
   "execution_count": 182,
   "metadata": {},
   "outputs": [],
   "source": [
    "a = [1,2,3,4,5]\n",
    "a = \"Hello\"\n",
    "a = range(3)\n",
    "a = (1,2,3)\n",
    "a = {1,2,3}\n",
    "a = {\"name\":\"hong\", \"age\":28}\n",
    "\n",
    "#dir(a)\n",
    "it = a.__iter__()"
   ]
  },
  {
   "cell_type": "code",
   "execution_count": 183,
   "metadata": {},
   "outputs": [
    {
     "data": {
      "text/plain": [
       "'name'"
      ]
     },
     "execution_count": 183,
     "metadata": {},
     "output_type": "execute_result"
    }
   ],
   "source": [
    "it.__next__()"
   ]
  },
  {
   "cell_type": "code",
   "execution_count": 184,
   "metadata": {},
   "outputs": [],
   "source": [
    "class Counter:\n",
    "    def __init__(self, stop):\n",
    "        self.current = 0    # 현재 숫자 유지, 0부터 지정된 숫자 직전까지 반복\n",
    "        self.stop = stop    # 반복을 끝낼 숫자\n",
    " \n",
    "    def __iter__(self):\n",
    "        return self         # 현재 인스턴스를 반환\n",
    " \n",
    "    def __next__(self):\n",
    "        if self.current < self.stop:    # 현재 숫자가 반복을 끝낼 숫자보다 작을 때\n",
    "            r = self.current            # 반환할 숫자를 변수에 저장\n",
    "            self.current += 1           # 현재 숫자를 1 증가시킴\n",
    "            return r                    # 숫자를 반환\n",
    "        else:                           # 현재 숫자가 반복을 끝낼 숫자보다 크거나 같을 때\n",
    "            raise StopIteration         # 예외 발생\n",
    "    \n",
    "    def __getitem__(self, index):\n",
    "        if index < self.stop:\n",
    "            return index\n",
    "        else:\n",
    "            raise IndexError"
   ]
  },
  {
   "cell_type": "code",
   "execution_count": 185,
   "metadata": {
    "scrolled": true
   },
   "outputs": [
    {
     "data": {
      "text/plain": [
       "['__add__',\n",
       " '__class__',\n",
       " '__contains__',\n",
       " '__delattr__',\n",
       " '__delitem__',\n",
       " '__dir__',\n",
       " '__doc__',\n",
       " '__eq__',\n",
       " '__format__',\n",
       " '__ge__',\n",
       " '__getattribute__',\n",
       " '__getitem__',\n",
       " '__gt__',\n",
       " '__hash__',\n",
       " '__iadd__',\n",
       " '__imul__',\n",
       " '__init__',\n",
       " '__init_subclass__',\n",
       " '__iter__',\n",
       " '__le__',\n",
       " '__len__',\n",
       " '__lt__',\n",
       " '__mul__',\n",
       " '__ne__',\n",
       " '__new__',\n",
       " '__reduce__',\n",
       " '__reduce_ex__',\n",
       " '__repr__',\n",
       " '__reversed__',\n",
       " '__rmul__',\n",
       " '__setattr__',\n",
       " '__setitem__',\n",
       " '__sizeof__',\n",
       " '__str__',\n",
       " '__subclasshook__',\n",
       " 'append',\n",
       " 'clear',\n",
       " 'copy',\n",
       " 'count',\n",
       " 'extend',\n",
       " 'index',\n",
       " 'insert',\n",
       " 'pop',\n",
       " 'remove',\n",
       " 'reverse',\n",
       " 'sort']"
      ]
     },
     "execution_count": 185,
     "metadata": {},
     "output_type": "execute_result"
    }
   ],
   "source": [
    "dir(list)"
   ]
  },
  {
   "cell_type": "code",
   "execution_count": 186,
   "metadata": {},
   "outputs": [
    {
     "name": "stdout",
     "output_type": "stream",
     "text": [
      "0 1 2\n"
     ]
    }
   ],
   "source": [
    "a = Counter(3)\n",
    "print(a[0], a[1], a[2])"
   ]
  },
  {
   "cell_type": "code",
   "execution_count": 187,
   "metadata": {},
   "outputs": [],
   "source": [
    "a = Counter(3)\n",
    "\n",
    "it = a.__iter__()"
   ]
  },
  {
   "cell_type": "code",
   "execution_count": 188,
   "metadata": {},
   "outputs": [
    {
     "data": {
      "text/plain": [
       "0"
      ]
     },
     "execution_count": 188,
     "metadata": {},
     "output_type": "execute_result"
    }
   ],
   "source": [
    "it.__next__()"
   ]
  },
  {
   "cell_type": "code",
   "execution_count": 189,
   "metadata": {},
   "outputs": [
    {
     "name": "stdout",
     "output_type": "stream",
     "text": [
      "1\n",
      "2\n"
     ]
    }
   ],
   "source": [
    "for val in a:\n",
    "    print(val)"
   ]
  },
  {
   "cell_type": "markdown",
   "metadata": {},
   "source": [
    "# 제너레이터\n",
    "이터레이터를 쉽게 생성해주는 함수"
   ]
  },
  {
   "cell_type": "code",
   "execution_count": 190,
   "metadata": {},
   "outputs": [],
   "source": [
    "def number_generator():\n",
    "    yield 0\n",
    "    yield 1\n",
    "    yield 2"
   ]
  },
  {
   "cell_type": "code",
   "execution_count": 192,
   "metadata": {
    "scrolled": true
   },
   "outputs": [
    {
     "name": "stdout",
     "output_type": "stream",
     "text": [
      "0\n",
      "1\n",
      "2\n"
     ]
    }
   ],
   "source": [
    "for i in number_generator():\n",
    "    print(i)"
   ]
  },
  {
   "cell_type": "code",
   "execution_count": 194,
   "metadata": {
    "scrolled": true
   },
   "outputs": [
    {
     "data": {
      "text/plain": [
       "['__class__',\n",
       " '__del__',\n",
       " '__delattr__',\n",
       " '__dir__',\n",
       " '__doc__',\n",
       " '__eq__',\n",
       " '__format__',\n",
       " '__ge__',\n",
       " '__getattribute__',\n",
       " '__gt__',\n",
       " '__hash__',\n",
       " '__init__',\n",
       " '__init_subclass__',\n",
       " '__iter__',\n",
       " '__le__',\n",
       " '__lt__',\n",
       " '__name__',\n",
       " '__ne__',\n",
       " '__new__',\n",
       " '__next__',\n",
       " '__qualname__',\n",
       " '__reduce__',\n",
       " '__reduce_ex__',\n",
       " '__repr__',\n",
       " '__setattr__',\n",
       " '__sizeof__',\n",
       " '__str__',\n",
       " '__subclasshook__',\n",
       " 'close',\n",
       " 'gi_code',\n",
       " 'gi_frame',\n",
       " 'gi_running',\n",
       " 'gi_yieldfrom',\n",
       " 'send',\n",
       " 'throw']"
      ]
     },
     "execution_count": 194,
     "metadata": {},
     "output_type": "execute_result"
    }
   ],
   "source": [
    "a = number_generator()\n",
    "dir(a)"
   ]
  },
  {
   "cell_type": "code",
   "execution_count": 195,
   "metadata": {},
   "outputs": [],
   "source": [
    "def hello():\n",
    "    print(\"hello, 함수시작\")\n",
    "    print(\"hello\")\n",
    "    print(\"hello, 함수끝\")\n",
    "    \n",
    "def hello():\n",
    "    print(\"world, 함수시작\")\n",
    "    print(\"world\")\n",
    "    print(\"world, 함수끝\")"
   ]
  },
  {
   "cell_type": "code",
   "execution_count": 196,
   "metadata": {},
   "outputs": [],
   "source": [
    "def trace(f):\n",
    "    print(f.__name__ + \"함수 시작\")\n",
    "    f()\n",
    "    print(f.__name__ + \"함수 끝----------------\")\n",
    "    print()"
   ]
  },
  {
   "cell_type": "code",
   "execution_count": 203,
   "metadata": {
    "scrolled": true
   },
   "outputs": [
    {
     "name": "stdout",
     "output_type": "stream",
     "text": [
      "hello함수 시작\n",
      "world, 함수시작\n",
      "world\n",
      "world, 함수끝\n",
      "hello함수 끝----------------\n"
     ]
    },
    {
     "ename": "NameError",
     "evalue": "name 'world' is not defined",
     "output_type": "error",
     "traceback": [
      "\u001b[1;31m---------------------------------------------------------------------------\u001b[0m",
      "\u001b[1;31mNameError\u001b[0m                                 Traceback (most recent call last)",
      "\u001b[1;32m<ipython-input-203-6870957b5d71>\u001b[0m in \u001b[0;36m<module>\u001b[1;34m\u001b[0m\n\u001b[0;32m      1\u001b[0m \u001b[0mtrace\u001b[0m\u001b[1;33m(\u001b[0m\u001b[0mhello\u001b[0m\u001b[1;33m)\u001b[0m\u001b[1;33m\u001b[0m\u001b[1;33m\u001b[0m\u001b[0m\n\u001b[1;32m----> 2\u001b[1;33m \u001b[0mtrace\u001b[0m\u001b[1;33m(\u001b[0m\u001b[0mworld\u001b[0m\u001b[1;33m)\u001b[0m\u001b[1;33m\u001b[0m\u001b[1;33m\u001b[0m\u001b[0m\n\u001b[0m",
      "\u001b[1;31mNameError\u001b[0m: name 'world' is not defined"
     ]
    }
   ],
   "source": [
    "trace(hello)\n",
    "trace(world)"
   ]
  },
  {
   "cell_type": "code",
   "execution_count": 208,
   "metadata": {
    "scrolled": true
   },
   "outputs": [
    {
     "ename": "TypeError",
     "evalue": "'NoneType' object is not callable",
     "output_type": "error",
     "traceback": [
      "\u001b[1;31m---------------------------------------------------------------------------\u001b[0m",
      "\u001b[1;31mTypeError\u001b[0m                                 Traceback (most recent call last)",
      "\u001b[1;32m<ipython-input-208-7a876d6e5a62>\u001b[0m in \u001b[0;36m<module>\u001b[1;34m\u001b[0m\n\u001b[1;32m----> 1\u001b[1;33m \u001b[0mhello\u001b[0m\u001b[1;33m(\u001b[0m\u001b[1;36m10\u001b[0m\u001b[1;33m,\u001b[0m \u001b[1;36m20\u001b[0m\u001b[1;33m)\u001b[0m\u001b[1;33m\u001b[0m\u001b[1;33m\u001b[0m\u001b[0m\n\u001b[0m",
      "\u001b[1;31mTypeError\u001b[0m: 'NoneType' object is not callable"
     ]
    }
   ],
   "source": [
    "hello(10, 20)"
   ]
  },
  {
   "cell_type": "markdown",
   "metadata": {},
   "source": [
    "# 데코레이터"
   ]
  },
  {
   "cell_type": "code",
   "execution_count": 207,
   "metadata": {},
   "outputs": [
    {
     "name": "stdout",
     "output_type": "stream",
     "text": [
      "hello함수 시작\n"
     ]
    },
    {
     "ename": "TypeError",
     "evalue": "hello() missing 2 required positional arguments: 'a' and 'b'",
     "output_type": "error",
     "traceback": [
      "\u001b[1;31m---------------------------------------------------------------------------\u001b[0m",
      "\u001b[1;31mTypeError\u001b[0m                                 Traceback (most recent call last)",
      "\u001b[1;32m<ipython-input-207-3f3592a26af4>\u001b[0m in \u001b[0;36m<module>\u001b[1;34m\u001b[0m\n\u001b[0;32m      1\u001b[0m \u001b[1;31m#@decorator1\u001b[0m\u001b[1;33m\u001b[0m\u001b[1;33m\u001b[0m\u001b[1;33m\u001b[0m\u001b[0m\n\u001b[0;32m      2\u001b[0m \u001b[1;31m#@decorator2\u001b[0m\u001b[1;33m\u001b[0m\u001b[1;33m\u001b[0m\u001b[1;33m\u001b[0m\u001b[0m\n\u001b[1;32m----> 3\u001b[1;33m \u001b[1;33m@\u001b[0m\u001b[0mtrace\u001b[0m\u001b[1;33m\u001b[0m\u001b[1;33m\u001b[0m\u001b[0m\n\u001b[0m\u001b[0;32m      4\u001b[0m \u001b[1;32mdef\u001b[0m \u001b[0mhello\u001b[0m\u001b[1;33m(\u001b[0m\u001b[0ma\u001b[0m\u001b[1;33m,\u001b[0m \u001b[0mb\u001b[0m\u001b[1;33m)\u001b[0m\u001b[1;33m:\u001b[0m\u001b[1;33m\u001b[0m\u001b[1;33m\u001b[0m\u001b[0m\n\u001b[0;32m      5\u001b[0m     \u001b[0mprint\u001b[0m\u001b[1;33m(\u001b[0m\u001b[1;34m\"안녕하세요.\"\u001b[0m\u001b[1;33m,\u001b[0m \u001b[0ma\u001b[0m \u001b[1;33m+\u001b[0m \u001b[0mb\u001b[0m\u001b[1;33m)\u001b[0m\u001b[1;33m\u001b[0m\u001b[1;33m\u001b[0m\u001b[0m\n",
      "\u001b[1;32m<ipython-input-196-5f1f2a852dff>\u001b[0m in \u001b[0;36mtrace\u001b[1;34m(f)\u001b[0m\n\u001b[0;32m      1\u001b[0m \u001b[1;32mdef\u001b[0m \u001b[0mtrace\u001b[0m\u001b[1;33m(\u001b[0m\u001b[0mf\u001b[0m\u001b[1;33m)\u001b[0m\u001b[1;33m:\u001b[0m\u001b[1;33m\u001b[0m\u001b[1;33m\u001b[0m\u001b[0m\n\u001b[0;32m      2\u001b[0m     \u001b[0mprint\u001b[0m\u001b[1;33m(\u001b[0m\u001b[0mf\u001b[0m\u001b[1;33m.\u001b[0m\u001b[0m__name__\u001b[0m \u001b[1;33m+\u001b[0m \u001b[1;34m\"함수 시작\"\u001b[0m\u001b[1;33m)\u001b[0m\u001b[1;33m\u001b[0m\u001b[1;33m\u001b[0m\u001b[0m\n\u001b[1;32m----> 3\u001b[1;33m     \u001b[0mf\u001b[0m\u001b[1;33m(\u001b[0m\u001b[1;33m)\u001b[0m\u001b[1;33m\u001b[0m\u001b[1;33m\u001b[0m\u001b[0m\n\u001b[0m\u001b[0;32m      4\u001b[0m     \u001b[0mprint\u001b[0m\u001b[1;33m(\u001b[0m\u001b[0mf\u001b[0m\u001b[1;33m.\u001b[0m\u001b[0m__name__\u001b[0m \u001b[1;33m+\u001b[0m \u001b[1;34m\"함수 끝----------------\"\u001b[0m\u001b[1;33m)\u001b[0m\u001b[1;33m\u001b[0m\u001b[1;33m\u001b[0m\u001b[0m\n",
      "\u001b[1;31mTypeError\u001b[0m: hello() missing 2 required positional arguments: 'a' and 'b'"
     ]
    }
   ],
   "source": [
    "#@decorator1\n",
    "#@decorator2\n",
    "@trace\n",
    "def hello(a, b):\n",
    "    print(\"안녕하세요.\", a + b)\n",
    "    \n",
    "@trace\n",
    "def world(a, b):\n",
    "    print(\"졸립지 않습니다.\", a * b)"
   ]
  },
  {
   "cell_type": "code",
   "execution_count": null,
   "metadata": {},
   "outputs": [],
   "source": []
  },
  {
   "cell_type": "code",
   "execution_count": null,
   "metadata": {},
   "outputs": [],
   "source": []
  },
  {
   "cell_type": "code",
   "execution_count": null,
   "metadata": {},
   "outputs": [],
   "source": []
  },
  {
   "cell_type": "code",
   "execution_count": 218,
   "metadata": {},
   "outputs": [],
   "source": [
    "def trace(f):\n",
    "    \n",
    "    def wrapper(*a, **kw):\n",
    "        print(f.__name__ + \"함수 시작\")\n",
    "        f(*a, **kw)\n",
    "        print(f.__name__ + \"함수 끝----------------\")\n",
    "        print()\n",
    "    return wrapper"
   ]
  },
  {
   "cell_type": "code",
   "execution_count": 219,
   "metadata": {},
   "outputs": [],
   "source": [
    "@trace\n",
    "def hello(*a, **kwargs):\n",
    "    print(\"안녕하세요.\", a[0], kwargs[\"name\"])\n",
    "    \n",
    "@trace\n",
    "def world(*a, **kwargs):\n",
    "    print(\"졸립지 않습니다.\", a[1])"
   ]
  },
  {
   "cell_type": "code",
   "execution_count": 220,
   "metadata": {},
   "outputs": [
    {
     "name": "stdout",
     "output_type": "stream",
     "text": [
      "hello함수 시작\n",
      "안녕하세요. 1 홍길동\n",
      "hello함수 끝----------------\n",
      "\n",
      "world함수 시작\n",
      "졸립지 않습니다. 20\n",
      "world함수 끝----------------\n",
      "\n"
     ]
    }
   ],
   "source": [
    "hello(1,2,3,4,5,6, name = \"홍길동\", age = 20)\n",
    "world(10,20,30)"
   ]
  },
  {
   "cell_type": "markdown",
   "metadata": {},
   "source": [
    "# 정규표현식"
   ]
  },
  {
   "cell_type": "code",
   "execution_count": 230,
   "metadata": {},
   "outputs": [
    {
     "data": {
      "text/plain": [
       "<re.Match object; span=(12, 18), match='Python'>"
      ]
     },
     "execution_count": 230,
     "metadata": {},
     "output_type": "execute_result"
    }
   ],
   "source": [
    "import re\n",
    "\n",
    "s = \"Hello World Python\"\n",
    "\n",
    "result = re.match(\"Hello\", s)\n",
    "result = re.match(\"World\", s)     # 중간에 있는 값 못 찾음\n",
    "\n",
    "result = re.search(\"World\", s)    # 중간에 있는 값 찾을 수 있음\n",
    "result = re.search(\"^Hello\", s)    # Hello 로 시작하는지\n",
    "result = re.search(\"Python$\", s)    # Python 으로 끝나는지\n",
    "\n",
    "\n",
    "#print(result.group())\n",
    "\n",
    "result"
   ]
  },
  {
   "cell_type": "code",
   "execution_count": 241,
   "metadata": {},
   "outputs": [],
   "source": [
    "# [] : 선택\n",
    "# - : 범위\n",
    "# [0-35-9]*\n",
    "# * : 0개 이상\n",
    "# + : 1개 이상\n",
    "# {숫자} : 개수\n",
    "\n",
    "s = \"12345\"\n",
    "\n",
    "re.match(\"[0-9]\", s)\n",
    "re.match(\"[0-9]*\", s)\n",
    "re.match(\"[0-9]+\", s)\n",
    "\n",
    "\n",
    "s = \"aaaaaaaaaabbbbbbbbbb\"\n",
    "\n",
    "re.match(\"a+b+\", s)         # a가 1개 이상, b가 1개 이상\n",
    "re.match(\"a*b\", s)          # a가 0개 이상, b가 1개\n",
    "re.match(\"a*b{2}\", s)       # a가 0개 이상, b가 2개\n",
    "\n",
    "\n",
    "s = \"010-5555-6666 aaaaaaa bbbbbbb\"\n",
    "\n",
    "re.match(\"[01]{3}-[0-9]{4}-[0-9]{4}\", s)      # 0 이나 1 이 세자리, 0 ~ 9 가 네자리, 0 ~ 9 가 네자리\n",
    "re.search(\"[01]{3}-[0-9]{4}-[0-9]{4}\", s)      # 0 이나 1 이 세자리, 0 ~ 9 가 네자리, 0 ~ 9 가 네자리\n",
    "\n",
    "\n",
    "s = \"Hello\"\n",
    "\n",
    "re.match(\"H?\", s)\n",
    "\n",
    "re.match('[가-힣]+', 'aaaaa 홍길동')"
   ]
  },
  {
   "cell_type": "code",
   "execution_count": 245,
   "metadata": {},
   "outputs": [
    {
     "data": {
      "text/plain": [
       "<re.Match object; span=(0, 5), match='54321'>"
      ]
     },
     "execution_count": 245,
     "metadata": {},
     "output_type": "execute_result"
    }
   ],
   "source": [
    "s = \"54321aaaaaaaaaa12345\"\n",
    "\n",
    "re.search(\"[0-9]+$\", s)      # 0 ~ 9까지 여러 개가 오면서 끝난다.\n",
    "re.search(\"^[0-9]+\", s)      # 0 ~ 9까지 여러 개가 오면서 시작한다."
   ]
  },
  {
   "cell_type": "code",
   "execution_count": 258,
   "metadata": {},
   "outputs": [
    {
     "data": {
      "text/plain": [
       "<re.Match object; span=(5, 10), match='12345'>"
      ]
     },
     "execution_count": 258,
     "metadata": {},
     "output_type": "execute_result"
    }
   ],
   "source": [
    "s = \"Hello12345!@#$%^&\"\n",
    "\n",
    "re.search(\"[A-Za-z]+\", s)     # 영대문자, 영소문자 여러 개\n",
    "re.search(\"\\w+\", s)           # 영대문자, 영소문자, 숫자 여러 개\n",
    "re.search(\"\\W+\", s)           # 영대문자, 영소문자, 숫자 제외한 여러 개\n",
    "\n",
    "re.search(\"[0-9]+\", s)        # 0 ~ 9 여러 개\n",
    "re.search(\"\\d+\", s)           # 숫자 여러 개\n",
    "re.search(\"\\D+\", s)           # 숫자, ?특수문자? 제외한 여러 개"
   ]
  },
  {
   "cell_type": "code",
   "execution_count": 264,
   "metadata": {},
   "outputs": [
    {
     "name": "stdout",
     "output_type": "stream",
     "text": [
      "<re.Match object; span=(7, 20), match='010-8888-9999'>\n",
      "010-8888-9999\n",
      "010-8888-9999\n",
      "010\n",
      "8888\n",
      "9999\n"
     ]
    }
   ],
   "source": [
    "s = \"aaaaaaa010-8888-9999bbbbbbbb\"\n",
    "\n",
    "result = re.search(\"([01]{3})-(\\d{4})-(\\d{4})\", s)\n",
    "\n",
    "print(result)\n",
    "print(result.group())\n",
    "print(result.group(0))\n",
    "print(result.group(1))\n",
    "print(result.group(2))\n",
    "print(result.group(3))"
   ]
  },
  {
   "cell_type": "code",
   "execution_count": 266,
   "metadata": {},
   "outputs": [
    {
     "data": {
      "text/plain": [
       "['010-8888-9999', '010-7777-3333']"
      ]
     },
     "execution_count": 266,
     "metadata": {},
     "output_type": "execute_result"
    }
   ],
   "source": [
    "s = \"aaaaaaa010-8888-9999bbbbbbbb010-7777-3333\"\n",
    "\n",
    "result = re.findall(\"([01]{3})-(\\d{4})-(\\d{4})\", s)   ## 전화번호가 두 개 들어 있을 때 사용\n",
    "result = re.findall(\"[01]{3}-\\d{4}-\\d{4}\", s)\n",
    "\n",
    "result"
   ]
  },
  {
   "cell_type": "code",
   "execution_count": 267,
   "metadata": {},
   "outputs": [
    {
     "data": {
      "text/plain": [
       "'fruit banana fruit coffee'"
      ]
     },
     "execution_count": 267,
     "metadata": {},
     "output_type": "execute_result"
    }
   ],
   "source": [
    "s = \"apple banana orange coffee\"\n",
    "\n",
    "re.sub(\"apple|orange\", \"fruit\", s)"
   ]
  },
  {
   "cell_type": "code",
   "execution_count": null,
   "metadata": {},
   "outputs": [],
   "source": []
  }
 ],
 "metadata": {
  "kernelspec": {
   "display_name": "Python 3",
   "language": "python",
   "name": "python3"
  },
  "language_info": {
   "codemirror_mode": {
    "name": "ipython",
    "version": 3
   },
   "file_extension": ".py",
   "mimetype": "text/x-python",
   "name": "python",
   "nbconvert_exporter": "python",
   "pygments_lexer": "ipython3",
   "version": "3.7.4"
  }
 },
 "nbformat": 4,
 "nbformat_minor": 2
}
